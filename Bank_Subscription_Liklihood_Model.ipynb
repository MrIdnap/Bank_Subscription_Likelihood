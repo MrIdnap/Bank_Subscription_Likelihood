{
  "cells": [
    {
      "cell_type": "markdown",
      "metadata": {
        "id": "view-in-github",
        "colab_type": "text"
      },
      "source": [
        "<a href=\"https://colab.research.google.com/github/MrIdnap/Bank_Subscription_Likelihood/blob/main/Bank_Subscription_Liklihood_Model.ipynb\" target=\"_parent\"><img src=\"https://colab.research.google.com/assets/colab-badge.svg\" alt=\"Open In Colab\"/></a>"
      ]
    },
    {
      "cell_type": "markdown",
      "metadata": {
        "id": "gmsL39qJVwSl"
      },
      "source": [
        "<center><img src=\"https://www.crim.ca/embed/banniere-science-des-donnees.jpg\" alt=\"Banniere CRIM\"></center>"
      ]
    },
    {
      "cell_type": "markdown",
      "metadata": {
        "id": "2In07Or4VwSm"
      },
      "source": [
        "\n",
        "<h1><center>SD101 - Introduction à l'Apprentissage Automatique</center></h1>\n",
        "<b>Droits sur le Notebook</b>: Copyright (c) 2021, Centre de Recherche Informatique de Montréal (CRIM)\n",
        "\n",
        "<b>Auteur:</b> Camélia Raymond, camelia.raymond@crim.ca\n",
        "\n",
        "<b>Création et mise à jour:</b> créé le 2021-06-22, dernière mise à jour le 2023-01-31, par Jérémie BLANCHARD, jeremie.blanchard@crim.ca\n",
        "\n",
        "<b>Temps estimé:</b> 1 semaine\n",
        "\n",
        "<hr>\n",
        "<h3>🗒️ Prérequis</h3>\n",
        "<DL>\n",
        "<DT><p><b><u>Connaissance du langage python</u></b></p>\n",
        "<DD><p>Ce tutoriel prend en considération que vous êtes à l'aise avec le langage de programmation Python. Tout ce tutoriel est effectué dans ce langage.\n",
        "Voici <a href=\"https://ehmatthes.github.io/pcc/cheatsheets/README.html\">un aide-mémoire</a> qui pourrait vous être utile (version anglaise uniquement). Vous pouvez aussi vous référer au module sur ce sujet, présent sur la plateforme Moodle.</p>\n",
        "<DT><p><b><u>Connaissance des librairies qui sont utilisées</u></b></p>\n",
        "<DD>Afin d'effectuer ce notebook, vous devez être à l'aise avec les librairies Pandas et Scikit-Learn. Si vous n'êtes pas à l'aise avec celles-ci, vous pouvez effectuer les exercices présents dans la section <a href=\"https://mentorat.crim.ca/course/view.php?id=7&section=5\">Librairie et Code du cours Science des Données 101 sur Moodle.</a>\n",
        "<DT><p><b><u>Compréhension des différents types de données (continues, discrètes, nominales, ordinales)</u></b></p>\n",
        "<DD><p>Vous devez comprendre la différence entre ses différents types de données et être capable d'identifier les types de données contenues dans les colonnes de votre jeu de données. Si vous ne connaissez pas les différents types de données, vous pouvez vous référer à la section <a href=\"https://mentorat.crim.ca/course/view.php?id=7&section=2\">Analyse et Transformation des Données du cours Science des Données 101 sur Moodle.</a></p>\n",
        "<DT><p><b><u>Métriques de base pour l'évaluation d'un modèle qui effectue une tâche de classification binaire (accuracy, précision, rappel) et la détection du surapprentissage</u></b></p>\n",
        "<DD><p>Lorsque vous aurez créé un modèle, vous devrez évaluer celui-ci. Pour ce faire, vous devez comprendre les métriques d'évaluation d'un modèle de classification binaire, notamment l'accuracy, la précision et le rappel, ainsi que le principe de surapprentissage. Si ce n'est pas le cas, vous pouvez vous référer à la section <a href=\"https://mentorat.crim.ca/course/view.php?id=7&section=4\">Analyse des Performances du cours Science des Données 101 sur Moodle.</a></p>\n",
        "</DL>\n",
        "<hr>\n",
        "<h3>📂 Architecture du Notebook</h3>\n",
        "Pour faciliter la lecture, ce notebook est divisé en plusieurs parties afin de vous guider au mieux tout au long de votre progression dans les exercices.\n",
        "<DL>\n",
        "<DT><b><u>Description de la section:</u></b>\n",
        "<DD>Décrit ce qui doit être fait dans cette section et pourquoi cette tâche doit être faite. Cette section peut aussi contenir des explications sur des concepts importants et des liens qui permettraient au client d'obtenir plus d'informations sur ce sujet.\n",
        "<DT><b><u>Objectifs pédagogiques:</u></b>\n",
        "<DD>Permets de clarifier ce qui doit être maîtrisé à la fin de la réalisation de cette section.\n",
        "     <div style=\"padding: 10px; margin:10px 0;border: 2px solid rgba(31, 99, 180, 0.7); color: black; margin-bottom: 15px; width:70%; border-radius: 25px;\">\n",
        "    <b>📚 Objectifs pédagogiques:</b>\n",
        "    <ul>\n",
        "      <li>Liste des objectifs pédagogiques</li>\n",
        "    </ul>\n",
        "</div>\n",
        "<DT><b><u>Cellules à compléter:</u></b>\n",
        "<DD>Permets de confirmer la compréhension de certains concepts et la compréhension du code qui est montré dans cette section.\n",
        "     <div style=\"padding: 10px; margin:10px 0; color: #4AAD64; margin-bottom: 15px;\">\n",
        "<b>✅ Vous devez compléter la case suivante.</b>\n",
        "</div>\n",
        "<DT><b><u>Question(s) à la fin d'une section:</u></b>\n",
        "<DD>Fournir des pistes de réflexion et amener le client à faire des recherches sur un sujet afin d’affiner ses connaissances. La recherche est l’une des tâches quotidiennes d’un scientifique de données. Il est donc pertinent d’amener le client à effectuer cette tâche tout au long de son apprentissage.\n",
        "     <div style=\"padding: 10px; margin:10px 0; background-color: rgba(31, 99, 180, 1); color: white; margin-bottom: 15px;\">\n",
        "💡 Question 1: Si votre jeu de données est déjà séparé en jeu d’entraînement, de validation et de test, est-ce qu’il est pertinent de faire une étude de la distribution des classes ?\n",
        "</div>\n",
        "<DT><b><u>Recommandation de formation:</u></b>\n",
        "<DD>Ce notebook prend en considération que le client possède déjà certaines connaissances. Il est possible que ce ne soit pas réellement le cas. À ces endroits, nous avons ajouté un lien qui mène à des formations, tutoriels ou aide-mémoire qui permettraient au client d'aller chercher ses connaissances.\n",
        "     <div style=\"padding: 10px; margin:10px 0; background-color: #FFEF4A; color: black; margin-bottom: 15px;\">\n",
        "<b>⚠️ Si vous éprouvez des difficultés à compléter cette case, veuillez vous référer aux tutoriels python et pandas qui sont inscrits dans la section 0.1</b>\n",
        "</div>\n",
        "<DT><b><u>Section questions du client:</u></b>\n",
        "<DD>Permets à l'apprenant d'y inscrire des questions pour chaque section. Cela permet au client de conserver une trace de ses questionnements et des réponses qu'il a soit trouvées par lui-même ou avec l'aide de son mentor. Cela permet aussi de faciliter les échanges entre l'apprenant et le mentor.\n",
        "</DL>\n",
        "<hr>"
      ]
    },
    {
      "cell_type": "markdown",
      "metadata": {
        "id": "icakSVYpVwSo"
      },
      "source": [
        "<h2><center>Analyse du sujet \"Banco\" : Prédiction des souscriptions à un service bancaire</center></h2>\n",
        "<center><img src=\"exemple_image.jpg\" alt=\"Exemple Banque\" width=\"50%\"></center>\n",
        "<h3>Introduction</h3>\n",
        "\n",
        "L'objectif de ce notebook est d'introduire les concepts de base que l'on retrouve dans tous les pipelines de création de modèles d'apprentissage automatique. Afin de faciliter la compréhension de ce pipeline, les données utilisées sont sous le format tabulaire, soit sous la forme d'un tableau (comme une feuille de calcul ou un fichier CSV). L'objectif d'un modèle entraîné sur ce type de données est de prédire la valeur d'une colonne en fonction des valeurs dans les autres colonnes.\n",
        "\n",
        "<h3>Jeu de données</h3>\n",
        "<p>Le jeu de données utilisé dans ce notebook se nomme \"Bank Marketing dataset\". C'est un jeu de données tabulaire qui a été utilisé dans plusieurs articles et qui est libre de droits. Il est donc disponible au grand public, et vous pouvez le télécharger librement en suivant le lien ci-dessous. Attention, il est possible que vous ayez besoin de créer un compte Kaggle pour y accéder. Il vous est également recommandé de lire les informations sur les colonnes (description de leur signification) disponibles sur le même lien.</p>\n",
        "<p>\n",
        "<a href=\"https://www.kaggle.com/henriqueyamahata/bank-marketing?select=bank-additional-full.csv\">https://www.kaggle.com/henriqueyamahata/bank-marketing?select=bank-additional-full.csv</a></p>\n",
        "<p><small>Crédit : [Moro et al., 2014] S. Moro, P. Cortez, and P. Rita. A Data-Driven Approach to Predict the Success of Bank Telemarketing. Decision Support Systems, Elsevier, 62:22-31, June 2014</small></p>\n",
        "\n",
        "<h3>Problématique / Contexte</h3>\n",
        "<p>L'objectif de cette analyse est de pouvoir prédire les clients qui sont le plus susceptibles de souscrire à un nouveau service bancaire. Pour ce faire, la banque fictive <b>\"Banco\"</b> vous a transmis un jeu de données contenant une <b>liste de clients ayant souscrit ou non à l'offre</b>. Grâce à ce jeu de données, \"Banco\" espère <b>mieux comprendre ses clients et recentrer le travail de ses commerciaux sur des clients qui sont le plus susceptibles de souscrire à l'offre.</b></p>\n",
        "\n",
        "<p>La problématique sur laquelle vous allez travailler est donc une problématique de <b>classification binaire (à deux solutions)</b>. Si un client adhère au dépôt à terme, la valeur prédite devrait être de 1. Au contraire, s'il ne souhaite pas adhérer au programme, la valeur prédite devrait être 0.</p>\n",
        "\n",
        "<p>Lors de la discussion préliminaire avec \"Banco\", la personne responsable de promouvoir ce produit vous a indiqué que en moyenne <b>1 personne sur 10 adhère au produit</b>. L’objectif est que l'algorithme permette de <b>diminuer le nombre d’appels nécessaires pour trouver un client</b> qui va adhérer au programme. <b>Un bon résultat serait qu’une personne sur 2 contactée s’abonne au produit</b>. Cela permettrait de grandement diminuer les efforts que la banque doit déployer.</p>\n",
        "\n",
        "<p>Un autre critère important est que <b>la banque ne veut pas passer à côté d'un client qui serait intéressé pour souscrire au produit</b>. Dans votre analyse, il sera donc essentiel de vous assurer qu'aucun client potentiellement intéressé soit oublié.</p>\n",
        "\n",
        "</br>\n",
        "<center><h4>🎉 C'est parti ! Démarrons l'analyse ! 🎉<h4></center>"
      ]
    },
    {
      "cell_type": "markdown",
      "metadata": {
        "id": "p8pWAyn-VwSo"
      },
      "source": [
        "<h3>Importer les bibliothèques et le jeu de données</h3>\n",
        "<p>Cette section nous permettra d'importer les bibliothèques qui seront utiles tout au long de l'analyse. C'est également ici que nous commencerons l'analyse de notre jeu de données pour mieux préparer la phase de prédiction avec le modèle d'apprentissage automatique.</p>\n",
        "\n",
        "<p>L'analyse du jeu de données est une étape fondamentale dans les projets d'Intelligence Artificielle. C'est cette analyse qui pose les fondations de la suite et qui permet de justifier les résultats du modèle. Prenez donc le temps de comprendre toutes ses facettes !</p>\n",
        "\n",
        "<div style=\"padding: 10px; margin:10px 0; border: 2px solid rgba(31, 99, 180, 0.7); color: black; margin-bottom: 15px; width:70%; border-radius: 25px;\">\n",
        "    <b>📚 Objectifs pédagogiques :</b>\n",
        "    <ul>\n",
        "      <li>Valider les connaissances du langage Python (créer des tableaux et des dictionnaires);</li>\n",
        "      <li>Valider les connaissances de la bibliothèque Pandas (importer un jeu de données, créer un dataframe, effectuer des modifications et le visualiser);</li>\n",
        "      <li>Compréhension des concepts liés aux différents types de données (numériques et catégoriels).</li>\n",
        "    </ul>\n",
        "</div>"
      ]
    },
    {
      "cell_type": "markdown",
      "metadata": {
        "id": "H6u9MxyoVwSo"
      },
      "source": [
        "<h4> Importer les librairies utiles</h4>"
      ]
    },
    {
      "cell_type": "code",
      "execution_count": null,
      "metadata": {
        "id": "sLT4B_r_VwSo"
      },
      "outputs": [],
      "source": [
        "# Manipulation des données\n",
        "import numpy as np\n",
        "import pandas as pd\n",
        "\n",
        "# Visualisation\n",
        "from matplotlib import cm\n",
        "import matplotlib.pyplot as plt\n",
        "from mpl_toolkits.mplot3d import Axes3D\n",
        "import seaborn as sns\n",
        "sns.set_palette(\"dark\")\n",
        "\n",
        "# Librairie Sklearn de modélisation\n",
        "from sklearn.model_selection import train_test_split                                      # Séparer le jeu de données\n",
        "from sklearn.preprocessing import LabelEncoder                                            # Encodeur\n",
        "from sklearn.ensemble import RandomForestClassifier                                       # Modèle\n",
        "from sklearn.metrics import precision_score, accuracy_score, recall_score, roc_auc_score  # Métrique d'évaluation du modèle\n",
        "\n",
        "# Supprimer les avertissements\n",
        "import warnings\n",
        "warnings.filterwarnings('ignore')"
      ]
    },
    {
      "cell_type": "markdown",
      "metadata": {
        "id": "FPMKlc2jVwSp"
      },
      "source": [
        "<h4> Importer le jeu de données</h4>\n",
        "<div style=\"padding: 10px; margin:10px 0; color: #4AAD64; margin-bottom: 15px;\">\n",
        "<b>✅ Vous devez compléter la case suivante.</b>\n",
        "</div>"
      ]
    },
    {
      "cell_type": "code",
      "execution_count": null,
      "metadata": {
        "colab": {
          "base_uri": "https://localhost:8080/",
          "height": 255
        },
        "id": "ijSpvMXyVwSp",
        "outputId": "5cccfa86-a553-4dae-8fda-6d047fc3f68e"
      },
      "outputs": [
        {
          "output_type": "execute_result",
          "data": {
            "text/plain": [
              "   age        job  marital    education  default housing loan    contact  \\\n",
              "0   56  housemaid  married     basic.4y       no      no   no  telephone   \n",
              "1   57   services  married  high.school  unknown      no   no  telephone   \n",
              "2   37   services  married  high.school       no     yes   no  telephone   \n",
              "3   40     admin.  married     basic.6y       no      no   no  telephone   \n",
              "4   56   services  married  high.school       no      no  yes  telephone   \n",
              "\n",
              "  month day_of_week  ...  campaign  pdays  previous     poutcome emp.var.rate  \\\n",
              "0   may         mon  ...         1    999         0  nonexistent          1.1   \n",
              "1   may         mon  ...         1    999         0  nonexistent          1.1   \n",
              "2   may         mon  ...         1    999         0  nonexistent          1.1   \n",
              "3   may         mon  ...         1    999         0  nonexistent          1.1   \n",
              "4   may         mon  ...         1    999         0  nonexistent          1.1   \n",
              "\n",
              "   cons.price.idx  cons.conf.idx  euribor3m  nr.employed   y  \n",
              "0          93.994          -36.4      4.857       5191.0  no  \n",
              "1          93.994          -36.4      4.857       5191.0  no  \n",
              "2          93.994          -36.4      4.857       5191.0  no  \n",
              "3          93.994          -36.4      4.857       5191.0  no  \n",
              "4          93.994          -36.4      4.857       5191.0  no  \n",
              "\n",
              "[5 rows x 21 columns]"
            ],
            "text/html": [
              "\n",
              "  <div id=\"df-9446e884-4631-4468-a5a3-5a17b0942241\" class=\"colab-df-container\">\n",
              "    <div>\n",
              "<style scoped>\n",
              "    .dataframe tbody tr th:only-of-type {\n",
              "        vertical-align: middle;\n",
              "    }\n",
              "\n",
              "    .dataframe tbody tr th {\n",
              "        vertical-align: top;\n",
              "    }\n",
              "\n",
              "    .dataframe thead th {\n",
              "        text-align: right;\n",
              "    }\n",
              "</style>\n",
              "<table border=\"1\" class=\"dataframe\">\n",
              "  <thead>\n",
              "    <tr style=\"text-align: right;\">\n",
              "      <th></th>\n",
              "      <th>age</th>\n",
              "      <th>job</th>\n",
              "      <th>marital</th>\n",
              "      <th>education</th>\n",
              "      <th>default</th>\n",
              "      <th>housing</th>\n",
              "      <th>loan</th>\n",
              "      <th>contact</th>\n",
              "      <th>month</th>\n",
              "      <th>day_of_week</th>\n",
              "      <th>...</th>\n",
              "      <th>campaign</th>\n",
              "      <th>pdays</th>\n",
              "      <th>previous</th>\n",
              "      <th>poutcome</th>\n",
              "      <th>emp.var.rate</th>\n",
              "      <th>cons.price.idx</th>\n",
              "      <th>cons.conf.idx</th>\n",
              "      <th>euribor3m</th>\n",
              "      <th>nr.employed</th>\n",
              "      <th>y</th>\n",
              "    </tr>\n",
              "  </thead>\n",
              "  <tbody>\n",
              "    <tr>\n",
              "      <th>0</th>\n",
              "      <td>56</td>\n",
              "      <td>housemaid</td>\n",
              "      <td>married</td>\n",
              "      <td>basic.4y</td>\n",
              "      <td>no</td>\n",
              "      <td>no</td>\n",
              "      <td>no</td>\n",
              "      <td>telephone</td>\n",
              "      <td>may</td>\n",
              "      <td>mon</td>\n",
              "      <td>...</td>\n",
              "      <td>1</td>\n",
              "      <td>999</td>\n",
              "      <td>0</td>\n",
              "      <td>nonexistent</td>\n",
              "      <td>1.1</td>\n",
              "      <td>93.994</td>\n",
              "      <td>-36.4</td>\n",
              "      <td>4.857</td>\n",
              "      <td>5191.0</td>\n",
              "      <td>no</td>\n",
              "    </tr>\n",
              "    <tr>\n",
              "      <th>1</th>\n",
              "      <td>57</td>\n",
              "      <td>services</td>\n",
              "      <td>married</td>\n",
              "      <td>high.school</td>\n",
              "      <td>unknown</td>\n",
              "      <td>no</td>\n",
              "      <td>no</td>\n",
              "      <td>telephone</td>\n",
              "      <td>may</td>\n",
              "      <td>mon</td>\n",
              "      <td>...</td>\n",
              "      <td>1</td>\n",
              "      <td>999</td>\n",
              "      <td>0</td>\n",
              "      <td>nonexistent</td>\n",
              "      <td>1.1</td>\n",
              "      <td>93.994</td>\n",
              "      <td>-36.4</td>\n",
              "      <td>4.857</td>\n",
              "      <td>5191.0</td>\n",
              "      <td>no</td>\n",
              "    </tr>\n",
              "    <tr>\n",
              "      <th>2</th>\n",
              "      <td>37</td>\n",
              "      <td>services</td>\n",
              "      <td>married</td>\n",
              "      <td>high.school</td>\n",
              "      <td>no</td>\n",
              "      <td>yes</td>\n",
              "      <td>no</td>\n",
              "      <td>telephone</td>\n",
              "      <td>may</td>\n",
              "      <td>mon</td>\n",
              "      <td>...</td>\n",
              "      <td>1</td>\n",
              "      <td>999</td>\n",
              "      <td>0</td>\n",
              "      <td>nonexistent</td>\n",
              "      <td>1.1</td>\n",
              "      <td>93.994</td>\n",
              "      <td>-36.4</td>\n",
              "      <td>4.857</td>\n",
              "      <td>5191.0</td>\n",
              "      <td>no</td>\n",
              "    </tr>\n",
              "    <tr>\n",
              "      <th>3</th>\n",
              "      <td>40</td>\n",
              "      <td>admin.</td>\n",
              "      <td>married</td>\n",
              "      <td>basic.6y</td>\n",
              "      <td>no</td>\n",
              "      <td>no</td>\n",
              "      <td>no</td>\n",
              "      <td>telephone</td>\n",
              "      <td>may</td>\n",
              "      <td>mon</td>\n",
              "      <td>...</td>\n",
              "      <td>1</td>\n",
              "      <td>999</td>\n",
              "      <td>0</td>\n",
              "      <td>nonexistent</td>\n",
              "      <td>1.1</td>\n",
              "      <td>93.994</td>\n",
              "      <td>-36.4</td>\n",
              "      <td>4.857</td>\n",
              "      <td>5191.0</td>\n",
              "      <td>no</td>\n",
              "    </tr>\n",
              "    <tr>\n",
              "      <th>4</th>\n",
              "      <td>56</td>\n",
              "      <td>services</td>\n",
              "      <td>married</td>\n",
              "      <td>high.school</td>\n",
              "      <td>no</td>\n",
              "      <td>no</td>\n",
              "      <td>yes</td>\n",
              "      <td>telephone</td>\n",
              "      <td>may</td>\n",
              "      <td>mon</td>\n",
              "      <td>...</td>\n",
              "      <td>1</td>\n",
              "      <td>999</td>\n",
              "      <td>0</td>\n",
              "      <td>nonexistent</td>\n",
              "      <td>1.1</td>\n",
              "      <td>93.994</td>\n",
              "      <td>-36.4</td>\n",
              "      <td>4.857</td>\n",
              "      <td>5191.0</td>\n",
              "      <td>no</td>\n",
              "    </tr>\n",
              "  </tbody>\n",
              "</table>\n",
              "<p>5 rows × 21 columns</p>\n",
              "</div>\n",
              "    <div class=\"colab-df-buttons\">\n",
              "\n",
              "  <div class=\"colab-df-container\">\n",
              "    <button class=\"colab-df-convert\" onclick=\"convertToInteractive('df-9446e884-4631-4468-a5a3-5a17b0942241')\"\n",
              "            title=\"Convert this dataframe to an interactive table.\"\n",
              "            style=\"display:none;\">\n",
              "\n",
              "  <svg xmlns=\"http://www.w3.org/2000/svg\" height=\"24px\" viewBox=\"0 -960 960 960\">\n",
              "    <path d=\"M120-120v-720h720v720H120Zm60-500h600v-160H180v160Zm220 220h160v-160H400v160Zm0 220h160v-160H400v160ZM180-400h160v-160H180v160Zm440 0h160v-160H620v160ZM180-180h160v-160H180v160Zm440 0h160v-160H620v160Z\"/>\n",
              "  </svg>\n",
              "    </button>\n",
              "\n",
              "  <style>\n",
              "    .colab-df-container {\n",
              "      display:flex;\n",
              "      gap: 12px;\n",
              "    }\n",
              "\n",
              "    .colab-df-convert {\n",
              "      background-color: #E8F0FE;\n",
              "      border: none;\n",
              "      border-radius: 50%;\n",
              "      cursor: pointer;\n",
              "      display: none;\n",
              "      fill: #1967D2;\n",
              "      height: 32px;\n",
              "      padding: 0 0 0 0;\n",
              "      width: 32px;\n",
              "    }\n",
              "\n",
              "    .colab-df-convert:hover {\n",
              "      background-color: #E2EBFA;\n",
              "      box-shadow: 0px 1px 2px rgba(60, 64, 67, 0.3), 0px 1px 3px 1px rgba(60, 64, 67, 0.15);\n",
              "      fill: #174EA6;\n",
              "    }\n",
              "\n",
              "    .colab-df-buttons div {\n",
              "      margin-bottom: 4px;\n",
              "    }\n",
              "\n",
              "    [theme=dark] .colab-df-convert {\n",
              "      background-color: #3B4455;\n",
              "      fill: #D2E3FC;\n",
              "    }\n",
              "\n",
              "    [theme=dark] .colab-df-convert:hover {\n",
              "      background-color: #434B5C;\n",
              "      box-shadow: 0px 1px 3px 1px rgba(0, 0, 0, 0.15);\n",
              "      filter: drop-shadow(0px 1px 2px rgba(0, 0, 0, 0.3));\n",
              "      fill: #FFFFFF;\n",
              "    }\n",
              "  </style>\n",
              "\n",
              "    <script>\n",
              "      const buttonEl =\n",
              "        document.querySelector('#df-9446e884-4631-4468-a5a3-5a17b0942241 button.colab-df-convert');\n",
              "      buttonEl.style.display =\n",
              "        google.colab.kernel.accessAllowed ? 'block' : 'none';\n",
              "\n",
              "      async function convertToInteractive(key) {\n",
              "        const element = document.querySelector('#df-9446e884-4631-4468-a5a3-5a17b0942241');\n",
              "        const dataTable =\n",
              "          await google.colab.kernel.invokeFunction('convertToInteractive',\n",
              "                                                    [key], {});\n",
              "        if (!dataTable) return;\n",
              "\n",
              "        const docLinkHtml = 'Like what you see? Visit the ' +\n",
              "          '<a target=\"_blank\" href=https://colab.research.google.com/notebooks/data_table.ipynb>data table notebook</a>'\n",
              "          + ' to learn more about interactive tables.';\n",
              "        element.innerHTML = '';\n",
              "        dataTable['output_type'] = 'display_data';\n",
              "        await google.colab.output.renderOutput(dataTable, element);\n",
              "        const docLink = document.createElement('div');\n",
              "        docLink.innerHTML = docLinkHtml;\n",
              "        element.appendChild(docLink);\n",
              "      }\n",
              "    </script>\n",
              "  </div>\n",
              "\n",
              "\n",
              "<div id=\"df-bbc21f4d-93d3-40db-9170-7c505df5b6d9\">\n",
              "  <button class=\"colab-df-quickchart\" onclick=\"quickchart('df-bbc21f4d-93d3-40db-9170-7c505df5b6d9')\"\n",
              "            title=\"Suggest charts\"\n",
              "            style=\"display:none;\">\n",
              "\n",
              "<svg xmlns=\"http://www.w3.org/2000/svg\" height=\"24px\"viewBox=\"0 0 24 24\"\n",
              "     width=\"24px\">\n",
              "    <g>\n",
              "        <path d=\"M19 3H5c-1.1 0-2 .9-2 2v14c0 1.1.9 2 2 2h14c1.1 0 2-.9 2-2V5c0-1.1-.9-2-2-2zM9 17H7v-7h2v7zm4 0h-2V7h2v10zm4 0h-2v-4h2v4z\"/>\n",
              "    </g>\n",
              "</svg>\n",
              "  </button>\n",
              "\n",
              "<style>\n",
              "  .colab-df-quickchart {\n",
              "      --bg-color: #E8F0FE;\n",
              "      --fill-color: #1967D2;\n",
              "      --hover-bg-color: #E2EBFA;\n",
              "      --hover-fill-color: #174EA6;\n",
              "      --disabled-fill-color: #AAA;\n",
              "      --disabled-bg-color: #DDD;\n",
              "  }\n",
              "\n",
              "  [theme=dark] .colab-df-quickchart {\n",
              "      --bg-color: #3B4455;\n",
              "      --fill-color: #D2E3FC;\n",
              "      --hover-bg-color: #434B5C;\n",
              "      --hover-fill-color: #FFFFFF;\n",
              "      --disabled-bg-color: #3B4455;\n",
              "      --disabled-fill-color: #666;\n",
              "  }\n",
              "\n",
              "  .colab-df-quickchart {\n",
              "    background-color: var(--bg-color);\n",
              "    border: none;\n",
              "    border-radius: 50%;\n",
              "    cursor: pointer;\n",
              "    display: none;\n",
              "    fill: var(--fill-color);\n",
              "    height: 32px;\n",
              "    padding: 0;\n",
              "    width: 32px;\n",
              "  }\n",
              "\n",
              "  .colab-df-quickchart:hover {\n",
              "    background-color: var(--hover-bg-color);\n",
              "    box-shadow: 0 1px 2px rgba(60, 64, 67, 0.3), 0 1px 3px 1px rgba(60, 64, 67, 0.15);\n",
              "    fill: var(--button-hover-fill-color);\n",
              "  }\n",
              "\n",
              "  .colab-df-quickchart-complete:disabled,\n",
              "  .colab-df-quickchart-complete:disabled:hover {\n",
              "    background-color: var(--disabled-bg-color);\n",
              "    fill: var(--disabled-fill-color);\n",
              "    box-shadow: none;\n",
              "  }\n",
              "\n",
              "  .colab-df-spinner {\n",
              "    border: 2px solid var(--fill-color);\n",
              "    border-color: transparent;\n",
              "    border-bottom-color: var(--fill-color);\n",
              "    animation:\n",
              "      spin 1s steps(1) infinite;\n",
              "  }\n",
              "\n",
              "  @keyframes spin {\n",
              "    0% {\n",
              "      border-color: transparent;\n",
              "      border-bottom-color: var(--fill-color);\n",
              "      border-left-color: var(--fill-color);\n",
              "    }\n",
              "    20% {\n",
              "      border-color: transparent;\n",
              "      border-left-color: var(--fill-color);\n",
              "      border-top-color: var(--fill-color);\n",
              "    }\n",
              "    30% {\n",
              "      border-color: transparent;\n",
              "      border-left-color: var(--fill-color);\n",
              "      border-top-color: var(--fill-color);\n",
              "      border-right-color: var(--fill-color);\n",
              "    }\n",
              "    40% {\n",
              "      border-color: transparent;\n",
              "      border-right-color: var(--fill-color);\n",
              "      border-top-color: var(--fill-color);\n",
              "    }\n",
              "    60% {\n",
              "      border-color: transparent;\n",
              "      border-right-color: var(--fill-color);\n",
              "    }\n",
              "    80% {\n",
              "      border-color: transparent;\n",
              "      border-right-color: var(--fill-color);\n",
              "      border-bottom-color: var(--fill-color);\n",
              "    }\n",
              "    90% {\n",
              "      border-color: transparent;\n",
              "      border-bottom-color: var(--fill-color);\n",
              "    }\n",
              "  }\n",
              "</style>\n",
              "\n",
              "  <script>\n",
              "    async function quickchart(key) {\n",
              "      const quickchartButtonEl =\n",
              "        document.querySelector('#' + key + ' button');\n",
              "      quickchartButtonEl.disabled = true;  // To prevent multiple clicks.\n",
              "      quickchartButtonEl.classList.add('colab-df-spinner');\n",
              "      try {\n",
              "        const charts = await google.colab.kernel.invokeFunction(\n",
              "            'suggestCharts', [key], {});\n",
              "      } catch (error) {\n",
              "        console.error('Error during call to suggestCharts:', error);\n",
              "      }\n",
              "      quickchartButtonEl.classList.remove('colab-df-spinner');\n",
              "      quickchartButtonEl.classList.add('colab-df-quickchart-complete');\n",
              "    }\n",
              "    (() => {\n",
              "      let quickchartButtonEl =\n",
              "        document.querySelector('#df-bbc21f4d-93d3-40db-9170-7c505df5b6d9 button');\n",
              "      quickchartButtonEl.style.display =\n",
              "        google.colab.kernel.accessAllowed ? 'block' : 'none';\n",
              "    })();\n",
              "  </script>\n",
              "</div>\n",
              "\n",
              "    </div>\n",
              "  </div>\n"
            ],
            "application/vnd.google.colaboratory.intrinsic+json": {
              "type": "dataframe",
              "variable_name": "dataset_df"
            }
          },
          "metadata": {},
          "execution_count": 2
        }
      ],
      "source": [
        "# À FAIRE: Lire les données provenant du fichier CSV et afficher les données avec la fonction head()\n",
        "\n",
        "dataset_df = pd.read_csv('bankmarketing.csv', delimiter=';')\n",
        "dataset_df.head(5)\n",
        "\n"
      ]
    },
    {
      "cell_type": "code",
      "source": [
        "dataset_df.describe()"
      ],
      "metadata": {
        "colab": {
          "base_uri": "https://localhost:8080/",
          "height": 300
        },
        "id": "T6RY4PJjWcam",
        "outputId": "9ac26bed-0e21-437d-a6f7-9eb2365feb51"
      },
      "execution_count": null,
      "outputs": [
        {
          "output_type": "execute_result",
          "data": {
            "text/plain": [
              "               age      duration      campaign         pdays      previous  \\\n",
              "count  41188.00000  41188.000000  41188.000000  41188.000000  41188.000000   \n",
              "mean      40.02406    258.285010      2.567593    962.475454      0.172963   \n",
              "std       10.42125    259.279249      2.770014    186.910907      0.494901   \n",
              "min       17.00000      0.000000      1.000000      0.000000      0.000000   \n",
              "25%       32.00000    102.000000      1.000000    999.000000      0.000000   \n",
              "50%       38.00000    180.000000      2.000000    999.000000      0.000000   \n",
              "75%       47.00000    319.000000      3.000000    999.000000      0.000000   \n",
              "max       98.00000   4918.000000     56.000000    999.000000      7.000000   \n",
              "\n",
              "       emp.var.rate  cons.price.idx  cons.conf.idx     euribor3m   nr.employed  \n",
              "count  41188.000000    41188.000000   41188.000000  41188.000000  41188.000000  \n",
              "mean       0.081886       93.575664     -40.502600      3.621291   5167.035911  \n",
              "std        1.570960        0.578840       4.628198      1.734447     72.251528  \n",
              "min       -3.400000       92.201000     -50.800000      0.634000   4963.600000  \n",
              "25%       -1.800000       93.075000     -42.700000      1.344000   5099.100000  \n",
              "50%        1.100000       93.749000     -41.800000      4.857000   5191.000000  \n",
              "75%        1.400000       93.994000     -36.400000      4.961000   5228.100000  \n",
              "max        1.400000       94.767000     -26.900000      5.045000   5228.100000  "
            ],
            "text/html": [
              "\n",
              "  <div id=\"df-e07279cf-59d0-4560-ae04-a1869f8a2c1a\" class=\"colab-df-container\">\n",
              "    <div>\n",
              "<style scoped>\n",
              "    .dataframe tbody tr th:only-of-type {\n",
              "        vertical-align: middle;\n",
              "    }\n",
              "\n",
              "    .dataframe tbody tr th {\n",
              "        vertical-align: top;\n",
              "    }\n",
              "\n",
              "    .dataframe thead th {\n",
              "        text-align: right;\n",
              "    }\n",
              "</style>\n",
              "<table border=\"1\" class=\"dataframe\">\n",
              "  <thead>\n",
              "    <tr style=\"text-align: right;\">\n",
              "      <th></th>\n",
              "      <th>age</th>\n",
              "      <th>duration</th>\n",
              "      <th>campaign</th>\n",
              "      <th>pdays</th>\n",
              "      <th>previous</th>\n",
              "      <th>emp.var.rate</th>\n",
              "      <th>cons.price.idx</th>\n",
              "      <th>cons.conf.idx</th>\n",
              "      <th>euribor3m</th>\n",
              "      <th>nr.employed</th>\n",
              "    </tr>\n",
              "  </thead>\n",
              "  <tbody>\n",
              "    <tr>\n",
              "      <th>count</th>\n",
              "      <td>41188.00000</td>\n",
              "      <td>41188.000000</td>\n",
              "      <td>41188.000000</td>\n",
              "      <td>41188.000000</td>\n",
              "      <td>41188.000000</td>\n",
              "      <td>41188.000000</td>\n",
              "      <td>41188.000000</td>\n",
              "      <td>41188.000000</td>\n",
              "      <td>41188.000000</td>\n",
              "      <td>41188.000000</td>\n",
              "    </tr>\n",
              "    <tr>\n",
              "      <th>mean</th>\n",
              "      <td>40.02406</td>\n",
              "      <td>258.285010</td>\n",
              "      <td>2.567593</td>\n",
              "      <td>962.475454</td>\n",
              "      <td>0.172963</td>\n",
              "      <td>0.081886</td>\n",
              "      <td>93.575664</td>\n",
              "      <td>-40.502600</td>\n",
              "      <td>3.621291</td>\n",
              "      <td>5167.035911</td>\n",
              "    </tr>\n",
              "    <tr>\n",
              "      <th>std</th>\n",
              "      <td>10.42125</td>\n",
              "      <td>259.279249</td>\n",
              "      <td>2.770014</td>\n",
              "      <td>186.910907</td>\n",
              "      <td>0.494901</td>\n",
              "      <td>1.570960</td>\n",
              "      <td>0.578840</td>\n",
              "      <td>4.628198</td>\n",
              "      <td>1.734447</td>\n",
              "      <td>72.251528</td>\n",
              "    </tr>\n",
              "    <tr>\n",
              "      <th>min</th>\n",
              "      <td>17.00000</td>\n",
              "      <td>0.000000</td>\n",
              "      <td>1.000000</td>\n",
              "      <td>0.000000</td>\n",
              "      <td>0.000000</td>\n",
              "      <td>-3.400000</td>\n",
              "      <td>92.201000</td>\n",
              "      <td>-50.800000</td>\n",
              "      <td>0.634000</td>\n",
              "      <td>4963.600000</td>\n",
              "    </tr>\n",
              "    <tr>\n",
              "      <th>25%</th>\n",
              "      <td>32.00000</td>\n",
              "      <td>102.000000</td>\n",
              "      <td>1.000000</td>\n",
              "      <td>999.000000</td>\n",
              "      <td>0.000000</td>\n",
              "      <td>-1.800000</td>\n",
              "      <td>93.075000</td>\n",
              "      <td>-42.700000</td>\n",
              "      <td>1.344000</td>\n",
              "      <td>5099.100000</td>\n",
              "    </tr>\n",
              "    <tr>\n",
              "      <th>50%</th>\n",
              "      <td>38.00000</td>\n",
              "      <td>180.000000</td>\n",
              "      <td>2.000000</td>\n",
              "      <td>999.000000</td>\n",
              "      <td>0.000000</td>\n",
              "      <td>1.100000</td>\n",
              "      <td>93.749000</td>\n",
              "      <td>-41.800000</td>\n",
              "      <td>4.857000</td>\n",
              "      <td>5191.000000</td>\n",
              "    </tr>\n",
              "    <tr>\n",
              "      <th>75%</th>\n",
              "      <td>47.00000</td>\n",
              "      <td>319.000000</td>\n",
              "      <td>3.000000</td>\n",
              "      <td>999.000000</td>\n",
              "      <td>0.000000</td>\n",
              "      <td>1.400000</td>\n",
              "      <td>93.994000</td>\n",
              "      <td>-36.400000</td>\n",
              "      <td>4.961000</td>\n",
              "      <td>5228.100000</td>\n",
              "    </tr>\n",
              "    <tr>\n",
              "      <th>max</th>\n",
              "      <td>98.00000</td>\n",
              "      <td>4918.000000</td>\n",
              "      <td>56.000000</td>\n",
              "      <td>999.000000</td>\n",
              "      <td>7.000000</td>\n",
              "      <td>1.400000</td>\n",
              "      <td>94.767000</td>\n",
              "      <td>-26.900000</td>\n",
              "      <td>5.045000</td>\n",
              "      <td>5228.100000</td>\n",
              "    </tr>\n",
              "  </tbody>\n",
              "</table>\n",
              "</div>\n",
              "    <div class=\"colab-df-buttons\">\n",
              "\n",
              "  <div class=\"colab-df-container\">\n",
              "    <button class=\"colab-df-convert\" onclick=\"convertToInteractive('df-e07279cf-59d0-4560-ae04-a1869f8a2c1a')\"\n",
              "            title=\"Convert this dataframe to an interactive table.\"\n",
              "            style=\"display:none;\">\n",
              "\n",
              "  <svg xmlns=\"http://www.w3.org/2000/svg\" height=\"24px\" viewBox=\"0 -960 960 960\">\n",
              "    <path d=\"M120-120v-720h720v720H120Zm60-500h600v-160H180v160Zm220 220h160v-160H400v160Zm0 220h160v-160H400v160ZM180-400h160v-160H180v160Zm440 0h160v-160H620v160ZM180-180h160v-160H180v160Zm440 0h160v-160H620v160Z\"/>\n",
              "  </svg>\n",
              "    </button>\n",
              "\n",
              "  <style>\n",
              "    .colab-df-container {\n",
              "      display:flex;\n",
              "      gap: 12px;\n",
              "    }\n",
              "\n",
              "    .colab-df-convert {\n",
              "      background-color: #E8F0FE;\n",
              "      border: none;\n",
              "      border-radius: 50%;\n",
              "      cursor: pointer;\n",
              "      display: none;\n",
              "      fill: #1967D2;\n",
              "      height: 32px;\n",
              "      padding: 0 0 0 0;\n",
              "      width: 32px;\n",
              "    }\n",
              "\n",
              "    .colab-df-convert:hover {\n",
              "      background-color: #E2EBFA;\n",
              "      box-shadow: 0px 1px 2px rgba(60, 64, 67, 0.3), 0px 1px 3px 1px rgba(60, 64, 67, 0.15);\n",
              "      fill: #174EA6;\n",
              "    }\n",
              "\n",
              "    .colab-df-buttons div {\n",
              "      margin-bottom: 4px;\n",
              "    }\n",
              "\n",
              "    [theme=dark] .colab-df-convert {\n",
              "      background-color: #3B4455;\n",
              "      fill: #D2E3FC;\n",
              "    }\n",
              "\n",
              "    [theme=dark] .colab-df-convert:hover {\n",
              "      background-color: #434B5C;\n",
              "      box-shadow: 0px 1px 3px 1px rgba(0, 0, 0, 0.15);\n",
              "      filter: drop-shadow(0px 1px 2px rgba(0, 0, 0, 0.3));\n",
              "      fill: #FFFFFF;\n",
              "    }\n",
              "  </style>\n",
              "\n",
              "    <script>\n",
              "      const buttonEl =\n",
              "        document.querySelector('#df-e07279cf-59d0-4560-ae04-a1869f8a2c1a button.colab-df-convert');\n",
              "      buttonEl.style.display =\n",
              "        google.colab.kernel.accessAllowed ? 'block' : 'none';\n",
              "\n",
              "      async function convertToInteractive(key) {\n",
              "        const element = document.querySelector('#df-e07279cf-59d0-4560-ae04-a1869f8a2c1a');\n",
              "        const dataTable =\n",
              "          await google.colab.kernel.invokeFunction('convertToInteractive',\n",
              "                                                    [key], {});\n",
              "        if (!dataTable) return;\n",
              "\n",
              "        const docLinkHtml = 'Like what you see? Visit the ' +\n",
              "          '<a target=\"_blank\" href=https://colab.research.google.com/notebooks/data_table.ipynb>data table notebook</a>'\n",
              "          + ' to learn more about interactive tables.';\n",
              "        element.innerHTML = '';\n",
              "        dataTable['output_type'] = 'display_data';\n",
              "        await google.colab.output.renderOutput(dataTable, element);\n",
              "        const docLink = document.createElement('div');\n",
              "        docLink.innerHTML = docLinkHtml;\n",
              "        element.appendChild(docLink);\n",
              "      }\n",
              "    </script>\n",
              "  </div>\n",
              "\n",
              "\n",
              "<div id=\"df-ffbd668d-2744-4ba9-8c1a-af4592f5d129\">\n",
              "  <button class=\"colab-df-quickchart\" onclick=\"quickchart('df-ffbd668d-2744-4ba9-8c1a-af4592f5d129')\"\n",
              "            title=\"Suggest charts\"\n",
              "            style=\"display:none;\">\n",
              "\n",
              "<svg xmlns=\"http://www.w3.org/2000/svg\" height=\"24px\"viewBox=\"0 0 24 24\"\n",
              "     width=\"24px\">\n",
              "    <g>\n",
              "        <path d=\"M19 3H5c-1.1 0-2 .9-2 2v14c0 1.1.9 2 2 2h14c1.1 0 2-.9 2-2V5c0-1.1-.9-2-2-2zM9 17H7v-7h2v7zm4 0h-2V7h2v10zm4 0h-2v-4h2v4z\"/>\n",
              "    </g>\n",
              "</svg>\n",
              "  </button>\n",
              "\n",
              "<style>\n",
              "  .colab-df-quickchart {\n",
              "      --bg-color: #E8F0FE;\n",
              "      --fill-color: #1967D2;\n",
              "      --hover-bg-color: #E2EBFA;\n",
              "      --hover-fill-color: #174EA6;\n",
              "      --disabled-fill-color: #AAA;\n",
              "      --disabled-bg-color: #DDD;\n",
              "  }\n",
              "\n",
              "  [theme=dark] .colab-df-quickchart {\n",
              "      --bg-color: #3B4455;\n",
              "      --fill-color: #D2E3FC;\n",
              "      --hover-bg-color: #434B5C;\n",
              "      --hover-fill-color: #FFFFFF;\n",
              "      --disabled-bg-color: #3B4455;\n",
              "      --disabled-fill-color: #666;\n",
              "  }\n",
              "\n",
              "  .colab-df-quickchart {\n",
              "    background-color: var(--bg-color);\n",
              "    border: none;\n",
              "    border-radius: 50%;\n",
              "    cursor: pointer;\n",
              "    display: none;\n",
              "    fill: var(--fill-color);\n",
              "    height: 32px;\n",
              "    padding: 0;\n",
              "    width: 32px;\n",
              "  }\n",
              "\n",
              "  .colab-df-quickchart:hover {\n",
              "    background-color: var(--hover-bg-color);\n",
              "    box-shadow: 0 1px 2px rgba(60, 64, 67, 0.3), 0 1px 3px 1px rgba(60, 64, 67, 0.15);\n",
              "    fill: var(--button-hover-fill-color);\n",
              "  }\n",
              "\n",
              "  .colab-df-quickchart-complete:disabled,\n",
              "  .colab-df-quickchart-complete:disabled:hover {\n",
              "    background-color: var(--disabled-bg-color);\n",
              "    fill: var(--disabled-fill-color);\n",
              "    box-shadow: none;\n",
              "  }\n",
              "\n",
              "  .colab-df-spinner {\n",
              "    border: 2px solid var(--fill-color);\n",
              "    border-color: transparent;\n",
              "    border-bottom-color: var(--fill-color);\n",
              "    animation:\n",
              "      spin 1s steps(1) infinite;\n",
              "  }\n",
              "\n",
              "  @keyframes spin {\n",
              "    0% {\n",
              "      border-color: transparent;\n",
              "      border-bottom-color: var(--fill-color);\n",
              "      border-left-color: var(--fill-color);\n",
              "    }\n",
              "    20% {\n",
              "      border-color: transparent;\n",
              "      border-left-color: var(--fill-color);\n",
              "      border-top-color: var(--fill-color);\n",
              "    }\n",
              "    30% {\n",
              "      border-color: transparent;\n",
              "      border-left-color: var(--fill-color);\n",
              "      border-top-color: var(--fill-color);\n",
              "      border-right-color: var(--fill-color);\n",
              "    }\n",
              "    40% {\n",
              "      border-color: transparent;\n",
              "      border-right-color: var(--fill-color);\n",
              "      border-top-color: var(--fill-color);\n",
              "    }\n",
              "    60% {\n",
              "      border-color: transparent;\n",
              "      border-right-color: var(--fill-color);\n",
              "    }\n",
              "    80% {\n",
              "      border-color: transparent;\n",
              "      border-right-color: var(--fill-color);\n",
              "      border-bottom-color: var(--fill-color);\n",
              "    }\n",
              "    90% {\n",
              "      border-color: transparent;\n",
              "      border-bottom-color: var(--fill-color);\n",
              "    }\n",
              "  }\n",
              "</style>\n",
              "\n",
              "  <script>\n",
              "    async function quickchart(key) {\n",
              "      const quickchartButtonEl =\n",
              "        document.querySelector('#' + key + ' button');\n",
              "      quickchartButtonEl.disabled = true;  // To prevent multiple clicks.\n",
              "      quickchartButtonEl.classList.add('colab-df-spinner');\n",
              "      try {\n",
              "        const charts = await google.colab.kernel.invokeFunction(\n",
              "            'suggestCharts', [key], {});\n",
              "      } catch (error) {\n",
              "        console.error('Error during call to suggestCharts:', error);\n",
              "      }\n",
              "      quickchartButtonEl.classList.remove('colab-df-spinner');\n",
              "      quickchartButtonEl.classList.add('colab-df-quickchart-complete');\n",
              "    }\n",
              "    (() => {\n",
              "      let quickchartButtonEl =\n",
              "        document.querySelector('#df-ffbd668d-2744-4ba9-8c1a-af4592f5d129 button');\n",
              "      quickchartButtonEl.style.display =\n",
              "        google.colab.kernel.accessAllowed ? 'block' : 'none';\n",
              "    })();\n",
              "  </script>\n",
              "</div>\n",
              "\n",
              "    </div>\n",
              "  </div>\n"
            ],
            "application/vnd.google.colaboratory.intrinsic+json": {
              "type": "dataframe",
              "summary": "{\n  \"name\": \"dataset_df\",\n  \"rows\": 8,\n  \"fields\": [\n    {\n      \"column\": \"age\",\n      \"properties\": {\n        \"dtype\": \"number\",\n        \"std\": 14547.915389437558,\n        \"min\": 10.421249980934048,\n        \"max\": 41188.0,\n        \"num_unique_values\": 8,\n        \"samples\": [\n          40.02406040594348,\n          38.0,\n          41188.0\n        ],\n        \"semantic_type\": \"\",\n        \"description\": \"\"\n      }\n    },\n    {\n      \"column\": \"duration\",\n      \"properties\": {\n        \"dtype\": \"number\",\n        \"std\": 14353.429834977824,\n        \"min\": 0.0,\n        \"max\": 41188.0,\n        \"num_unique_values\": 8,\n        \"samples\": [\n          258.2850101971448,\n          180.0,\n          41188.0\n        ],\n        \"semantic_type\": \"\",\n        \"description\": \"\"\n      }\n    },\n    {\n      \"column\": \"campaign\",\n      \"properties\": {\n        \"dtype\": \"number\",\n        \"std\": 14558.717737799894,\n        \"min\": 1.0,\n        \"max\": 41188.0,\n        \"num_unique_values\": 7,\n        \"samples\": [\n          41188.0,\n          2.567592502670681,\n          3.0\n        ],\n        \"semantic_type\": \"\",\n        \"description\": \"\"\n      }\n    },\n    {\n      \"column\": \"pdays\",\n      \"properties\": {\n        \"dtype\": \"number\",\n        \"std\": 14308.123597767704,\n        \"min\": 0.0,\n        \"max\": 41188.0,\n        \"num_unique_values\": 5,\n        \"samples\": [\n          962.4754540157328,\n          999.0,\n          186.9109073447418\n        ],\n        \"semantic_type\": \"\",\n        \"description\": \"\"\n      }\n    },\n    {\n      \"column\": \"previous\",\n      \"properties\": {\n        \"dtype\": \"number\",\n        \"std\": 14561.769966637723,\n        \"min\": 0.0,\n        \"max\": 41188.0,\n        \"num_unique_values\": 5,\n        \"samples\": [\n          0.17296299893172767,\n          7.0,\n          0.4949010798392897\n        ],\n        \"semantic_type\": \"\",\n        \"description\": \"\"\n      }\n    },\n    {\n      \"column\": \"emp.var.rate\",\n      \"properties\": {\n        \"dtype\": \"number\",\n        \"std\": 14562.139340189238,\n        \"min\": -3.4,\n        \"max\": 41188.0,\n        \"num_unique_values\": 7,\n        \"samples\": [\n          41188.0,\n          0.08188550063125165,\n          1.1\n        ],\n        \"semantic_type\": \"\",\n        \"description\": \"\"\n      }\n    },\n    {\n      \"column\": \"cons.price.idx\",\n      \"properties\": {\n        \"dtype\": \"number\",\n        \"std\": 14533.81120862695,\n        \"min\": 0.5788400489541262,\n        \"max\": 41188.0,\n        \"num_unique_values\": 8,\n        \"samples\": [\n          93.57566436826262,\n          93.749,\n          41188.0\n        ],\n        \"semantic_type\": \"\",\n        \"description\": \"\"\n      }\n    },\n    {\n      \"column\": \"cons.conf.idx\",\n      \"properties\": {\n        \"dtype\": \"number\",\n        \"std\": 14574.009636834653,\n        \"min\": -50.8,\n        \"max\": 41188.0,\n        \"num_unique_values\": 8,\n        \"samples\": [\n          -40.50260027192386,\n          -41.8,\n          41188.0\n        ],\n        \"semantic_type\": \"\",\n        \"description\": \"\"\n      }\n    },\n    {\n      \"column\": \"euribor3m\",\n      \"properties\": {\n        \"dtype\": \"number\",\n        \"std\": 14561.036053130754,\n        \"min\": 0.634,\n        \"max\": 41188.0,\n        \"num_unique_values\": 8,\n        \"samples\": [\n          3.621290812858114,\n          4.857,\n          41188.0\n        ],\n        \"semantic_type\": \"\",\n        \"description\": \"\"\n      }\n    },\n    {\n      \"column\": \"nr.employed\",\n      \"properties\": {\n        \"dtype\": \"number\",\n        \"std\": 13119.9618027212,\n        \"min\": 72.25152766826108,\n        \"max\": 41188.0,\n        \"num_unique_values\": 7,\n        \"samples\": [\n          41188.0,\n          5167.035910944936,\n          5191.0\n        ],\n        \"semantic_type\": \"\",\n        \"description\": \"\"\n      }\n    }\n  ]\n}"
            }
          },
          "metadata": {},
          "execution_count": 3
        }
      ]
    },
    {
      "cell_type": "markdown",
      "metadata": {
        "id": "2p-0Tmd4VwSp"
      },
      "source": [
        "<p>Lorsque les valeurs que l'on veut prédire sont de type catégoriel, l'analyse peut s'avérer plus simple si celles-ci sont transformées en données numériques. En effet, <b>certains modèles d'apprentissage automatique ne peuvent pas recevoir de textes mais seulement des nombres</b> (bien plus facile à comprendre pour un ordinateur). Nous allons donc prendre le temps de les transformer en utilisant un dictionnaire.</p>"
      ]
    },
    {
      "cell_type": "code",
      "execution_count": null,
      "metadata": {
        "colab": {
          "base_uri": "https://localhost:8080/"
        },
        "id": "1F_kuFIwVwSp",
        "outputId": "c8e1bf0e-e6ff-4059-efe9-c4eec87ce30a"
      },
      "outputs": [
        {
          "output_type": "stream",
          "name": "stdout",
          "text": [
            "Class no is 0\n",
            "Class yes is 1\n"
          ]
        }
      ],
      "source": [
        "# Définition de ce que l'on veut prédire\n",
        "TARGETS: dict = {\"no\": 0,\n",
        "                 \"yes\": 1}\n",
        "\n",
        "[print(\"Class\", key, \"is\", value) for key, value in TARGETS.items()];"
      ]
    },
    {
      "cell_type": "code",
      "source": [
        "# To pandas DataFrame\n",
        "df = pd.DataFrame(data=dataset_df)\n",
        "\n",
        "# Display top 5 rows of 'y'\n",
        "print(df[['y']].head(5).to_string(index=False))"
      ],
      "metadata": {
        "colab": {
          "base_uri": "https://localhost:8080/"
        },
        "id": "lo3AIVcNc5oN",
        "outputId": "2cde905e-dd0b-4edf-fc09-4ac494115217"
      },
      "execution_count": null,
      "outputs": [
        {
          "output_type": "stream",
          "name": "stdout",
          "text": [
            " y\n",
            "no\n",
            "no\n",
            "no\n",
            "no\n",
            "no\n"
          ]
        }
      ]
    },
    {
      "cell_type": "code",
      "source": [
        "#df.drop(columns=['target'], inplace=True)\n"
      ],
      "metadata": {
        "id": "LQ1v6FTKfM4l"
      },
      "execution_count": null,
      "outputs": []
    },
    {
      "cell_type": "markdown",
      "metadata": {
        "id": "Wqm7iV_4VwSq"
      },
      "source": [
        "<div style=\"padding: 10px; margin:10px 0; color: #4AAD64; margin-bottom: 15px;\">\n",
        "<b>✅ Vous devez compléter la case suivante.</b>\n",
        "</div>"
      ]
    },
    {
      "cell_type": "code",
      "execution_count": null,
      "metadata": {
        "id": "0Ao7y8McVwSq"
      },
      "outputs": [],
      "source": [
        "# A FAIRE: Ajouter une colonne au jeu de donnée nommée 'target' contenant les valeurs -1\n",
        "df['target'] = -1\n",
        "# À l'aide du dictionnaire TARGETS, changer la valeur de la colonne target pour qu'elle corresponde à l'étiquette désirée, selon la colonne y\n",
        "df['target']= df['y']\n",
        "df['target'] = df['target'].map(TARGETS)\n",
        "# Suprimer la colonne y. Elle est redondante puisque nous avons la colonne target qui conserve les mêmes données, mais en format numérique\n",
        "df.drop(columns=['y'], inplace=True)\n"
      ]
    },
    {
      "cell_type": "code",
      "source": [
        "print(df['target'])"
      ],
      "metadata": {
        "colab": {
          "base_uri": "https://localhost:8080/"
        },
        "id": "XvJ3O6A7kBey",
        "outputId": "79b515ad-6348-4702-fee8-ae217b9d24da"
      },
      "execution_count": null,
      "outputs": [
        {
          "output_type": "stream",
          "name": "stdout",
          "text": [
            "0        0\n",
            "1        0\n",
            "2        0\n",
            "3        0\n",
            "4        0\n",
            "        ..\n",
            "41183    1\n",
            "41184    0\n",
            "41185    0\n",
            "41186    1\n",
            "41187    0\n",
            "Name: target, Length: 41188, dtype: int64\n"
          ]
        }
      ]
    },
    {
      "cell_type": "markdown",
      "metadata": {
        "id": "42eCfyBqVwSq"
      },
      "source": [
        "<div style=\"padding: 10px; margin:10px 0; background-color: #FFEF4A; color: black; margin-bottom: 15px;\">\n",
        "<b>⚠️ Si vous éprouvez des difficultés à compléter cette case, veuillez vous référer aux tutoriels python et pandas qui sont inscrits dans la section 0.1</b>\n",
        "</div>"
      ]
    },
    {
      "cell_type": "code",
      "execution_count": null,
      "metadata": {
        "colab": {
          "base_uri": "https://localhost:8080/",
          "height": 444
        },
        "id": "Bhvdrv4qVwSq",
        "outputId": "58f8abc2-462a-4b51-8b59-cdf2497cf12d"
      },
      "outputs": [
        {
          "output_type": "execute_result",
          "data": {
            "text/plain": [
              "    age          job   marital            education  default housing loan  \\\n",
              "0    56    housemaid   married             basic.4y       no      no   no   \n",
              "1    57     services   married          high.school  unknown      no   no   \n",
              "2    37     services   married          high.school       no     yes   no   \n",
              "3    40       admin.   married             basic.6y       no      no   no   \n",
              "4    56     services   married          high.school       no      no  yes   \n",
              "..  ...          ...       ...                  ...      ...     ...  ...   \n",
              "95   45     services   married  professional.course       no     yes   no   \n",
              "96   42   management   married    university.degree       no      no   no   \n",
              "97   53       admin.  divorced    university.degree  unknown      no   no   \n",
              "98   37   technician    single  professional.course       no      no   no   \n",
              "99   44  blue-collar   married             basic.6y       no      no   no   \n",
              "\n",
              "      contact month day_of_week  ...  campaign  pdays  previous     poutcome  \\\n",
              "0   telephone   may         mon  ...         1    999         0  nonexistent   \n",
              "1   telephone   may         mon  ...         1    999         0  nonexistent   \n",
              "2   telephone   may         mon  ...         1    999         0  nonexistent   \n",
              "3   telephone   may         mon  ...         1    999         0  nonexistent   \n",
              "4   telephone   may         mon  ...         1    999         0  nonexistent   \n",
              "..        ...   ...         ...  ...       ...    ...       ...          ...   \n",
              "95  telephone   may         mon  ...         1    999         0  nonexistent   \n",
              "96  telephone   may         mon  ...         1    999         0  nonexistent   \n",
              "97  telephone   may         mon  ...         1    999         0  nonexistent   \n",
              "98  telephone   may         mon  ...         1    999         0  nonexistent   \n",
              "99  telephone   may         mon  ...         1    999         0  nonexistent   \n",
              "\n",
              "   emp.var.rate  cons.price.idx  cons.conf.idx  euribor3m  nr.employed  target  \n",
              "0           1.1          93.994          -36.4      4.857       5191.0       0  \n",
              "1           1.1          93.994          -36.4      4.857       5191.0       0  \n",
              "2           1.1          93.994          -36.4      4.857       5191.0       0  \n",
              "3           1.1          93.994          -36.4      4.857       5191.0       0  \n",
              "4           1.1          93.994          -36.4      4.857       5191.0       0  \n",
              "..          ...             ...            ...        ...          ...     ...  \n",
              "95          1.1          93.994          -36.4      4.857       5191.0       0  \n",
              "96          1.1          93.994          -36.4      4.857       5191.0       0  \n",
              "97          1.1          93.994          -36.4      4.857       5191.0       0  \n",
              "98          1.1          93.994          -36.4      4.857       5191.0       0  \n",
              "99          1.1          93.994          -36.4      4.857       5191.0       0  \n",
              "\n",
              "[100 rows x 21 columns]"
            ],
            "text/html": [
              "\n",
              "  <div id=\"df-847cc7dd-3d2c-4e65-929f-dc43adb27807\" class=\"colab-df-container\">\n",
              "    <div>\n",
              "<style scoped>\n",
              "    .dataframe tbody tr th:only-of-type {\n",
              "        vertical-align: middle;\n",
              "    }\n",
              "\n",
              "    .dataframe tbody tr th {\n",
              "        vertical-align: top;\n",
              "    }\n",
              "\n",
              "    .dataframe thead th {\n",
              "        text-align: right;\n",
              "    }\n",
              "</style>\n",
              "<table border=\"1\" class=\"dataframe\">\n",
              "  <thead>\n",
              "    <tr style=\"text-align: right;\">\n",
              "      <th></th>\n",
              "      <th>age</th>\n",
              "      <th>job</th>\n",
              "      <th>marital</th>\n",
              "      <th>education</th>\n",
              "      <th>default</th>\n",
              "      <th>housing</th>\n",
              "      <th>loan</th>\n",
              "      <th>contact</th>\n",
              "      <th>month</th>\n",
              "      <th>day_of_week</th>\n",
              "      <th>...</th>\n",
              "      <th>campaign</th>\n",
              "      <th>pdays</th>\n",
              "      <th>previous</th>\n",
              "      <th>poutcome</th>\n",
              "      <th>emp.var.rate</th>\n",
              "      <th>cons.price.idx</th>\n",
              "      <th>cons.conf.idx</th>\n",
              "      <th>euribor3m</th>\n",
              "      <th>nr.employed</th>\n",
              "      <th>target</th>\n",
              "    </tr>\n",
              "  </thead>\n",
              "  <tbody>\n",
              "    <tr>\n",
              "      <th>0</th>\n",
              "      <td>56</td>\n",
              "      <td>housemaid</td>\n",
              "      <td>married</td>\n",
              "      <td>basic.4y</td>\n",
              "      <td>no</td>\n",
              "      <td>no</td>\n",
              "      <td>no</td>\n",
              "      <td>telephone</td>\n",
              "      <td>may</td>\n",
              "      <td>mon</td>\n",
              "      <td>...</td>\n",
              "      <td>1</td>\n",
              "      <td>999</td>\n",
              "      <td>0</td>\n",
              "      <td>nonexistent</td>\n",
              "      <td>1.1</td>\n",
              "      <td>93.994</td>\n",
              "      <td>-36.4</td>\n",
              "      <td>4.857</td>\n",
              "      <td>5191.0</td>\n",
              "      <td>0</td>\n",
              "    </tr>\n",
              "    <tr>\n",
              "      <th>1</th>\n",
              "      <td>57</td>\n",
              "      <td>services</td>\n",
              "      <td>married</td>\n",
              "      <td>high.school</td>\n",
              "      <td>unknown</td>\n",
              "      <td>no</td>\n",
              "      <td>no</td>\n",
              "      <td>telephone</td>\n",
              "      <td>may</td>\n",
              "      <td>mon</td>\n",
              "      <td>...</td>\n",
              "      <td>1</td>\n",
              "      <td>999</td>\n",
              "      <td>0</td>\n",
              "      <td>nonexistent</td>\n",
              "      <td>1.1</td>\n",
              "      <td>93.994</td>\n",
              "      <td>-36.4</td>\n",
              "      <td>4.857</td>\n",
              "      <td>5191.0</td>\n",
              "      <td>0</td>\n",
              "    </tr>\n",
              "    <tr>\n",
              "      <th>2</th>\n",
              "      <td>37</td>\n",
              "      <td>services</td>\n",
              "      <td>married</td>\n",
              "      <td>high.school</td>\n",
              "      <td>no</td>\n",
              "      <td>yes</td>\n",
              "      <td>no</td>\n",
              "      <td>telephone</td>\n",
              "      <td>may</td>\n",
              "      <td>mon</td>\n",
              "      <td>...</td>\n",
              "      <td>1</td>\n",
              "      <td>999</td>\n",
              "      <td>0</td>\n",
              "      <td>nonexistent</td>\n",
              "      <td>1.1</td>\n",
              "      <td>93.994</td>\n",
              "      <td>-36.4</td>\n",
              "      <td>4.857</td>\n",
              "      <td>5191.0</td>\n",
              "      <td>0</td>\n",
              "    </tr>\n",
              "    <tr>\n",
              "      <th>3</th>\n",
              "      <td>40</td>\n",
              "      <td>admin.</td>\n",
              "      <td>married</td>\n",
              "      <td>basic.6y</td>\n",
              "      <td>no</td>\n",
              "      <td>no</td>\n",
              "      <td>no</td>\n",
              "      <td>telephone</td>\n",
              "      <td>may</td>\n",
              "      <td>mon</td>\n",
              "      <td>...</td>\n",
              "      <td>1</td>\n",
              "      <td>999</td>\n",
              "      <td>0</td>\n",
              "      <td>nonexistent</td>\n",
              "      <td>1.1</td>\n",
              "      <td>93.994</td>\n",
              "      <td>-36.4</td>\n",
              "      <td>4.857</td>\n",
              "      <td>5191.0</td>\n",
              "      <td>0</td>\n",
              "    </tr>\n",
              "    <tr>\n",
              "      <th>4</th>\n",
              "      <td>56</td>\n",
              "      <td>services</td>\n",
              "      <td>married</td>\n",
              "      <td>high.school</td>\n",
              "      <td>no</td>\n",
              "      <td>no</td>\n",
              "      <td>yes</td>\n",
              "      <td>telephone</td>\n",
              "      <td>may</td>\n",
              "      <td>mon</td>\n",
              "      <td>...</td>\n",
              "      <td>1</td>\n",
              "      <td>999</td>\n",
              "      <td>0</td>\n",
              "      <td>nonexistent</td>\n",
              "      <td>1.1</td>\n",
              "      <td>93.994</td>\n",
              "      <td>-36.4</td>\n",
              "      <td>4.857</td>\n",
              "      <td>5191.0</td>\n",
              "      <td>0</td>\n",
              "    </tr>\n",
              "    <tr>\n",
              "      <th>...</th>\n",
              "      <td>...</td>\n",
              "      <td>...</td>\n",
              "      <td>...</td>\n",
              "      <td>...</td>\n",
              "      <td>...</td>\n",
              "      <td>...</td>\n",
              "      <td>...</td>\n",
              "      <td>...</td>\n",
              "      <td>...</td>\n",
              "      <td>...</td>\n",
              "      <td>...</td>\n",
              "      <td>...</td>\n",
              "      <td>...</td>\n",
              "      <td>...</td>\n",
              "      <td>...</td>\n",
              "      <td>...</td>\n",
              "      <td>...</td>\n",
              "      <td>...</td>\n",
              "      <td>...</td>\n",
              "      <td>...</td>\n",
              "      <td>...</td>\n",
              "    </tr>\n",
              "    <tr>\n",
              "      <th>95</th>\n",
              "      <td>45</td>\n",
              "      <td>services</td>\n",
              "      <td>married</td>\n",
              "      <td>professional.course</td>\n",
              "      <td>no</td>\n",
              "      <td>yes</td>\n",
              "      <td>no</td>\n",
              "      <td>telephone</td>\n",
              "      <td>may</td>\n",
              "      <td>mon</td>\n",
              "      <td>...</td>\n",
              "      <td>1</td>\n",
              "      <td>999</td>\n",
              "      <td>0</td>\n",
              "      <td>nonexistent</td>\n",
              "      <td>1.1</td>\n",
              "      <td>93.994</td>\n",
              "      <td>-36.4</td>\n",
              "      <td>4.857</td>\n",
              "      <td>5191.0</td>\n",
              "      <td>0</td>\n",
              "    </tr>\n",
              "    <tr>\n",
              "      <th>96</th>\n",
              "      <td>42</td>\n",
              "      <td>management</td>\n",
              "      <td>married</td>\n",
              "      <td>university.degree</td>\n",
              "      <td>no</td>\n",
              "      <td>no</td>\n",
              "      <td>no</td>\n",
              "      <td>telephone</td>\n",
              "      <td>may</td>\n",
              "      <td>mon</td>\n",
              "      <td>...</td>\n",
              "      <td>1</td>\n",
              "      <td>999</td>\n",
              "      <td>0</td>\n",
              "      <td>nonexistent</td>\n",
              "      <td>1.1</td>\n",
              "      <td>93.994</td>\n",
              "      <td>-36.4</td>\n",
              "      <td>4.857</td>\n",
              "      <td>5191.0</td>\n",
              "      <td>0</td>\n",
              "    </tr>\n",
              "    <tr>\n",
              "      <th>97</th>\n",
              "      <td>53</td>\n",
              "      <td>admin.</td>\n",
              "      <td>divorced</td>\n",
              "      <td>university.degree</td>\n",
              "      <td>unknown</td>\n",
              "      <td>no</td>\n",
              "      <td>no</td>\n",
              "      <td>telephone</td>\n",
              "      <td>may</td>\n",
              "      <td>mon</td>\n",
              "      <td>...</td>\n",
              "      <td>1</td>\n",
              "      <td>999</td>\n",
              "      <td>0</td>\n",
              "      <td>nonexistent</td>\n",
              "      <td>1.1</td>\n",
              "      <td>93.994</td>\n",
              "      <td>-36.4</td>\n",
              "      <td>4.857</td>\n",
              "      <td>5191.0</td>\n",
              "      <td>0</td>\n",
              "    </tr>\n",
              "    <tr>\n",
              "      <th>98</th>\n",
              "      <td>37</td>\n",
              "      <td>technician</td>\n",
              "      <td>single</td>\n",
              "      <td>professional.course</td>\n",
              "      <td>no</td>\n",
              "      <td>no</td>\n",
              "      <td>no</td>\n",
              "      <td>telephone</td>\n",
              "      <td>may</td>\n",
              "      <td>mon</td>\n",
              "      <td>...</td>\n",
              "      <td>1</td>\n",
              "      <td>999</td>\n",
              "      <td>0</td>\n",
              "      <td>nonexistent</td>\n",
              "      <td>1.1</td>\n",
              "      <td>93.994</td>\n",
              "      <td>-36.4</td>\n",
              "      <td>4.857</td>\n",
              "      <td>5191.0</td>\n",
              "      <td>0</td>\n",
              "    </tr>\n",
              "    <tr>\n",
              "      <th>99</th>\n",
              "      <td>44</td>\n",
              "      <td>blue-collar</td>\n",
              "      <td>married</td>\n",
              "      <td>basic.6y</td>\n",
              "      <td>no</td>\n",
              "      <td>no</td>\n",
              "      <td>no</td>\n",
              "      <td>telephone</td>\n",
              "      <td>may</td>\n",
              "      <td>mon</td>\n",
              "      <td>...</td>\n",
              "      <td>1</td>\n",
              "      <td>999</td>\n",
              "      <td>0</td>\n",
              "      <td>nonexistent</td>\n",
              "      <td>1.1</td>\n",
              "      <td>93.994</td>\n",
              "      <td>-36.4</td>\n",
              "      <td>4.857</td>\n",
              "      <td>5191.0</td>\n",
              "      <td>0</td>\n",
              "    </tr>\n",
              "  </tbody>\n",
              "</table>\n",
              "<p>100 rows × 21 columns</p>\n",
              "</div>\n",
              "    <div class=\"colab-df-buttons\">\n",
              "\n",
              "  <div class=\"colab-df-container\">\n",
              "    <button class=\"colab-df-convert\" onclick=\"convertToInteractive('df-847cc7dd-3d2c-4e65-929f-dc43adb27807')\"\n",
              "            title=\"Convert this dataframe to an interactive table.\"\n",
              "            style=\"display:none;\">\n",
              "\n",
              "  <svg xmlns=\"http://www.w3.org/2000/svg\" height=\"24px\" viewBox=\"0 -960 960 960\">\n",
              "    <path d=\"M120-120v-720h720v720H120Zm60-500h600v-160H180v160Zm220 220h160v-160H400v160Zm0 220h160v-160H400v160ZM180-400h160v-160H180v160Zm440 0h160v-160H620v160ZM180-180h160v-160H180v160Zm440 0h160v-160H620v160Z\"/>\n",
              "  </svg>\n",
              "    </button>\n",
              "\n",
              "  <style>\n",
              "    .colab-df-container {\n",
              "      display:flex;\n",
              "      gap: 12px;\n",
              "    }\n",
              "\n",
              "    .colab-df-convert {\n",
              "      background-color: #E8F0FE;\n",
              "      border: none;\n",
              "      border-radius: 50%;\n",
              "      cursor: pointer;\n",
              "      display: none;\n",
              "      fill: #1967D2;\n",
              "      height: 32px;\n",
              "      padding: 0 0 0 0;\n",
              "      width: 32px;\n",
              "    }\n",
              "\n",
              "    .colab-df-convert:hover {\n",
              "      background-color: #E2EBFA;\n",
              "      box-shadow: 0px 1px 2px rgba(60, 64, 67, 0.3), 0px 1px 3px 1px rgba(60, 64, 67, 0.15);\n",
              "      fill: #174EA6;\n",
              "    }\n",
              "\n",
              "    .colab-df-buttons div {\n",
              "      margin-bottom: 4px;\n",
              "    }\n",
              "\n",
              "    [theme=dark] .colab-df-convert {\n",
              "      background-color: #3B4455;\n",
              "      fill: #D2E3FC;\n",
              "    }\n",
              "\n",
              "    [theme=dark] .colab-df-convert:hover {\n",
              "      background-color: #434B5C;\n",
              "      box-shadow: 0px 1px 3px 1px rgba(0, 0, 0, 0.15);\n",
              "      filter: drop-shadow(0px 1px 2px rgba(0, 0, 0, 0.3));\n",
              "      fill: #FFFFFF;\n",
              "    }\n",
              "  </style>\n",
              "\n",
              "    <script>\n",
              "      const buttonEl =\n",
              "        document.querySelector('#df-847cc7dd-3d2c-4e65-929f-dc43adb27807 button.colab-df-convert');\n",
              "      buttonEl.style.display =\n",
              "        google.colab.kernel.accessAllowed ? 'block' : 'none';\n",
              "\n",
              "      async function convertToInteractive(key) {\n",
              "        const element = document.querySelector('#df-847cc7dd-3d2c-4e65-929f-dc43adb27807');\n",
              "        const dataTable =\n",
              "          await google.colab.kernel.invokeFunction('convertToInteractive',\n",
              "                                                    [key], {});\n",
              "        if (!dataTable) return;\n",
              "\n",
              "        const docLinkHtml = 'Like what you see? Visit the ' +\n",
              "          '<a target=\"_blank\" href=https://colab.research.google.com/notebooks/data_table.ipynb>data table notebook</a>'\n",
              "          + ' to learn more about interactive tables.';\n",
              "        element.innerHTML = '';\n",
              "        dataTable['output_type'] = 'display_data';\n",
              "        await google.colab.output.renderOutput(dataTable, element);\n",
              "        const docLink = document.createElement('div');\n",
              "        docLink.innerHTML = docLinkHtml;\n",
              "        element.appendChild(docLink);\n",
              "      }\n",
              "    </script>\n",
              "  </div>\n",
              "\n",
              "\n",
              "<div id=\"df-1e41629b-de7d-4e59-bc42-6c72c6113d5b\">\n",
              "  <button class=\"colab-df-quickchart\" onclick=\"quickchart('df-1e41629b-de7d-4e59-bc42-6c72c6113d5b')\"\n",
              "            title=\"Suggest charts\"\n",
              "            style=\"display:none;\">\n",
              "\n",
              "<svg xmlns=\"http://www.w3.org/2000/svg\" height=\"24px\"viewBox=\"0 0 24 24\"\n",
              "     width=\"24px\">\n",
              "    <g>\n",
              "        <path d=\"M19 3H5c-1.1 0-2 .9-2 2v14c0 1.1.9 2 2 2h14c1.1 0 2-.9 2-2V5c0-1.1-.9-2-2-2zM9 17H7v-7h2v7zm4 0h-2V7h2v10zm4 0h-2v-4h2v4z\"/>\n",
              "    </g>\n",
              "</svg>\n",
              "  </button>\n",
              "\n",
              "<style>\n",
              "  .colab-df-quickchart {\n",
              "      --bg-color: #E8F0FE;\n",
              "      --fill-color: #1967D2;\n",
              "      --hover-bg-color: #E2EBFA;\n",
              "      --hover-fill-color: #174EA6;\n",
              "      --disabled-fill-color: #AAA;\n",
              "      --disabled-bg-color: #DDD;\n",
              "  }\n",
              "\n",
              "  [theme=dark] .colab-df-quickchart {\n",
              "      --bg-color: #3B4455;\n",
              "      --fill-color: #D2E3FC;\n",
              "      --hover-bg-color: #434B5C;\n",
              "      --hover-fill-color: #FFFFFF;\n",
              "      --disabled-bg-color: #3B4455;\n",
              "      --disabled-fill-color: #666;\n",
              "  }\n",
              "\n",
              "  .colab-df-quickchart {\n",
              "    background-color: var(--bg-color);\n",
              "    border: none;\n",
              "    border-radius: 50%;\n",
              "    cursor: pointer;\n",
              "    display: none;\n",
              "    fill: var(--fill-color);\n",
              "    height: 32px;\n",
              "    padding: 0;\n",
              "    width: 32px;\n",
              "  }\n",
              "\n",
              "  .colab-df-quickchart:hover {\n",
              "    background-color: var(--hover-bg-color);\n",
              "    box-shadow: 0 1px 2px rgba(60, 64, 67, 0.3), 0 1px 3px 1px rgba(60, 64, 67, 0.15);\n",
              "    fill: var(--button-hover-fill-color);\n",
              "  }\n",
              "\n",
              "  .colab-df-quickchart-complete:disabled,\n",
              "  .colab-df-quickchart-complete:disabled:hover {\n",
              "    background-color: var(--disabled-bg-color);\n",
              "    fill: var(--disabled-fill-color);\n",
              "    box-shadow: none;\n",
              "  }\n",
              "\n",
              "  .colab-df-spinner {\n",
              "    border: 2px solid var(--fill-color);\n",
              "    border-color: transparent;\n",
              "    border-bottom-color: var(--fill-color);\n",
              "    animation:\n",
              "      spin 1s steps(1) infinite;\n",
              "  }\n",
              "\n",
              "  @keyframes spin {\n",
              "    0% {\n",
              "      border-color: transparent;\n",
              "      border-bottom-color: var(--fill-color);\n",
              "      border-left-color: var(--fill-color);\n",
              "    }\n",
              "    20% {\n",
              "      border-color: transparent;\n",
              "      border-left-color: var(--fill-color);\n",
              "      border-top-color: var(--fill-color);\n",
              "    }\n",
              "    30% {\n",
              "      border-color: transparent;\n",
              "      border-left-color: var(--fill-color);\n",
              "      border-top-color: var(--fill-color);\n",
              "      border-right-color: var(--fill-color);\n",
              "    }\n",
              "    40% {\n",
              "      border-color: transparent;\n",
              "      border-right-color: var(--fill-color);\n",
              "      border-top-color: var(--fill-color);\n",
              "    }\n",
              "    60% {\n",
              "      border-color: transparent;\n",
              "      border-right-color: var(--fill-color);\n",
              "    }\n",
              "    80% {\n",
              "      border-color: transparent;\n",
              "      border-right-color: var(--fill-color);\n",
              "      border-bottom-color: var(--fill-color);\n",
              "    }\n",
              "    90% {\n",
              "      border-color: transparent;\n",
              "      border-bottom-color: var(--fill-color);\n",
              "    }\n",
              "  }\n",
              "</style>\n",
              "\n",
              "  <script>\n",
              "    async function quickchart(key) {\n",
              "      const quickchartButtonEl =\n",
              "        document.querySelector('#' + key + ' button');\n",
              "      quickchartButtonEl.disabled = true;  // To prevent multiple clicks.\n",
              "      quickchartButtonEl.classList.add('colab-df-spinner');\n",
              "      try {\n",
              "        const charts = await google.colab.kernel.invokeFunction(\n",
              "            'suggestCharts', [key], {});\n",
              "      } catch (error) {\n",
              "        console.error('Error during call to suggestCharts:', error);\n",
              "      }\n",
              "      quickchartButtonEl.classList.remove('colab-df-spinner');\n",
              "      quickchartButtonEl.classList.add('colab-df-quickchart-complete');\n",
              "    }\n",
              "    (() => {\n",
              "      let quickchartButtonEl =\n",
              "        document.querySelector('#df-1e41629b-de7d-4e59-bc42-6c72c6113d5b button');\n",
              "      quickchartButtonEl.style.display =\n",
              "        google.colab.kernel.accessAllowed ? 'block' : 'none';\n",
              "    })();\n",
              "  </script>\n",
              "</div>\n",
              "\n",
              "    </div>\n",
              "  </div>\n"
            ],
            "application/vnd.google.colaboratory.intrinsic+json": {
              "type": "dataframe",
              "variable_name": "df"
            }
          },
          "metadata": {},
          "execution_count": 9
        }
      ],
      "source": [
        "# Afficher le jeu de données\n",
        "dataset_df = df\n",
        "df.head(100)"
      ]
    },
    {
      "cell_type": "markdown",
      "metadata": {
        "id": "fIGvfflhVwSq"
      },
      "source": [
        "<p>Si vous avez bien implémenté les étapes précédentes, un dataframe devrait être apparu. La colonne nommée 'y' ne devrait pas y être, puisque vous l'avez supprimée. La colonne 'target', contenant des valeurs 0 et/ou des valeurs 1, devrait cependant être présente. </p>\n",
        "<p>Comme vous l'avez sans doute compris, la colonne \"target\" indique si oui ou non la personne a souscrit à l'offre bancaire. Votre objectif va donc être de prédire cette valeur en utilisant tous les autres attributs présents dans le jeu de données. Cependant, il reste encore beaucoup à faire sur ces attributs pour pouvoir les rendre exploitables par un modèle.</p>"
      ]
    },
    {
      "cell_type": "markdown",
      "metadata": {
        "id": "N3mDZrPNVwSq"
      },
      "source": [
        "<h4>Définitions</h4>\n",
        "<p>L'une des transformations et études les plus importantes lorsque l'on travaille avec des données tabulaires est le fait de séparer les champs catégoriels et les champs numériques. En effet, ces deux types de données ont des façons de fonctionner qui sont bien différentes, et les modèles ont souvent besoin que l'on transforme les champs catégoriels en champs numériques.</p>\n",
        "\n",
        "<p>Transformer les données catégorielles en données numériques est crucial pour le Machine Learning, car <b>la plupart des algorithmes de ML sont basés sur des opérations mathématiques qui nécessitent des valeurs numériques</b>. Les données catégorielles, telles que les couleurs ou les catégories de produits, ne peuvent pas être directement utilisées dans ces calculs.</p>\n",
        "\n",
        "<p>En convertissant les données catégorielles en données numériques, on permet aux algorithmes de traiter ces informations de manière efficace. Cela permet également de capturer les relations et les patterns cachés dans les données, facilitant ainsi la création de modèles plus précis et performants.</p>\n",
        "\n",
        "<p>Pour ce faire, vous allez devoir séparer ces champs dans des listes différentes afin de pouvoir facilement les identifier dans le reste de l'analyse.</p>"
      ]
    },
    {
      "cell_type": "markdown",
      "metadata": {
        "id": "gAIVhe3qVwSq"
      },
      "source": [
        "<div style=\"padding: 10px; margin:10px 0; color: #4AAD64; margin-bottom: 15px;\">\n",
        "<b>✅ Vous devez compléter les deux cases suivantes.</b>\n",
        "</div>"
      ]
    },
    {
      "cell_type": "code",
      "execution_count": null,
      "metadata": {
        "id": "rHm2zR2BVwSq"
      },
      "outputs": [],
      "source": [
        "# À FAIRE: Créer deux tableaux contenant une liste des attributs numériques et catégoriels\n",
        "# Liste des attributs numériques\n",
        "#1/ Grab columns by select_dtypes\n",
        "#2/ convert to dataframe\n",
        "num_features_columns = dataset_df.select_dtypes(include=['int', 'float']).columns\n",
        "num_features = dataset_df[num_features_columns]\n",
        "# Lste des attributs catégorielles\n",
        "cat_features_columns = dataset_df.select_dtypes(include=['object', 'bool']).columns\n",
        "cat_features = dataset_df[cat_features_columns]\n",
        "# 11 numérique et 10 catégorique"
      ]
    },
    {
      "cell_type": "code",
      "execution_count": null,
      "metadata": {
        "id": "rXiarr1MVwSq"
      },
      "outputs": [],
      "source": [
        "# À FAIRE: Créer quatres tableaux contenant une liste des attributs numériques continus, numériques discrets, catégoriels nominales et catégoriels ordinales\n",
        "\n",
        "# Liste des attributs numériques continus\n",
        "continuous_features = ['emp.var.rate','cons.price.idx','cons.conf.idx','euribor3m','nr.employed']\n",
        "\n",
        "# Liste des attributs numériques discrets\n",
        "discrete_features = ['duration','age','campaign','pday','previous','target']\n",
        "\n",
        "# Liste des attributs catégoriels nominals\n",
        "nominal_features = ['job','education']\n",
        "\n",
        "# Liste des attributs catégoriels ordinales\n",
        "ordinal_features = ['outcome','marital','default','housing','loan','contact','month','day_of_week']"
      ]
    },
    {
      "cell_type": "code",
      "execution_count": null,
      "metadata": {
        "id": "8LWbaBfIVwSr"
      },
      "outputs": [],
      "source": [
        "# Sauvegardons maintenant notre dataset dans un fichier csv\n",
        "dataset_df.to_csv(\"bank.csv\")"
      ]
    },
    {
      "cell_type": "markdown",
      "metadata": {
        "id": "0_EXx9PzVwSr"
      },
      "source": [
        "<div style=\"padding: 10px; margin:10px 0; background-color: #FFEF4A; color: black; margin-bottom: 15px;\">\n",
        "<b>⚠️ Si vous avez des difficultés à différencier les types de données, nous vous suggérons de vous référer au tutoriel indiqué à la section 0.1 sur ce sujet</b>\n",
        "</div>"
      ]
    },
    {
      "cell_type": "markdown",
      "metadata": {
        "id": "BBt8yaq7VwSr"
      },
      "source": [
        "<b>Prenez le temps de poser vos questions ci-dessous. Votre mentor y répondra.</b>"
      ]
    },
    {
      "cell_type": "code",
      "execution_count": null,
      "metadata": {
        "id": "I7gxLUmIVwSr",
        "colab": {
          "base_uri": "https://localhost:8080/",
          "height": 52
        },
        "outputId": "acfb275a-eb71-4fda-fd17-6bd0356aed93"
      },
      "outputs": [
        {
          "output_type": "execute_result",
          "data": {
            "text/plain": [
              "'\\nVotre liste de questions:\\n\\nComment on peux repondre a la question precedente, classifications des variables (discrete, continuous, nominal, ordinal) en utilisant du code ?\\n'"
            ],
            "application/vnd.google.colaboratory.intrinsic+json": {
              "type": "string"
            }
          },
          "metadata": {},
          "execution_count": 13
        }
      ],
      "source": [
        "\"\"\"\n",
        "Votre liste de questions:\n",
        "\n",
        "Comment on peux repondre a la question precedente, classifications des variables (discrete, continuous, nominal, ordinal) en utilisant du code ?\n",
        "\"\"\""
      ]
    },
    {
      "cell_type": "markdown",
      "metadata": {
        "id": "7yAppTRiVwSr"
      },
      "source": [
        "<h3>Étude des classes et la division stratifiée des jeux de données d'entraînement - validation - test</h3>\n",
        "Avant d'effectuer des opérations sur le jeu de données, il est important d'identifier ses divisions, c'est-à-dire, le jeu d'entraînement, le jeu de validation et le jeu de test. Avant de choisir la technique qui sera utilisée pour effectuer la division du jeu de données, nous devons connaître la distribution des classes.\n",
        "\n",
        "\n",
        "<div style=\"padding: 10px; margin:10px 0;border: 2px solid rgba(31, 99, 180, 1); color: black; margin-bottom: 15px; width:70%; border-radius: 25px;\">\n",
        "    <b>📚 Objectifs pédagogiques :</b>\n",
        "    <ul>\n",
        "      <li>Valider la compréhension de l'utilité des différents jeux de données - entraînement, validation et test;</li>\n",
        "      <li>Compréhension du concept d'un jeu de données équilibré vs déséquilibré;</li>\n",
        "      <li>Compréhension des concepts d'échantillonnages - aléatoire et aléatoire stratifié.</li>\n",
        "    </ul>\n",
        "</div>\n",
        "\n",
        "<h4>Étude des classes</h4>\n",
        "<p>L'étude des classes permet de déterminer si le jeu est équilibré ou déséquilibré. </p>\n",
        "\n",
        "<div style=\"padding: 10px; margin:10px 0;border: 2px solid orange; color: black; margin-bottom: 15px; width:70%; border-radius: 25px;\">\n",
        "    <b>🔎 Notre cas d'utilisation :</b>\n",
        "<p>Dans le cas de \"Banco\", <b>un jeu de données équilibré serait un jeu de données où il y a autant de lignes où les clients ont souscrit à l'offre bancaire que de lignes où ils n'ont pas souscrit</b>. On aurait alors un jeu de données parfaitement équilibré avec 50% de souscriptions et 50% de non-souscriptions.</p>\n",
        "<p>Au contraire, <b>un jeu déséquilibré serait un jeu de données où nous avons beaucoup plus de non-souscriptions (ou de souscriptions)</b>. Il est important d'avoir une idée précise de la distribution de son dataset pour être plus \"critique\" sur les résultats des prédictions et pour s'assurer de ne pas avoir que des données avec des souscriptions dans le jeu d'apprentissage et aucun dans notre jeu de données de test.</p>\n",
        "</div>\n",
        "\n",
        "\n",
        "<b>Jeu de données équilibré</b>: Les jeux de données où les classes ont des proportions similaires.\n",
        "\n",
        "<b>Jeu de données déséquilibré</b>: Les jeux de données où l’une des classes (ou plusieurs dans le cas d'une classification multiclasses) est extrêmement minoritaire par rapport aux autres."
      ]
    },
    {
      "cell_type": "code",
      "execution_count": null,
      "metadata": {
        "id": "pJxVOAt-VwSr"
      },
      "outputs": [],
      "source": [
        "# Description de la quantité de cas pour chaque classes\n",
        "len_class_no = len(dataset_df.loc[dataset_df['target']==TARGETS['no']])\n",
        "len_class_yes = len(dataset_df.loc[dataset_df['target']==TARGETS['yes']])"
      ]
    },
    {
      "cell_type": "code",
      "execution_count": null,
      "metadata": {
        "id": "Vk-EbOGYVwSr",
        "colab": {
          "base_uri": "https://localhost:8080/"
        },
        "outputId": "253ab19e-7d96-4ed1-f08a-0778481954e2"
      },
      "outputs": [
        {
          "output_type": "stream",
          "name": "stdout",
          "text": [
            "Total number of instances:  41188\n",
            "Total number of client who didn't subscribe:  36548\n",
            "Total number of client who subscribe:  4640\n"
          ]
        }
      ],
      "source": [
        "# À FAIRE: Imprimer le nombre d'instance total, le nombre d'instance négatives et le nombre d'instance positive.\n",
        "print(\"Total number of instances: \", dataset_df['target'].count())\n",
        "print(\"Total number of client who didn't subscribe: \", dataset_df['target'].value_counts()[0])\n",
        "print(\"Total number of client who subscribe: \", dataset_df['target'].value_counts()[1])"
      ]
    },
    {
      "cell_type": "code",
      "execution_count": null,
      "metadata": {
        "id": "BYJgmObWVwSr",
        "colab": {
          "base_uri": "https://localhost:8080/",
          "height": 487
        },
        "outputId": "250b7df7-443c-40ba-996b-79c136626880"
      },
      "outputs": [
        {
          "output_type": "stream",
          "name": "stdout",
          "text": [
            "Classe 0 represents 88.73458288821988 %\n",
            "Classe 1 represents 11.265417111780131 %\n"
          ]
        },
        {
          "output_type": "display_data",
          "data": {
            "text/plain": [
              "<Figure size 640x480 with 1 Axes>"
            ],
            "image/png": "[encoded data removed]"
          },
          "metadata": {}
        }
      ],
      "source": [
        "# Imprimer la proportion des classes\n",
        "for iClass in np.sort(dataset_df['target'].unique()):\n",
        "    print('Classe', iClass, 'represents', len(dataset_df[dataset_df['target'] == iClass]) / len(dataset_df[['target']]) * 100, \"%\")\n",
        "\n",
        "# Visualiser dans un graphique la proporion des classes\n",
        "dataset_df[['target']].hist()\n",
        "plt.show()"
      ]
    },
    {
      "cell_type": "markdown",
      "metadata": {
        "id": "zdcsXo2zVwSs"
      },
      "source": [
        "<p>Dans ce cas, on constate que la classe 0 est largement dominante par rapport à l'autre classe. Elle représente environ 89 % de l'ensemble du jeu de données. On peut donc conclure que le jeu de données est déséquilibré. Ce graphique est utile, car il nous permet de savoir que lorsque nous allons diviser les échantillons dans un jeu de données d'apprentissage - validation - test, nous devons opter pour une stratégie de sélection aléatoire stratifiée qui nous permet de conserver la distribution des classes.</p>"
      ]
    },
    {
      "cell_type": "markdown",
      "metadata": {
        "id": "_zbX4_-wVwSs"
      },
      "source": [
        "<div style=\"padding: 10px; margin:10px 0; background-color: rgba(31, 99, 180, 1); color: white; margin-bottom: 15px;\">\n",
        "💡 Question 1: Dans un autre contexte, si votre jeu de données vous était fourni étant déjà séparé en jeu d'entrainement, de validation et de test, est-ce qu'il serait pertinent de faire une étude de la distribution des classes?\n",
        "</div>\n",
        "\n",
        "Les liens suivants peuvent vous aider à répondre à cette question:\n",
        "\n",
        "https://www.aquiladata.fr/insights/comment-gerer-le-desequilibre-des-classes-dans-un-jeu-de-donnees/\n",
        "\n",
        "https://datascientest.com/comment-gerer-les-problemes-de-classification-desequilibree-partie-i"
      ]
    },
    {
      "cell_type": "markdown",
      "metadata": {
        "id": "re8gU9RwVwSs"
      },
      "source": [
        "<b>Répondez à la question dans la cellule ci-dessous.</b>"
      ]
    },
    {
      "cell_type": "code",
      "execution_count": null,
      "metadata": {
        "id": "-uTmIMEOVwSs",
        "colab": {
          "base_uri": "https://localhost:8080/",
          "height": 70
        },
        "outputId": "bd81da43-c44c-4e97-ab60-6b431a2aa8d4"
      },
      "outputs": [
        {
          "output_type": "execute_result",
          "data": {
            "text/plain": [
              "'\\nRéponse à la question 1:\\nIl faut toujours faire une étude de la distribution des classes même si les donnes sont segmentées en validation, test et entrainement pour plusieurs raison dont on peut citer ;\\n-\\tVérifier si les classes sont correctement représente entre les segments de données validations et d’entrainement afin d’éviter d’affaiblir la performance du model\\n-\\tVérifier la distribution des classes entre ces segment de donnes\\n\\n'"
            ],
            "application/vnd.google.colaboratory.intrinsic+json": {
              "type": "string"
            }
          },
          "metadata": {},
          "execution_count": 17
        }
      ],
      "source": [
        "\"\"\"\n",
        "Réponse à la question 1:\n",
        "Il faut toujours faire une étude de la distribution des classes même si les donnes sont segmentées en validation, test et entrainement pour plusieurs raison dont on peut citer ;\n",
        "-\tVérifier si les classes sont correctement représente entre les segments de données validations et d’entrainement afin d’éviter d’affaiblir la performance du model\n",
        "-\tVérifier la distribution des classes entre ces segment de donnes\n",
        "\n",
        "\"\"\""
      ]
    },
    {
      "cell_type": "markdown",
      "metadata": {
        "id": "YcRjMz3TVwSs"
      },
      "source": [
        "<div style=\"padding: 10px; margin:10px 0; background-color: #FFEF4A; color: black; margin-bottom: 15px;\">\n",
        "<b>⚠️ Si vous ne connaissez pas les métriques de base d'évaluation d'un modèle de classification binaire (accuracy, précision, rappel), veuillez vous référez au tutoriel à ce sujet, indiqué dans la section 0.1.</b>\n",
        "</div>"
      ]
    },
    {
      "cell_type": "markdown",
      "metadata": {
        "id": "MHvYk3B3VwSs"
      },
      "source": [
        "<h4>Tirages stratifiés des échantillons entraînement - validation - test</h4>\n",
        "<p>La division du jeu de données en jeu de données d'entraînement, de validation et de test est une phase importante, car elle assure l'intégrité et la reproductibilité de votre expérience. Elle permet également de tester les performances d'un modèle sur des données qui lui sont inédites. En effet, si l'on entraînait un modèle sur des données et qu'on le testait sur les mêmes, les performances seraient très mauvaises une fois le modèle en production (phénomène de surapprentissage). Plusieurs techniques existent donc pour séparer le jeu de données en 3 jeux de données distincts qui sont utilisés à des moments différents. Voici la description de deux de ces techniques.</p>\n",
        "<ul>\n",
        "    <li><b>Division aléatoire</b> : Cette technique tirera un nombre fixe de cas dans chaque ensemble de données, sans se soucier de leurs étiquettes.</li>\n",
        "    <li><b>Division stratifiée aléatoire</b> : Cette technique tirera un nombre fixe de cas de chaque groupe (0 et 1) afin que nous puissions conserver la même distribution (%) dans chaque ensemble de données.</li>\n",
        "</ul>\n",
        "\n",
        "Puisque notre jeu de données est déséquilibré, il est important d'utiliser une technique stratifiée qui permet de conserver la distribution des classes dans tous les jeux de données. Afin de mieux comprendre les raisons de l'importance de cette technique, veuillez consulter les liens indiqués dans la section précéd<div style=\"padding: 10px; margin:10px 0;border: 2px solid orange; color: black; margin-bottom: 15px; width:70%; border-radius: 25px;\">\n",
        "    <b>🔎 Notre cas d'utilisation:</b>\n",
        "    <p>Imaginons un instant que nous n'ayons pas vérifié si notre jeu de données était déséquilibré. En utilisant une division aléatoire, nous aurions pu nous retrouver avec un jeu de données ne contenant que des personnes n'ayant pas souscrit. Dans ce cas, notre algorithme aurait été incapable de faire une prédiction pour les clients ayant souscrit.</p>\n",
        "    <p>Nous ne nous serions peut-être jamais rendu compte que notre algorithme performait mal (du moins avant la mise en production). En effet, comme le jeu de données est très déséquilibré, notre algorithme aurait eu un score de précision \"acceptable\" (89% dans notre cas !). <b>Il est donc essentiel de passer par cette étape avant de pouvoir continuer la mise en place de la solution.</b> </p>\n",
        "</div>\n",
        "\n",
        "L'ensemble de données va être divisé dans ces proportions :\n",
        "<ul>\n",
        "    <li>20 % pour l'ensemble de données de test </li>\n",
        "    <li>15 % pour l'ensemble de données de validation </li>\n",
        "    <li>65 % pour l'ensemble de données d'apprentissage.</li>\n",
        "</ul>\n",
        "\n",
        "Dans les cases suivantes, nous ferons l'utilisation d'une variable sous la forme d'un dictionnaire. Il est important d'en comprendre le principe, puisque vous serez appelé à en faire l'utilisation. C'est une forme de bonne pratique qui permet de clarifier la lecture du code.\n",
        "\n",
        "<div style=\"padding: 10px; margin:10px 0; background-color: #FFEF4A; color: black; margin-bottom: 15px;\">\n",
        "<b>⚠️ Si vous ne savez pas comment créer ou utiliser un dictionnaire, veuillez vous référer au tutoriel à ce sujet, indiqué dans la section 0.1.</b>\n",
        "</div>\n",
        "</div>"
      ]
    },
    {
      "cell_type": "code",
      "execution_count": null,
      "metadata": {
        "id": "z_EZugu1VwSs",
        "colab": {
          "base_uri": "https://localhost:8080/"
        },
        "outputId": "235853c9-a56b-45ca-8463-d7fbff72e569"
      },
      "outputs": [
        {
          "output_type": "stream",
          "name": "stdout",
          "text": [
            "Class train is 0\n",
            "Class validation is 1\n",
            "Class test is 2\n"
          ]
        }
      ],
      "source": [
        "DATASET: dict = {\"train\": 0,\n",
        "                 \"validation\": 1,\n",
        "                 \"test\": 2}\n",
        "\n",
        "[print(\"Class\", key, \"is\", value) for key, value in DATASET.items()];"
      ]
    },
    {
      "cell_type": "markdown",
      "metadata": {
        "id": "fNT0ijeTVwSs"
      },
      "source": [
        "<div style=\"padding: 10px; margin:10px 0; background-color: #FFEF4A; color: black; margin-bottom: 15px;\">\n",
        "<b>⚠️ Si vous ne comprenez pas les différences entre un jeu de données d'entraînement, de validation et de test, ainsi que leurs utilités, veuillez vous référer au tutoriel à ce sujet, indiqué dans la section 0.1.</b>\n",
        "</div>\n",
        "<p>Nous allons maintenant séparer les données en deux ensembles différents. Le premier va contenir les variables indépendantes, que l'on appelle X, et le second dataset va contenir la variable que l'on cherche à prédire en utilisant X. La variable que l'on cherche à prédire est dite \"dépendante\" et on l'appelle Y.</p>"
      ]
    },
    {
      "cell_type": "code",
      "execution_count": null,
      "metadata": {
        "id": "ZoS1Oi3QVwSs"
      },
      "outputs": [],
      "source": [
        "# Définir le jeu de données et les valeurs à prédire\n",
        "X = dataset_df.drop(['target'], axis=1, inplace=False)\n",
        "y = dataset_df[['target']]"
      ]
    },
    {
      "cell_type": "markdown",
      "metadata": {
        "id": "EUlSyyR1VwSs"
      },
      "source": [
        "<div style=\"padding: 10px; margin:10px 0; color: #4AAD64; margin-bottom: 15px;\">\n",
        "<b>✅ Vous devez compléter la case suivante.</b>\n",
        "</div>\n",
        "<p>Parfait ! Maintenant, nous pouvons séparer les deux jeux de données en ensembles d'entraînement, de test et de validation !</p>\n",
        "<p>Comme vous l'avez déjà sans doute remarqué, il est recommandé d'utiliser des bibliothèques et des fonctions qui existent déjà afin de faciliter la mise en place d'une solution d'apprentissage automatique. Bien entendu, il n'est pas possible de se souvenir de toutes les fonctions, et il est essentiel d'être à l'aise pour parcourir la documentation et trouver les informations dont vous avez besoin. Essayez de résoudre la question suivante en prenant du temps pour parcourir la documentation.</p>\n",
        "\n",
        "<p>Veuillez vous référer à la documentation de la bibliothèque `Scikit-learn` pour comprendre comment utiliser la fonction `train_test_split()`.\n",
        "\n",
        "https://scikit-learn.org/stable/modules/generated/sklearn.model_selection.train_test_split.html</p>\n"
      ]
    },
    {
      "cell_type": "code",
      "execution_count": null,
      "metadata": {
        "id": "rSBkP7LxVwSs"
      },
      "outputs": [],
      "source": [
        "# Séparer le jeu de données en jeu de données d'entrainement et de test.\n",
        "X_train, X_test, y_train, y_test = train_test_split(X, y, stratify=y, test_size=0.2)"
      ]
    },
    {
      "cell_type": "code",
      "execution_count": null,
      "metadata": {
        "id": "F3Z51ct6VwSs"
      },
      "outputs": [],
      "source": [
        "# À FAIRE: Séparer le jeu de données d'entrainement en jeu de données d'entrainment et de validation. Pour effectuer la division, veuillez prendre un test_size de 20%.\n",
        "# Cela vous permettera d'obtenir un jeu de validation ayant une proportion de 15% du jeu de données initial et un jeu d'entrainement ayant une proportion de 65% du jeu de données initiale.\n",
        "X_train, X_temp, y_train, y_temp = train_test_split(X, y, test_size=0.35, random_state=42)\n",
        "X_test, X_validation, y_test, y_validation = train_test_split(X_temp, y_temp, test_size=0.428571, random_state=42)\n"
      ]
    },
    {
      "cell_type": "code",
      "source": [
        "print('X_train : ',round(len(X_train)/len(X),2),' %')\n",
        "print('X_test : ',round(len(X_test)/len(X),2),' %')\n",
        "print('X_validation : ',round(len(X_validation)/len(X),2),' %')"
      ],
      "metadata": {
        "colab": {
          "base_uri": "https://localhost:8080/"
        },
        "id": "NGvm1p5kkuiU",
        "outputId": "053c8993-6518-4247-c07b-be081ba4dd57"
      },
      "execution_count": null,
      "outputs": [
        {
          "output_type": "stream",
          "name": "stdout",
          "text": [
            "X_train :  0.65  %\n",
            "X_test :  0.2  %\n",
            "X_validation :  0.15  %\n"
          ]
        }
      ]
    },
    {
      "cell_type": "code",
      "execution_count": null,
      "metadata": {
        "id": "X87LqY91VwSz"
      },
      "outputs": [],
      "source": [
        "# Ajouter une colonne au jeu de données qui indique à quel jeu de données chaque ligne appartient.\n",
        "dataset_df['dataset'] = -1\n",
        "dataset_df.loc[X_train.index, \"dataset\"] = DATASET['train']\n",
        "dataset_df.loc[X_validation.index, \"dataset\"] = DATASET['validation']\n",
        "dataset_df.loc[X_test.index, \"dataset\"] = DATASET['test']"
      ]
    },
    {
      "cell_type": "markdown",
      "metadata": {
        "id": "7UKqALvDVwS0"
      },
      "source": [
        "Afin de vérifier si la stratégie stratifiée a bien séparée le jeu de données, nous représentons chaque sous-ensemble de données (l'ensemble complet, d'entraînement, de validation et de test) dans des graphiques pour afficher les proportions de chacun d'entre eux."
      ]
    },
    {
      "cell_type": "code",
      "execution_count": null,
      "metadata": {
        "id": "dV1l1SAdVwS0"
      },
      "outputs": [],
      "source": [
        "# Fonction permettant d'afficher les proportions des différents jeu de données, à l'aide de la colonne 'dataset'\n",
        "def draw_dataset_distribution_distplot(df, target):\n",
        "    fig, (ax0, ax1, ax2, ax3) = plt.subplots(1, 4, figsize=(25,5))\n",
        "    sns.histplot(df[[target]],label=target, ax=ax0)\n",
        "    ax0.set_title('Jeu de données entier')\n",
        "    sns.histplot(df[df['dataset'] == DATASET['train']][[target]],label=target, ax=ax1)\n",
        "    ax1.set_title('Jeu de données entraînement')\n",
        "    sns.histplot(df[df['dataset'] == DATASET['validation']][[target]],label=target, ax=ax2)\n",
        "    ax2.set_title('Jeu de données de validation')\n",
        "    sns.histplot(df[df['dataset'] == DATASET['test']][[target]],label=target, ax=ax3)\n",
        "    ax3.set_title('Jeu de données de test')\n",
        "    fig.suptitle(\"Distribution du jeu de données en fonction des valeurs à prédire\")\n",
        "    plt.show()"
      ]
    },
    {
      "cell_type": "code",
      "execution_count": null,
      "metadata": {
        "id": "YhI8xmLlVwS0",
        "colab": {
          "base_uri": "https://localhost:8080/",
          "height": 302
        },
        "outputId": "5af80ed3-95e1-42a2-dc84-aa9edad5051e"
      },
      "outputs": [
        {
          "output_type": "display_data",
          "data": {
            "text/plain": [
              "<Figure size 2500x500 with 4 Axes>"
            ],
            "image/png": "[encoded data removed]"
          },
          "metadata": {}
        }
      ],
      "source": [
        "# Afficher la distribution des classes dans le jeu de données initial et les nouveaux jeux de données\n",
        "draw_dataset_distribution_distplot(dataset_df, 'target')"
      ]
    },
    {
      "cell_type": "markdown",
      "metadata": {
        "id": "kJ32-Lo1VwS0"
      },
      "source": [
        "La proportion des jeux de données devrait être la même dans tous les graphiques. Si ce n'est pas le cas, il est possible qu'une erreur ait été produite dans les cases supérieures. Une révision de celles-ci est nécessaire. N'hésitez pas à contacter votre mentor afin d'obtenir de l'aide avant de poursuivre ce Notebook.\n",
        "\n",
        "<div style=\"padding: 10px; margin:10px 0; color: #4AAD64; margin-bottom: 15px;\">\n",
        "<b>✅ Vous devez compléter la case suivante.</b>\n",
        "</div>"
      ]
    },
    {
      "cell_type": "code",
      "execution_count": null,
      "metadata": {
        "id": "5isusJAWVwS0"
      },
      "outputs": [],
      "source": [
        "# À FAIRE: Enregistrer le jeu de données afin de créer des intermédiaires qui faciliteront la reproductibilité des expériences\n",
        "X_train.to_csv(\"bank_X_Train.csv\")\n",
        "X_test.to_csv(\"bank_X_test.csv\")\n",
        "X_validation.to_csv(\"bank_X_Validation.csv\")\n",
        "y_train.to_csv(\"bank_y_Train.csv\")\n",
        "y_test.to_csv(\"bank_y_test.csv\")\n",
        "y_validation.to_csv(\"bank_y_Validation.csv\")\n"
      ]
    },
    {
      "cell_type": "code",
      "source": [
        "dataset_df.to_csv(\"dataset_df.csv\")"
      ],
      "metadata": {
        "id": "wTGeDzb6s8dZ"
      },
      "execution_count": null,
      "outputs": []
    },
    {
      "cell_type": "markdown",
      "metadata": {
        "id": "0oGcjee2VwS0"
      },
      "source": [
        "<b>Prenez le temps de poser vos questions ci-dessous. Votre mentor y répondra.</b>"
      ]
    },
    {
      "cell_type": "code",
      "execution_count": null,
      "metadata": {
        "id": "sbfLP7UGVwS0",
        "colab": {
          "base_uri": "https://localhost:8080/",
          "height": 52
        },
        "outputId": "faa888b8-b441-484f-fe84-b8339ff618c1"
      },
      "outputs": [
        {
          "output_type": "execute_result",
          "data": {
            "text/plain": [
              "\"\\nVotre liste de questions:\\nAu cas on a des données déséquilibré comment s'assurer (quel Methods) que la distribution et les caractéristiques du jeux de données initial seront hérité après la division ?\\n\""
            ],
            "application/vnd.google.colaboratory.intrinsic+json": {
              "type": "string"
            }
          },
          "metadata": {},
          "execution_count": 28
        }
      ],
      "source": [
        "\"\"\"\n",
        "Votre liste de questions:\n",
        "Au cas on a des données déséquilibré comment s'assurer (quel Methods) que la distribution et les caractéristiques du jeux de données initial seront hérité après la division ?\n",
        "\"\"\""
      ]
    },
    {
      "cell_type": "markdown",
      "metadata": {
        "id": "M1W_cx_4VwS0"
      },
      "source": [
        "<h3>Données manquantes</h3>\n",
        "\n",
        "En statistiques, les données manquantes ou les valeurs manquantes se produisent lorsqu'aucune valeur de données n'est représentée pour une variable donnée dans une observation donnée.\n",
        "\n",
        "La plupart des algorithmes d'apprentissage automatique nécessitent des valeurs d'entrée numériques et une valeur pour chaque ligne et colonne d'un ensemble de données. Les valeurs manquantes peuvent causer des problèmes aux algorithmes d'apprentissage automatique. Il est donc courant de repérer ces valeurs manquantes dans l'ensemble de données et de définir la technique qui sera utilisée pour les traiter. Voici les deux méthodes habituellement utilisées pour effectuer cette tâche.\n",
        "\n",
        "<ul>\n",
        "    <li><b>Supprimer les variables ou les instances contenant des valeurs manquantes :</b> Si vous êtes pressé ou n'avez pas de raison de comprendre pourquoi vos valeurs sont manquantes, une option que vous avez est de simplement supprimer toutes les lignes ou colonnes qui contiennent des valeurs manquantes. L'utilisation de cette technique peut aussi être justifiée par le nombre de données manquantes. Si ce nombre est extrêmement petit, c'est une solution qui pourrait être envisagée.</li>\n",
        "<ul>\n",
        "    <li><b>Substitution des données manquantes par la moyenne, la médiane ou une autre valeur :</b> Les autres techniques disponibles sont des méthodes d'imputation, par opposition aux méthodes de suppression de données. La méthode d'imputation la plus simple consiste à remplacer les valeurs manquantes par les valeurs moyennes ou médianes de l'ensemble de données dans son ensemble. Cela a l'avantage de vous permettre de conserver toutes vos données pour l'entraînement. Afin de complémenter cette technique, il est possible d'ajouter une colonne au jeu de données qui indiquerait par la valeur 1 ou 0 si cette ligne possède des données qui ont été modifiées. Cela permet de conserver cette information dans le cas où une donnée manquante procurerait de l'information pertinente au modèle.</li>\n",
        "</ul>\n",
        "\n",
        "Tutoriel sur différentes techniques pour traiter les données manquantes :\n",
        "<a href=\"https://www.kaggle.com/rtatman/data-cleaning-challenge-handling-missing-values\">https://www.kaggle.com/rtatman/data-cleaning-challenge-handling-missing-values</a>\n",
        "\n",
        "<p>Allons vérifier si notre jeu de données contient des données manquantes. La bibliothèque `Pandas` conserve ses données sous forme de NaN.</p>\n",
        "\n",
        "<div style=\"padding: 10px; margin:10px 0;border: 2px solid rgba(31, 99, 180, 1); color: black; margin-bottom: 15px; width:70%; border-radius: 25px;\">\n",
        "    <b>📚 Objectifs pédagogiques:</b>\n",
        "    <ul>\n",
        "        <li>Comprendre ce qu'est une donnée manquante et pourquoi il est important de les identifier;</li>\n",
        "        <li>Retrouver des valeurs manquantes dans un DataFrame Pandas;</li>\n",
        "        <li>Comprendre les deux types de techniques de traitement des données manquantes.</li>\n",
        "    </ul>\n",
        "</div>\n",
        "\n",
        "<div style=\"padding: 10px; margin:10px 0;border: 2px solid orange; color: black; margin-bottom: 15px; width:70%; border-radius: 25px;\">\n",
        "    <b>🔎 Notre cas d'utilisation:</b>\n",
        "    <p>Il est également très important de s'assurer que nos données sont complètes. En effet, si notre jeu de données ne dispose pas de suffisamment d'information, il y a un fort risque d'introduire des biais dans notre analyse et de ne pas réussir à prédire correctement.</p>\n",
        "    <p>Imaginons un instant qu'il manque à de très nombreuses reprises l'âge des personnes qui ont plus de 60 ans. L'algorithme apprendra uniquement avec les données restantes et aurait énormément de mal à généraliser et à prédire pour cette catégorie de personnes.</p>\n",
        "    <p>Si vous souhaitez en apprendre davantage sur les différents biais qui peuvent exister, voici un <a href=\"https://upload.wikimedia.org/wikipedia/commons/1/16/The_Cognitive_Bias_Codex_%28French%29_-_John_Manoogian_III_%28jm3%29.svg\">lien</a>.</p>\n",
        "</div>\n",
        "\n",
        "<div style=\"padding: 10px; margin:10px 0; color: #4AAD64; margin-bottom: 15px;\">\n",
        "<b>✅ Vous devez compléter la case suivante.</b>\n",
        "</div>"
      ]
    },
    {
      "cell_type": "code",
      "execution_count": null,
      "metadata": {
        "id": "6RPrvctaVwS0",
        "colab": {
          "base_uri": "https://localhost:8080/",
          "height": 430
        },
        "outputId": "7d402a11-8f5d-4e54-d0ff-75e07ae7a8fc"
      },
      "outputs": [
        {
          "output_type": "execute_result",
          "data": {
            "text/plain": [
              "   Unnamed: 0  age          job  marital            education  default  \\\n",
              "0           0   56    housemaid  married             basic.4y       no   \n",
              "1           1   57     services  married          high.school  unknown   \n",
              "2           2   37     services  married          high.school       no   \n",
              "3           3   40       admin.  married             basic.6y       no   \n",
              "4           4   56     services  married          high.school       no   \n",
              "5           5   45     services  married             basic.9y  unknown   \n",
              "6           6   59       admin.  married  professional.course       no   \n",
              "7           7   41  blue-collar  married              unknown  unknown   \n",
              "8           8   24   technician   single  professional.course       no   \n",
              "9           9   25     services   single          high.school       no   \n",
              "\n",
              "  housing loan    contact month  ... pdays  previous     poutcome  \\\n",
              "0      no   no  telephone   may  ...   999         0  nonexistent   \n",
              "1      no   no  telephone   may  ...   999         0  nonexistent   \n",
              "2     yes   no  telephone   may  ...   999         0  nonexistent   \n",
              "3      no   no  telephone   may  ...   999         0  nonexistent   \n",
              "4      no  yes  telephone   may  ...   999         0  nonexistent   \n",
              "5      no   no  telephone   may  ...   999         0  nonexistent   \n",
              "6      no   no  telephone   may  ...   999         0  nonexistent   \n",
              "7      no   no  telephone   may  ...   999         0  nonexistent   \n",
              "8     yes   no  telephone   may  ...   999         0  nonexistent   \n",
              "9     yes   no  telephone   may  ...   999         0  nonexistent   \n",
              "\n",
              "   emp.var.rate  cons.price.idx cons.conf.idx  euribor3m  nr.employed  target  \\\n",
              "0           1.1          93.994         -36.4      4.857       5191.0       0   \n",
              "1           1.1          93.994         -36.4      4.857       5191.0       0   \n",
              "2           1.1          93.994         -36.4      4.857       5191.0       0   \n",
              "3           1.1          93.994         -36.4      4.857       5191.0       0   \n",
              "4           1.1          93.994         -36.4      4.857       5191.0       0   \n",
              "5           1.1          93.994         -36.4      4.857       5191.0       0   \n",
              "6           1.1          93.994         -36.4      4.857       5191.0       0   \n",
              "7           1.1          93.994         -36.4      4.857       5191.0       0   \n",
              "8           1.1          93.994         -36.4      4.857       5191.0       0   \n",
              "9           1.1          93.994         -36.4      4.857       5191.0       0   \n",
              "\n",
              "   dataset  \n",
              "0        0  \n",
              "1        2  \n",
              "2        0  \n",
              "3        0  \n",
              "4        2  \n",
              "5        0  \n",
              "6        1  \n",
              "7        1  \n",
              "8        0  \n",
              "9        0  \n",
              "\n",
              "[10 rows x 23 columns]"
            ],
            "text/html": [
              "\n",
              "  <div id=\"df-e1dc31c7-420d-4b77-a37d-953ac739f130\" class=\"colab-df-container\">\n",
              "    <div>\n",
              "<style scoped>\n",
              "    .dataframe tbody tr th:only-of-type {\n",
              "        vertical-align: middle;\n",
              "    }\n",
              "\n",
              "    .dataframe tbody tr th {\n",
              "        vertical-align: top;\n",
              "    }\n",
              "\n",
              "    .dataframe thead th {\n",
              "        text-align: right;\n",
              "    }\n",
              "</style>\n",
              "<table border=\"1\" class=\"dataframe\">\n",
              "  <thead>\n",
              "    <tr style=\"text-align: right;\">\n",
              "      <th></th>\n",
              "      <th>Unnamed: 0</th>\n",
              "      <th>age</th>\n",
              "      <th>job</th>\n",
              "      <th>marital</th>\n",
              "      <th>education</th>\n",
              "      <th>default</th>\n",
              "      <th>housing</th>\n",
              "      <th>loan</th>\n",
              "      <th>contact</th>\n",
              "      <th>month</th>\n",
              "      <th>...</th>\n",
              "      <th>pdays</th>\n",
              "      <th>previous</th>\n",
              "      <th>poutcome</th>\n",
              "      <th>emp.var.rate</th>\n",
              "      <th>cons.price.idx</th>\n",
              "      <th>cons.conf.idx</th>\n",
              "      <th>euribor3m</th>\n",
              "      <th>nr.employed</th>\n",
              "      <th>target</th>\n",
              "      <th>dataset</th>\n",
              "    </tr>\n",
              "  </thead>\n",
              "  <tbody>\n",
              "    <tr>\n",
              "      <th>0</th>\n",
              "      <td>0</td>\n",
              "      <td>56</td>\n",
              "      <td>housemaid</td>\n",
              "      <td>married</td>\n",
              "      <td>basic.4y</td>\n",
              "      <td>no</td>\n",
              "      <td>no</td>\n",
              "      <td>no</td>\n",
              "      <td>telephone</td>\n",
              "      <td>may</td>\n",
              "      <td>...</td>\n",
              "      <td>999</td>\n",
              "      <td>0</td>\n",
              "      <td>nonexistent</td>\n",
              "      <td>1.1</td>\n",
              "      <td>93.994</td>\n",
              "      <td>-36.4</td>\n",
              "      <td>4.857</td>\n",
              "      <td>5191.0</td>\n",
              "      <td>0</td>\n",
              "      <td>0</td>\n",
              "    </tr>\n",
              "    <tr>\n",
              "      <th>1</th>\n",
              "      <td>1</td>\n",
              "      <td>57</td>\n",
              "      <td>services</td>\n",
              "      <td>married</td>\n",
              "      <td>high.school</td>\n",
              "      <td>unknown</td>\n",
              "      <td>no</td>\n",
              "      <td>no</td>\n",
              "      <td>telephone</td>\n",
              "      <td>may</td>\n",
              "      <td>...</td>\n",
              "      <td>999</td>\n",
              "      <td>0</td>\n",
              "      <td>nonexistent</td>\n",
              "      <td>1.1</td>\n",
              "      <td>93.994</td>\n",
              "      <td>-36.4</td>\n",
              "      <td>4.857</td>\n",
              "      <td>5191.0</td>\n",
              "      <td>0</td>\n",
              "      <td>2</td>\n",
              "    </tr>\n",
              "    <tr>\n",
              "      <th>2</th>\n",
              "      <td>2</td>\n",
              "      <td>37</td>\n",
              "      <td>services</td>\n",
              "      <td>married</td>\n",
              "      <td>high.school</td>\n",
              "      <td>no</td>\n",
              "      <td>yes</td>\n",
              "      <td>no</td>\n",
              "      <td>telephone</td>\n",
              "      <td>may</td>\n",
              "      <td>...</td>\n",
              "      <td>999</td>\n",
              "      <td>0</td>\n",
              "      <td>nonexistent</td>\n",
              "      <td>1.1</td>\n",
              "      <td>93.994</td>\n",
              "      <td>-36.4</td>\n",
              "      <td>4.857</td>\n",
              "      <td>5191.0</td>\n",
              "      <td>0</td>\n",
              "      <td>0</td>\n",
              "    </tr>\n",
              "    <tr>\n",
              "      <th>3</th>\n",
              "      <td>3</td>\n",
              "      <td>40</td>\n",
              "      <td>admin.</td>\n",
              "      <td>married</td>\n",
              "      <td>basic.6y</td>\n",
              "      <td>no</td>\n",
              "      <td>no</td>\n",
              "      <td>no</td>\n",
              "      <td>telephone</td>\n",
              "      <td>may</td>\n",
              "      <td>...</td>\n",
              "      <td>999</td>\n",
              "      <td>0</td>\n",
              "      <td>nonexistent</td>\n",
              "      <td>1.1</td>\n",
              "      <td>93.994</td>\n",
              "      <td>-36.4</td>\n",
              "      <td>4.857</td>\n",
              "      <td>5191.0</td>\n",
              "      <td>0</td>\n",
              "      <td>0</td>\n",
              "    </tr>\n",
              "    <tr>\n",
              "      <th>4</th>\n",
              "      <td>4</td>\n",
              "      <td>56</td>\n",
              "      <td>services</td>\n",
              "      <td>married</td>\n",
              "      <td>high.school</td>\n",
              "      <td>no</td>\n",
              "      <td>no</td>\n",
              "      <td>yes</td>\n",
              "      <td>telephone</td>\n",
              "      <td>may</td>\n",
              "      <td>...</td>\n",
              "      <td>999</td>\n",
              "      <td>0</td>\n",
              "      <td>nonexistent</td>\n",
              "      <td>1.1</td>\n",
              "      <td>93.994</td>\n",
              "      <td>-36.4</td>\n",
              "      <td>4.857</td>\n",
              "      <td>5191.0</td>\n",
              "      <td>0</td>\n",
              "      <td>2</td>\n",
              "    </tr>\n",
              "    <tr>\n",
              "      <th>5</th>\n",
              "      <td>5</td>\n",
              "      <td>45</td>\n",
              "      <td>services</td>\n",
              "      <td>married</td>\n",
              "      <td>basic.9y</td>\n",
              "      <td>unknown</td>\n",
              "      <td>no</td>\n",
              "      <td>no</td>\n",
              "      <td>telephone</td>\n",
              "      <td>may</td>\n",
              "      <td>...</td>\n",
              "      <td>999</td>\n",
              "      <td>0</td>\n",
              "      <td>nonexistent</td>\n",
              "      <td>1.1</td>\n",
              "      <td>93.994</td>\n",
              "      <td>-36.4</td>\n",
              "      <td>4.857</td>\n",
              "      <td>5191.0</td>\n",
              "      <td>0</td>\n",
              "      <td>0</td>\n",
              "    </tr>\n",
              "    <tr>\n",
              "      <th>6</th>\n",
              "      <td>6</td>\n",
              "      <td>59</td>\n",
              "      <td>admin.</td>\n",
              "      <td>married</td>\n",
              "      <td>professional.course</td>\n",
              "      <td>no</td>\n",
              "      <td>no</td>\n",
              "      <td>no</td>\n",
              "      <td>telephone</td>\n",
              "      <td>may</td>\n",
              "      <td>...</td>\n",
              "      <td>999</td>\n",
              "      <td>0</td>\n",
              "      <td>nonexistent</td>\n",
              "      <td>1.1</td>\n",
              "      <td>93.994</td>\n",
              "      <td>-36.4</td>\n",
              "      <td>4.857</td>\n",
              "      <td>5191.0</td>\n",
              "      <td>0</td>\n",
              "      <td>1</td>\n",
              "    </tr>\n",
              "    <tr>\n",
              "      <th>7</th>\n",
              "      <td>7</td>\n",
              "      <td>41</td>\n",
              "      <td>blue-collar</td>\n",
              "      <td>married</td>\n",
              "      <td>unknown</td>\n",
              "      <td>unknown</td>\n",
              "      <td>no</td>\n",
              "      <td>no</td>\n",
              "      <td>telephone</td>\n",
              "      <td>may</td>\n",
              "      <td>...</td>\n",
              "      <td>999</td>\n",
              "      <td>0</td>\n",
              "      <td>nonexistent</td>\n",
              "      <td>1.1</td>\n",
              "      <td>93.994</td>\n",
              "      <td>-36.4</td>\n",
              "      <td>4.857</td>\n",
              "      <td>5191.0</td>\n",
              "      <td>0</td>\n",
              "      <td>1</td>\n",
              "    </tr>\n",
              "    <tr>\n",
              "      <th>8</th>\n",
              "      <td>8</td>\n",
              "      <td>24</td>\n",
              "      <td>technician</td>\n",
              "      <td>single</td>\n",
              "      <td>professional.course</td>\n",
              "      <td>no</td>\n",
              "      <td>yes</td>\n",
              "      <td>no</td>\n",
              "      <td>telephone</td>\n",
              "      <td>may</td>\n",
              "      <td>...</td>\n",
              "      <td>999</td>\n",
              "      <td>0</td>\n",
              "      <td>nonexistent</td>\n",
              "      <td>1.1</td>\n",
              "      <td>93.994</td>\n",
              "      <td>-36.4</td>\n",
              "      <td>4.857</td>\n",
              "      <td>5191.0</td>\n",
              "      <td>0</td>\n",
              "      <td>0</td>\n",
              "    </tr>\n",
              "    <tr>\n",
              "      <th>9</th>\n",
              "      <td>9</td>\n",
              "      <td>25</td>\n",
              "      <td>services</td>\n",
              "      <td>single</td>\n",
              "      <td>high.school</td>\n",
              "      <td>no</td>\n",
              "      <td>yes</td>\n",
              "      <td>no</td>\n",
              "      <td>telephone</td>\n",
              "      <td>may</td>\n",
              "      <td>...</td>\n",
              "      <td>999</td>\n",
              "      <td>0</td>\n",
              "      <td>nonexistent</td>\n",
              "      <td>1.1</td>\n",
              "      <td>93.994</td>\n",
              "      <td>-36.4</td>\n",
              "      <td>4.857</td>\n",
              "      <td>5191.0</td>\n",
              "      <td>0</td>\n",
              "      <td>0</td>\n",
              "    </tr>\n",
              "  </tbody>\n",
              "</table>\n",
              "<p>10 rows × 23 columns</p>\n",
              "</div>\n",
              "    <div class=\"colab-df-buttons\">\n",
              "\n",
              "  <div class=\"colab-df-container\">\n",
              "    <button class=\"colab-df-convert\" onclick=\"convertToInteractive('df-e1dc31c7-420d-4b77-a37d-953ac739f130')\"\n",
              "            title=\"Convert this dataframe to an interactive table.\"\n",
              "            style=\"display:none;\">\n",
              "\n",
              "  <svg xmlns=\"http://www.w3.org/2000/svg\" height=\"24px\" viewBox=\"0 -960 960 960\">\n",
              "    <path d=\"M120-120v-720h720v720H120Zm60-500h600v-160H180v160Zm220 220h160v-160H400v160Zm0 220h160v-160H400v160ZM180-400h160v-160H180v160Zm440 0h160v-160H620v160ZM180-180h160v-160H180v160Zm440 0h160v-160H620v160Z\"/>\n",
              "  </svg>\n",
              "    </button>\n",
              "\n",
              "  <style>\n",
              "    .colab-df-container {\n",
              "      display:flex;\n",
              "      gap: 12px;\n",
              "    }\n",
              "\n",
              "    .colab-df-convert {\n",
              "      background-color: #E8F0FE;\n",
              "      border: none;\n",
              "      border-radius: 50%;\n",
              "      cursor: pointer;\n",
              "      display: none;\n",
              "      fill: #1967D2;\n",
              "      height: 32px;\n",
              "      padding: 0 0 0 0;\n",
              "      width: 32px;\n",
              "    }\n",
              "\n",
              "    .colab-df-convert:hover {\n",
              "      background-color: #E2EBFA;\n",
              "      box-shadow: 0px 1px 2px rgba(60, 64, 67, 0.3), 0px 1px 3px 1px rgba(60, 64, 67, 0.15);\n",
              "      fill: #174EA6;\n",
              "    }\n",
              "\n",
              "    .colab-df-buttons div {\n",
              "      margin-bottom: 4px;\n",
              "    }\n",
              "\n",
              "    [theme=dark] .colab-df-convert {\n",
              "      background-color: #3B4455;\n",
              "      fill: #D2E3FC;\n",
              "    }\n",
              "\n",
              "    [theme=dark] .colab-df-convert:hover {\n",
              "      background-color: #434B5C;\n",
              "      box-shadow: 0px 1px 3px 1px rgba(0, 0, 0, 0.15);\n",
              "      filter: drop-shadow(0px 1px 2px rgba(0, 0, 0, 0.3));\n",
              "      fill: #FFFFFF;\n",
              "    }\n",
              "  </style>\n",
              "\n",
              "    <script>\n",
              "      const buttonEl =\n",
              "        document.querySelector('#df-e1dc31c7-420d-4b77-a37d-953ac739f130 button.colab-df-convert');\n",
              "      buttonEl.style.display =\n",
              "        google.colab.kernel.accessAllowed ? 'block' : 'none';\n",
              "\n",
              "      async function convertToInteractive(key) {\n",
              "        const element = document.querySelector('#df-e1dc31c7-420d-4b77-a37d-953ac739f130');\n",
              "        const dataTable =\n",
              "          await google.colab.kernel.invokeFunction('convertToInteractive',\n",
              "                                                    [key], {});\n",
              "        if (!dataTable) return;\n",
              "\n",
              "        const docLinkHtml = 'Like what you see? Visit the ' +\n",
              "          '<a target=\"_blank\" href=https://colab.research.google.com/notebooks/data_table.ipynb>data table notebook</a>'\n",
              "          + ' to learn more about interactive tables.';\n",
              "        element.innerHTML = '';\n",
              "        dataTable['output_type'] = 'display_data';\n",
              "        await google.colab.output.renderOutput(dataTable, element);\n",
              "        const docLink = document.createElement('div');\n",
              "        docLink.innerHTML = docLinkHtml;\n",
              "        element.appendChild(docLink);\n",
              "      }\n",
              "    </script>\n",
              "  </div>\n",
              "\n",
              "\n",
              "<div id=\"df-87582cd3-e73b-47a7-a4e1-e93d1002ecdc\">\n",
              "  <button class=\"colab-df-quickchart\" onclick=\"quickchart('df-87582cd3-e73b-47a7-a4e1-e93d1002ecdc')\"\n",
              "            title=\"Suggest charts\"\n",
              "            style=\"display:none;\">\n",
              "\n",
              "<svg xmlns=\"http://www.w3.org/2000/svg\" height=\"24px\"viewBox=\"0 0 24 24\"\n",
              "     width=\"24px\">\n",
              "    <g>\n",
              "        <path d=\"M19 3H5c-1.1 0-2 .9-2 2v14c0 1.1.9 2 2 2h14c1.1 0 2-.9 2-2V5c0-1.1-.9-2-2-2zM9 17H7v-7h2v7zm4 0h-2V7h2v10zm4 0h-2v-4h2v4z\"/>\n",
              "    </g>\n",
              "</svg>\n",
              "  </button>\n",
              "\n",
              "<style>\n",
              "  .colab-df-quickchart {\n",
              "      --bg-color: #E8F0FE;\n",
              "      --fill-color: #1967D2;\n",
              "      --hover-bg-color: #E2EBFA;\n",
              "      --hover-fill-color: #174EA6;\n",
              "      --disabled-fill-color: #AAA;\n",
              "      --disabled-bg-color: #DDD;\n",
              "  }\n",
              "\n",
              "  [theme=dark] .colab-df-quickchart {\n",
              "      --bg-color: #3B4455;\n",
              "      --fill-color: #D2E3FC;\n",
              "      --hover-bg-color: #434B5C;\n",
              "      --hover-fill-color: #FFFFFF;\n",
              "      --disabled-bg-color: #3B4455;\n",
              "      --disabled-fill-color: #666;\n",
              "  }\n",
              "\n",
              "  .colab-df-quickchart {\n",
              "    background-color: var(--bg-color);\n",
              "    border: none;\n",
              "    border-radius: 50%;\n",
              "    cursor: pointer;\n",
              "    display: none;\n",
              "    fill: var(--fill-color);\n",
              "    height: 32px;\n",
              "    padding: 0;\n",
              "    width: 32px;\n",
              "  }\n",
              "\n",
              "  .colab-df-quickchart:hover {\n",
              "    background-color: var(--hover-bg-color);\n",
              "    box-shadow: 0 1px 2px rgba(60, 64, 67, 0.3), 0 1px 3px 1px rgba(60, 64, 67, 0.15);\n",
              "    fill: var(--button-hover-fill-color);\n",
              "  }\n",
              "\n",
              "  .colab-df-quickchart-complete:disabled,\n",
              "  .colab-df-quickchart-complete:disabled:hover {\n",
              "    background-color: var(--disabled-bg-color);\n",
              "    fill: var(--disabled-fill-color);\n",
              "    box-shadow: none;\n",
              "  }\n",
              "\n",
              "  .colab-df-spinner {\n",
              "    border: 2px solid var(--fill-color);\n",
              "    border-color: transparent;\n",
              "    border-bottom-color: var(--fill-color);\n",
              "    animation:\n",
              "      spin 1s steps(1) infinite;\n",
              "  }\n",
              "\n",
              "  @keyframes spin {\n",
              "    0% {\n",
              "      border-color: transparent;\n",
              "      border-bottom-color: var(--fill-color);\n",
              "      border-left-color: var(--fill-color);\n",
              "    }\n",
              "    20% {\n",
              "      border-color: transparent;\n",
              "      border-left-color: var(--fill-color);\n",
              "      border-top-color: var(--fill-color);\n",
              "    }\n",
              "    30% {\n",
              "      border-color: transparent;\n",
              "      border-left-color: var(--fill-color);\n",
              "      border-top-color: var(--fill-color);\n",
              "      border-right-color: var(--fill-color);\n",
              "    }\n",
              "    40% {\n",
              "      border-color: transparent;\n",
              "      border-right-color: var(--fill-color);\n",
              "      border-top-color: var(--fill-color);\n",
              "    }\n",
              "    60% {\n",
              "      border-color: transparent;\n",
              "      border-right-color: var(--fill-color);\n",
              "    }\n",
              "    80% {\n",
              "      border-color: transparent;\n",
              "      border-right-color: var(--fill-color);\n",
              "      border-bottom-color: var(--fill-color);\n",
              "    }\n",
              "    90% {\n",
              "      border-color: transparent;\n",
              "      border-bottom-color: var(--fill-color);\n",
              "    }\n",
              "  }\n",
              "</style>\n",
              "\n",
              "  <script>\n",
              "    async function quickchart(key) {\n",
              "      const quickchartButtonEl =\n",
              "        document.querySelector('#' + key + ' button');\n",
              "      quickchartButtonEl.disabled = true;  // To prevent multiple clicks.\n",
              "      quickchartButtonEl.classList.add('colab-df-spinner');\n",
              "      try {\n",
              "        const charts = await google.colab.kernel.invokeFunction(\n",
              "            'suggestCharts', [key], {});\n",
              "      } catch (error) {\n",
              "        console.error('Error during call to suggestCharts:', error);\n",
              "      }\n",
              "      quickchartButtonEl.classList.remove('colab-df-spinner');\n",
              "      quickchartButtonEl.classList.add('colab-df-quickchart-complete');\n",
              "    }\n",
              "    (() => {\n",
              "      let quickchartButtonEl =\n",
              "        document.querySelector('#df-87582cd3-e73b-47a7-a4e1-e93d1002ecdc button');\n",
              "      quickchartButtonEl.style.display =\n",
              "        google.colab.kernel.accessAllowed ? 'block' : 'none';\n",
              "    })();\n",
              "  </script>\n",
              "</div>\n",
              "\n",
              "    </div>\n",
              "  </div>\n"
            ],
            "application/vnd.google.colaboratory.intrinsic+json": {
              "type": "dataframe",
              "variable_name": "dataset_df"
            }
          },
          "metadata": {},
          "execution_count": 29
        }
      ],
      "source": [
        "# À FAIRE: Lire les données provenant du fichier CSV enregistré à la section précédente et conserver l'information dans une variable nommée dataset_df\n",
        "dataset_df = pd.read_csv('dataset_df.csv', delimiter=',')\n",
        "dataset_df.head(10)"
      ]
    },
    {
      "cell_type": "code",
      "execution_count": null,
      "metadata": {
        "id": "ABnPdywQVwS0"
      },
      "outputs": [],
      "source": [
        "# Effectuer l'analyse seulement sur les données d'entraînement afin de simuler un context réel\n",
        "x_train = dataset_df.loc[dataset_df['dataset']==DATASET['train']]"
      ]
    },
    {
      "cell_type": "markdown",
      "metadata": {
        "id": "-2V3gxW_VwS0"
      },
      "source": [
        "<h4>Identifier les valeurs Nan</h4>\n",
        "\n",
        "<div style=\"padding: 10px; margin:10px 0; color: #4AAD64; margin-bottom: 15px;\">\n",
        "<b>✅ Vous devez compléter la case suivante.</b>\n",
        "</div>\n",
        "\n",
        "Veuillez vous référer a la documentation de la fonction `isnull()` de la librairie `Pandas` pour remplir la case suivante.\n",
        "\n",
        "https://pandas.pydata.org/pandas-docs/stable/reference/api/pandas.isnull.html"
      ]
    },
    {
      "cell_type": "code",
      "execution_count": null,
      "metadata": {
        "id": "QUivwyioVwS0",
        "colab": {
          "base_uri": "https://localhost:8080/"
        },
        "outputId": "a99a1767-139c-49a0-d9c4-b661af9fcb72"
      },
      "outputs": [
        {
          "output_type": "stream",
          "name": "stdout",
          "text": [
            "Unnamed: 0        0\n",
            "age               0\n",
            "job               0\n",
            "marital           0\n",
            "education         0\n",
            "default           0\n",
            "housing           0\n",
            "loan              0\n",
            "contact           0\n",
            "month             0\n",
            "day_of_week       0\n",
            "duration          0\n",
            "campaign          0\n",
            "pdays             0\n",
            "previous          0\n",
            "poutcome          0\n",
            "emp.var.rate      0\n",
            "cons.price.idx    0\n",
            "cons.conf.idx     0\n",
            "euribor3m         0\n",
            "nr.employed       0\n",
            "target            0\n",
            "dataset           0\n",
            "dtype: int64\n"
          ]
        }
      ],
      "source": [
        "# À FAIRE: Utiliser la fonction isnull() de la librairie Pandas afin de vérifier si le jeu de données contient des valeur Nan.\n",
        "# False = n'est pas Nan, True = est une valeur Nan\n",
        "null_values = dataset_df.isnull().sum()\n",
        "missing_data = dataset_df.isnull()\n",
        "print(null_values)"
      ]
    },
    {
      "cell_type": "code",
      "execution_count": null,
      "metadata": {
        "id": "VpgiLXuzVwS1",
        "colab": {
          "base_uri": "https://localhost:8080/"
        },
        "outputId": "6829a13a-f0ce-4ab3-c95a-c3666b381947"
      },
      "outputs": [
        {
          "output_type": "stream",
          "name": "stdout",
          "text": [
            "       Unnamed: 0    age    job  marital  education  default  housing   loan  \\\n",
            "0           False  False  False    False      False    False    False  False   \n",
            "1           False  False  False    False      False    False    False  False   \n",
            "2           False  False  False    False      False    False    False  False   \n",
            "3           False  False  False    False      False    False    False  False   \n",
            "4           False  False  False    False      False    False    False  False   \n",
            "...           ...    ...    ...      ...        ...      ...      ...    ...   \n",
            "41183       False  False  False    False      False    False    False  False   \n",
            "41184       False  False  False    False      False    False    False  False   \n",
            "41185       False  False  False    False      False    False    False  False   \n",
            "41186       False  False  False    False      False    False    False  False   \n",
            "41187       False  False  False    False      False    False    False  False   \n",
            "\n",
            "       contact  month  ...  pdays  previous  poutcome  emp.var.rate  \\\n",
            "0        False  False  ...  False     False     False         False   \n",
            "1        False  False  ...  False     False     False         False   \n",
            "2        False  False  ...  False     False     False         False   \n",
            "3        False  False  ...  False     False     False         False   \n",
            "4        False  False  ...  False     False     False         False   \n",
            "...        ...    ...  ...    ...       ...       ...           ...   \n",
            "41183    False  False  ...  False     False     False         False   \n",
            "41184    False  False  ...  False     False     False         False   \n",
            "41185    False  False  ...  False     False     False         False   \n",
            "41186    False  False  ...  False     False     False         False   \n",
            "41187    False  False  ...  False     False     False         False   \n",
            "\n",
            "       cons.price.idx  cons.conf.idx  euribor3m  nr.employed  target  dataset  \n",
            "0               False          False      False        False   False    False  \n",
            "1               False          False      False        False   False    False  \n",
            "2               False          False      False        False   False    False  \n",
            "3               False          False      False        False   False    False  \n",
            "4               False          False      False        False   False    False  \n",
            "...               ...            ...        ...          ...     ...      ...  \n",
            "41183           False          False      False        False   False    False  \n",
            "41184           False          False      False        False   False    False  \n",
            "41185           False          False      False        False   False    False  \n",
            "41186           False          False      False        False   False    False  \n",
            "41187           False          False      False        False   False    False  \n",
            "\n",
            "[41188 rows x 23 columns]\n"
          ]
        }
      ],
      "source": [
        "# There is no null data #\n",
        "print (missing_data)"
      ]
    },
    {
      "cell_type": "markdown",
      "metadata": {
        "id": "tR-HPdSxVwS1"
      },
      "source": [
        "<div style=\"padding: 10px; margin:10px 0; background-color: rgba(31, 99, 180, 1); color: white; margin-bottom: 15px;\">\n",
        "💡 Question 2: En vous fiant au tableau qui est apparu à la case précédente, pouvez-vous expliquer ce que la fonction isnull() effectue?\n",
        "</div>"
      ]
    },
    {
      "cell_type": "markdown",
      "metadata": {
        "id": "6aRnJlnAVwS1"
      },
      "source": [
        "<b>Répondez à la question ci-dessous.</b>"
      ]
    },
    {
      "cell_type": "code",
      "execution_count": null,
      "metadata": {
        "id": "q2u77vcGVwS1",
        "colab": {
          "base_uri": "https://localhost:8080/",
          "height": 35
        },
        "outputId": "69daf7dc-1fb0-41a6-d079-1777945f5657"
      },
      "outputs": [
        {
          "output_type": "execute_result",
          "data": {
            "text/plain": [
              "'\\nRéponse à la question 2:\\nLa fonction is null verifie la presence de donnees ou son absence\\n'"
            ],
            "application/vnd.google.colaboratory.intrinsic+json": {
              "type": "string"
            }
          },
          "metadata": {},
          "execution_count": 33
        }
      ],
      "source": [
        "\"\"\"\n",
        "Réponse à la question 2:\n",
        "La fonction is null verifie la presence de donnees ou son absence\n",
        "\"\"\""
      ]
    },
    {
      "cell_type": "code",
      "execution_count": null,
      "metadata": {
        "id": "xC9JPCdKVwS1"
      },
      "outputs": [],
      "source": [
        "# Pour chaque colonne, imprimer la proportion de données manquantes.\n",
        "for column in missing_data.columns:\n",
        "    nb_missing_values = len(missing_data.loc[missing_data[column]==True])\n",
        "    if (nb_missing_values>0):\n",
        "        print(column, \": \", nb_missing_values, \"\\n\")"
      ]
    },
    {
      "cell_type": "markdown",
      "metadata": {
        "id": "FhtGeujYVwS1"
      },
      "source": [
        "<p>En voilà une bonne nouvelle ! Pour ce jeu de données, aucune valeur n'a été imprimée. Cela signifie qu'il n'y a aucune valeur manquante. Chaque case possède donc une valeur et aucune transformation n'est nécessaire pour cette phase.</p>\n",
        "<p>Attention cependant, sur des jeux de données issus d'entreprise, il est très rare de ne trouver aucun nul. Cette analyse est donc toujours à faire.</p\n",
        "\n"
      ]
    },
    {
      "cell_type": "markdown",
      "metadata": {
        "id": "WBkh0uCnVwS1"
      },
      "source": [
        "<h3>Encodage des colonnes catégorielles</h3>\n",
        "<p>Tel que déterminé à la section 1, le jeu de données contient des données catégorielles. La plupart des modèles d'apprentissage automatique ne peuvent pas recevoir du texte. Dans cette analyse, nous allons utiliser le modèle Random Forest. Ce dernier ne fait pas exception à la règle et il est donc nécessaire de transformer les données catégorielles en données numériques.</p>\n",
        "\n",
        "<div style=\"padding: 10px; margin:10px 0;border: 2px solid rgba(31, 99, 180, 1); color: black; margin-bottom: 15px; width:70%; border-radius: 25px;\">\n",
        "    <b>📚 Objectifs pédagogiques:</b>\n",
        "    <ul>\n",
        "        <li>Comprendre ce qu'est une donnée catégorielle et l'importance de les identifier;</li>\n",
        "        <li>Retrouver les données catégorielles dans un DataFrame Pandas;</li>\n",
        "        <li>Appliquer un encodeur sur des données catégorielles afin de les transformer en données numériques.</li>\n",
        "    </ul>\n",
        "</div>\n",
        "\n",
        "Il existe plusieurs méthodes qui permettent d'encoder des données catégorielles. Pour ce tutoriel, nous utiliserons la technique \"Label Encoding\" puisque son implémentation est simple et qu'elle ne crée pas de nouveaux attributs (il n'y a pas d'augmentation de la dimensionnalité par la création de nouvelles colonnes). Certaines méthodes d'encodage sont plus appropriées pour certains types de données catégorielles. Pour obtenir plus d'information sur les différents types d'encodage, voici un lien qui mène à un tutoriel qui explique, compare et vous montre comment implémenter différents types d'encodeurs.\n",
        "\n",
        "https://www.kaggle.com/shahules/an-overview-of-encoding-techniques\n",
        "\n",
        "<b>Label Encoding:</b> Grâce à cette méthode, chaque catégorie se voit attribuer un entier unique basé sur l'ordre alphabétique. Cette technique a pour défaut d'ajouter un ordre dans les données catégorielles qui n'existe pas vraiment. Par exemple \"Abricot\" pourrait devenir 1 et Pêche pourrait devenir \"2\". Certains algorithmes pourraient considérer que 2 est supérieur à 1 et pourraient ainsi donner plus de poids à la Pêche par rapport à l'Abricot, ce qui n'a pas vraiment de sens. Heureusement, les algorithmes qui utilisent des arbres de décision (comme Random Forest) ne sont pas sensibles à ces aspects. Nous pouvons donc utiliser cette méthode sans craintes pour cett analyse.\n",
        "</p>\n",
        "\n",
        "\n",
        "<div style=\"padding: 10px; margin:10px 0; color: #4AAD64; margin-bottom: 15px;\">\n",
        "<b>✅ Vous devez compléter la case suivante.</b>\n",
        "</div>"
      ]
    },
    {
      "cell_type": "markdown",
      "source": [
        "### Starting here####"
      ],
      "metadata": {
        "id": "UPx46-NopkWt"
      }
    },
    {
      "cell_type": "code",
      "execution_count": null,
      "metadata": {
        "id": "iO6wh-OzVwS1"
      },
      "outputs": [],
      "source": [
        "# À FAIRE: Lire les données provenant du fichier CSV enregistré à la fin de la section 2 et conserver l'information dans une variable nommée dataset_df\n",
        "dataset_df = pd.read_csv('dataset_df.csv', delimiter=',')"
      ]
    },
    {
      "cell_type": "code",
      "execution_count": null,
      "metadata": {
        "id": "uawuNO-BVwS1"
      },
      "outputs": [],
      "source": [
        "# Séparer le jeu de données en entraînement, validation et test.\n",
        "X_train = (dataset_df.loc[dataset_df['dataset']==DATASET['train']])\n",
        "X_val = (dataset_df.loc[dataset_df['dataset']==DATASET['validation']])\n",
        "X_test = (dataset_df.loc[dataset_df['dataset']==DATASET['test']])"
      ]
    },
    {
      "cell_type": "code",
      "execution_count": null,
      "metadata": {
        "id": "x0o-y7OuVwS2"
      },
      "outputs": [],
      "source": [
        "# Créer les dataframes qui vont contenir les données encodées\n",
        "dataset_df_train_encoded=pd.DataFrame(X_train)\n",
        "dataset_df_val_encoded=pd.DataFrame(X_val)\n",
        "dataset_df_test_encoded=pd.DataFrame(X_test)"
      ]
    },
    {
      "cell_type": "code",
      "execution_count": null,
      "metadata": {
        "id": "hLehgS9hVwS2"
      },
      "outputs": [],
      "source": [
        "# Créer un encodeur\n",
        "encoder=LabelEncoder()"
      ]
    },
    {
      "cell_type": "markdown",
      "metadata": {
        "id": "ZafpW7VCVwS2"
      },
      "source": [
        "<div style=\"padding: 10px; margin:10px 0; color: #4AAD64; margin-bottom: 15px;\">\n",
        "<b>✅ Vous devez compléter la case suivante.</b>\n",
        "</div>\n",
        "\n",
        "Veuillez vous référer à la documentation de la librairie `Scikit-learn` pour comprendre comment utiliser l'encodeur représenté par la variable \"label\".\n",
        "\n",
        "https://scikit-learn.org/stable/modules/generated/sklearn.preprocessing.LabelEncoder.html\n",
        "\n",
        "À noter que cette cellule de code n'est pas optimisée. Elle a été écrite ainsi afin de faciliter la compréhension de celle-ci."
      ]
    },
    {
      "cell_type": "code",
      "execution_count": null,
      "metadata": {
        "id": "T8CihetkVwS2"
      },
      "outputs": [],
      "source": [
        "# Encoder les colonnes\n",
        "columns_to_encode= dataset_df.columns.tolist()\n",
        "\n",
        "column_to_exclude = 'dataset'\n",
        "\n",
        "if column_to_exclude in columns_to_encode:\n",
        "    columns_to_encode.remove(column_to_exclude)\n",
        "\n",
        "for column in columns_to_encode:\n",
        "    dataset_df_train_encoded[column] = LabelEncoder().fit_transform(dataset_df_train_encoded[column])\n",
        "    dataset_df_val_encoded[column] = LabelEncoder().fit_transform(dataset_df_val_encoded[column])\n",
        "    dataset_df_test_encoded[column] = LabelEncoder().fit_transform(dataset_df_test_encoded[column])"
      ]
    },
    {
      "cell_type": "markdown",
      "metadata": {
        "id": "T8FYqdmUVwS2"
      },
      "source": [
        "<p>Nous pouvons remarquer que les vecteurs ont toujours la même dimensionalité et que les colonnes ont les mêmes significations. C'est seulement les valeurs présentes dans ces colonnes qui ont changé afin que celles-ci soient toutes de type numérique.</p>\n",
        "<p>Comme indiqué précédemment, ces colonnes avec des valeurs numériques sont dorénavant exploitables par notre algorithme de classification: <b>Random Forest</b>.</p>\n",
        "\n",
        "<div style=\"padding: 10px; margin:10px 0; color: #4AAD64; margin-bottom: 15px;\">\n",
        "<b>✅ Vous devez compléter la case suivante.</b>\n",
        "</div>"
      ]
    },
    {
      "cell_type": "code",
      "execution_count": null,
      "metadata": {
        "id": "AQfXq_NqVwS2"
      },
      "outputs": [],
      "source": [
        "# Combiner les jeux de données en un seul afin de l'enregistrer\n",
        "dataset_df_encoded = pd.concat([dataset_df_train_encoded, dataset_df_val_encoded, dataset_df_test_encoded])"
      ]
    },
    {
      "cell_type": "code",
      "execution_count": null,
      "metadata": {
        "id": "T5p63Zb0VwS2"
      },
      "outputs": [],
      "source": [
        "# À FAIRE: Enregister le jeu de données dans un nouveau fichier csv afin de conserver les différentes versions de celui-ci\n",
        "dataset_df_encoded.to_csv(\"dataset_df_encoded.csv\")"
      ]
    },
    {
      "cell_type": "markdown",
      "metadata": {
        "id": "-uJG5ZG5VwS2"
      },
      "source": [
        "<b>Prenez le temps de poser vos questions ci-dessous. Votre mentor y répondra.</b>"
      ]
    },
    {
      "cell_type": "code",
      "execution_count": null,
      "metadata": {
        "id": "oW5jAUikVwS2",
        "colab": {
          "base_uri": "https://localhost:8080/",
          "height": 35
        },
        "outputId": "b306089c-452e-476d-bb5e-624050534580"
      },
      "outputs": [
        {
          "output_type": "execute_result",
          "data": {
            "text/plain": [
              "'\\nVotre liste de questions:\\n\\n\\n'"
            ],
            "application/vnd.google.colaboratory.intrinsic+json": {
              "type": "string"
            }
          },
          "metadata": {},
          "execution_count": 42
        }
      ],
      "source": [
        "\"\"\"\n",
        "Votre liste de questions:\n",
        "\n",
        "\n",
        "\"\"\""
      ]
    },
    {
      "cell_type": "markdown",
      "metadata": {
        "id": "tlr0Lj-JVwS2"
      },
      "source": [
        "<h3> Création du modèle prédictif </h3>\n",
        "<p>Vous êtes maintenant arrivé à la section la plus intéressante, à savoir la construction d'un modèle, son entraînement (à l'aide du jeu de données d'entraînement) et l'évaluation de ses performances (à l'aide du jeu de données de test). Le modèle que nous avons choisi de vous présenter dans ce notebook est le modèle appelé Random Forest.</p>\n",
        "\n",
        "<p>Un Random Forest fonctionne avec plusieurs petits arbres de décision qui vont chacun prendre une décision (dans notre cas, ils vont chacun prédire si oui ou non la personne va souscrire à l'offre bancaire). Chaque arbre de décision ayant un champ de connaissances distinct, l'addition de toutes ces connaissances permet d'obtenir des prédictions justes. Pour ce faire, il suffit de prendre le résultat de chacun des arbres et de prendre la prédiction qui a le plus de votes.</p>\n",
        "\n",
        "<p>Pour obtenir plus d'informations sur ce modèle (architecture, fonctionnement et tutoriels), veuillez vous référer à la documentation de celui-ci.</p>\n",
        "\n",
        "\n",
        "https://scikit-learn.org/stable/modules/generated/sklearn.ensemble.RandomForestClassifier.html\n",
        "\n",
        "<div style=\"padding: 10px; margin:10px 0;border: 2px solid rgba(31, 99, 180, 1); color: black; margin-bottom: 15px; width:70%; border-radius: 25px;\">\n",
        "    <b>📚 Objectifs pédagogiques:</b>\n",
        "    <ul>\n",
        "      <li>Valider les connaissances des métriques de bases d'évaluation d'un modèle de classification;</li>\n",
        "      <li>Effectuer l'entraînement d'un modèle de classification classique;</li>\n",
        "      <li>Obtenir des prédictions sur de nouvelles données.</li>\n",
        "    </ul>\n",
        "</div>\n",
        "\n",
        "<div style=\"padding: 10px; margin:10px 0; color: #4AAD64; margin-bottom: 15px;\">\n",
        "<b>✅ Vous devez compléter la case suivante.</b>\n",
        "</div>"
      ]
    },
    {
      "cell_type": "code",
      "execution_count": null,
      "metadata": {
        "id": "zvQ68PT4VwS2",
        "colab": {
          "base_uri": "https://localhost:8080/",
          "height": 273
        },
        "outputId": "9b6f5848-e3bf-40c4-b49a-ec558b9cee27"
      },
      "outputs": [
        {
          "output_type": "execute_result",
          "data": {
            "text/plain": [
              "   Unnamed: 0.1  Unnamed: 0  age  job  marital  education  default  housing  \\\n",
              "0             0           0   39    3        1          0        0        0   \n",
              "1             2           1   20    7        1          3        0        2   \n",
              "2             3           2   23    0        1          1        0        0   \n",
              "3             5           3   28    7        1          2        1        0   \n",
              "4             8           4    7    9        2          5        0        2   \n",
              "\n",
              "   loan  contact  ...  pdays  previous  poutcome  emp.var.rate  \\\n",
              "0     0        1  ...     25         0         1             8   \n",
              "1     0        1  ...     25         0         1             8   \n",
              "2     0        1  ...     25         0         1             8   \n",
              "3     0        1  ...     25         0         1             8   \n",
              "4     0        1  ...     25         0         1             8   \n",
              "\n",
              "   cons.price.idx  cons.conf.idx  euribor3m  nr.employed  target  dataset  \n",
              "0              18             16        278            8       0        0  \n",
              "1              18             16        278            8       0        0  \n",
              "2              18             16        278            8       0        0  \n",
              "3              18             16        278            8       0        0  \n",
              "4              18             16        278            8       0        0  \n",
              "\n",
              "[5 rows x 24 columns]"
            ],
            "text/html": [
              "\n",
              "  <div id=\"df-dbb349e6-1361-458d-b222-cb9293b10344\" class=\"colab-df-container\">\n",
              "    <div>\n",
              "<style scoped>\n",
              "    .dataframe tbody tr th:only-of-type {\n",
              "        vertical-align: middle;\n",
              "    }\n",
              "\n",
              "    .dataframe tbody tr th {\n",
              "        vertical-align: top;\n",
              "    }\n",
              "\n",
              "    .dataframe thead th {\n",
              "        text-align: right;\n",
              "    }\n",
              "</style>\n",
              "<table border=\"1\" class=\"dataframe\">\n",
              "  <thead>\n",
              "    <tr style=\"text-align: right;\">\n",
              "      <th></th>\n",
              "      <th>Unnamed: 0.1</th>\n",
              "      <th>Unnamed: 0</th>\n",
              "      <th>age</th>\n",
              "      <th>job</th>\n",
              "      <th>marital</th>\n",
              "      <th>education</th>\n",
              "      <th>default</th>\n",
              "      <th>housing</th>\n",
              "      <th>loan</th>\n",
              "      <th>contact</th>\n",
              "      <th>...</th>\n",
              "      <th>pdays</th>\n",
              "      <th>previous</th>\n",
              "      <th>poutcome</th>\n",
              "      <th>emp.var.rate</th>\n",
              "      <th>cons.price.idx</th>\n",
              "      <th>cons.conf.idx</th>\n",
              "      <th>euribor3m</th>\n",
              "      <th>nr.employed</th>\n",
              "      <th>target</th>\n",
              "      <th>dataset</th>\n",
              "    </tr>\n",
              "  </thead>\n",
              "  <tbody>\n",
              "    <tr>\n",
              "      <th>0</th>\n",
              "      <td>0</td>\n",
              "      <td>0</td>\n",
              "      <td>39</td>\n",
              "      <td>3</td>\n",
              "      <td>1</td>\n",
              "      <td>0</td>\n",
              "      <td>0</td>\n",
              "      <td>0</td>\n",
              "      <td>0</td>\n",
              "      <td>1</td>\n",
              "      <td>...</td>\n",
              "      <td>25</td>\n",
              "      <td>0</td>\n",
              "      <td>1</td>\n",
              "      <td>8</td>\n",
              "      <td>18</td>\n",
              "      <td>16</td>\n",
              "      <td>278</td>\n",
              "      <td>8</td>\n",
              "      <td>0</td>\n",
              "      <td>0</td>\n",
              "    </tr>\n",
              "    <tr>\n",
              "      <th>1</th>\n",
              "      <td>2</td>\n",
              "      <td>1</td>\n",
              "      <td>20</td>\n",
              "      <td>7</td>\n",
              "      <td>1</td>\n",
              "      <td>3</td>\n",
              "      <td>0</td>\n",
              "      <td>2</td>\n",
              "      <td>0</td>\n",
              "      <td>1</td>\n",
              "      <td>...</td>\n",
              "      <td>25</td>\n",
              "      <td>0</td>\n",
              "      <td>1</td>\n",
              "      <td>8</td>\n",
              "      <td>18</td>\n",
              "      <td>16</td>\n",
              "      <td>278</td>\n",
              "      <td>8</td>\n",
              "      <td>0</td>\n",
              "      <td>0</td>\n",
              "    </tr>\n",
              "    <tr>\n",
              "      <th>2</th>\n",
              "      <td>3</td>\n",
              "      <td>2</td>\n",
              "      <td>23</td>\n",
              "      <td>0</td>\n",
              "      <td>1</td>\n",
              "      <td>1</td>\n",
              "      <td>0</td>\n",
              "      <td>0</td>\n",
              "      <td>0</td>\n",
              "      <td>1</td>\n",
              "      <td>...</td>\n",
              "      <td>25</td>\n",
              "      <td>0</td>\n",
              "      <td>1</td>\n",
              "      <td>8</td>\n",
              "      <td>18</td>\n",
              "      <td>16</td>\n",
              "      <td>278</td>\n",
              "      <td>8</td>\n",
              "      <td>0</td>\n",
              "      <td>0</td>\n",
              "    </tr>\n",
              "    <tr>\n",
              "      <th>3</th>\n",
              "      <td>5</td>\n",
              "      <td>3</td>\n",
              "      <td>28</td>\n",
              "      <td>7</td>\n",
              "      <td>1</td>\n",
              "      <td>2</td>\n",
              "      <td>1</td>\n",
              "      <td>0</td>\n",
              "      <td>0</td>\n",
              "      <td>1</td>\n",
              "      <td>...</td>\n",
              "      <td>25</td>\n",
              "      <td>0</td>\n",
              "      <td>1</td>\n",
              "      <td>8</td>\n",
              "      <td>18</td>\n",
              "      <td>16</td>\n",
              "      <td>278</td>\n",
              "      <td>8</td>\n",
              "      <td>0</td>\n",
              "      <td>0</td>\n",
              "    </tr>\n",
              "    <tr>\n",
              "      <th>4</th>\n",
              "      <td>8</td>\n",
              "      <td>4</td>\n",
              "      <td>7</td>\n",
              "      <td>9</td>\n",
              "      <td>2</td>\n",
              "      <td>5</td>\n",
              "      <td>0</td>\n",
              "      <td>2</td>\n",
              "      <td>0</td>\n",
              "      <td>1</td>\n",
              "      <td>...</td>\n",
              "      <td>25</td>\n",
              "      <td>0</td>\n",
              "      <td>1</td>\n",
              "      <td>8</td>\n",
              "      <td>18</td>\n",
              "      <td>16</td>\n",
              "      <td>278</td>\n",
              "      <td>8</td>\n",
              "      <td>0</td>\n",
              "      <td>0</td>\n",
              "    </tr>\n",
              "  </tbody>\n",
              "</table>\n",
              "<p>5 rows × 24 columns</p>\n",
              "</div>\n",
              "    <div class=\"colab-df-buttons\">\n",
              "\n",
              "  <div class=\"colab-df-container\">\n",
              "    <button class=\"colab-df-convert\" onclick=\"convertToInteractive('df-dbb349e6-1361-458d-b222-cb9293b10344')\"\n",
              "            title=\"Convert this dataframe to an interactive table.\"\n",
              "            style=\"display:none;\">\n",
              "\n",
              "  <svg xmlns=\"http://www.w3.org/2000/svg\" height=\"24px\" viewBox=\"0 -960 960 960\">\n",
              "    <path d=\"M120-120v-720h720v720H120Zm60-500h600v-160H180v160Zm220 220h160v-160H400v160Zm0 220h160v-160H400v160ZM180-400h160v-160H180v160Zm440 0h160v-160H620v160ZM180-180h160v-160H180v160Zm440 0h160v-160H620v160Z\"/>\n",
              "  </svg>\n",
              "    </button>\n",
              "\n",
              "  <style>\n",
              "    .colab-df-container {\n",
              "      display:flex;\n",
              "      gap: 12px;\n",
              "    }\n",
              "\n",
              "    .colab-df-convert {\n",
              "      background-color: #E8F0FE;\n",
              "      border: none;\n",
              "      border-radius: 50%;\n",
              "      cursor: pointer;\n",
              "      display: none;\n",
              "      fill: #1967D2;\n",
              "      height: 32px;\n",
              "      padding: 0 0 0 0;\n",
              "      width: 32px;\n",
              "    }\n",
              "\n",
              "    .colab-df-convert:hover {\n",
              "      background-color: #E2EBFA;\n",
              "      box-shadow: 0px 1px 2px rgba(60, 64, 67, 0.3), 0px 1px 3px 1px rgba(60, 64, 67, 0.15);\n",
              "      fill: #174EA6;\n",
              "    }\n",
              "\n",
              "    .colab-df-buttons div {\n",
              "      margin-bottom: 4px;\n",
              "    }\n",
              "\n",
              "    [theme=dark] .colab-df-convert {\n",
              "      background-color: #3B4455;\n",
              "      fill: #D2E3FC;\n",
              "    }\n",
              "\n",
              "    [theme=dark] .colab-df-convert:hover {\n",
              "      background-color: #434B5C;\n",
              "      box-shadow: 0px 1px 3px 1px rgba(0, 0, 0, 0.15);\n",
              "      filter: drop-shadow(0px 1px 2px rgba(0, 0, 0, 0.3));\n",
              "      fill: #FFFFFF;\n",
              "    }\n",
              "  </style>\n",
              "\n",
              "    <script>\n",
              "      const buttonEl =\n",
              "        document.querySelector('#df-dbb349e6-1361-458d-b222-cb9293b10344 button.colab-df-convert');\n",
              "      buttonEl.style.display =\n",
              "        google.colab.kernel.accessAllowed ? 'block' : 'none';\n",
              "\n",
              "      async function convertToInteractive(key) {\n",
              "        const element = document.querySelector('#df-dbb349e6-1361-458d-b222-cb9293b10344');\n",
              "        const dataTable =\n",
              "          await google.colab.kernel.invokeFunction('convertToInteractive',\n",
              "                                                    [key], {});\n",
              "        if (!dataTable) return;\n",
              "\n",
              "        const docLinkHtml = 'Like what you see? Visit the ' +\n",
              "          '<a target=\"_blank\" href=https://colab.research.google.com/notebooks/data_table.ipynb>data table notebook</a>'\n",
              "          + ' to learn more about interactive tables.';\n",
              "        element.innerHTML = '';\n",
              "        dataTable['output_type'] = 'display_data';\n",
              "        await google.colab.output.renderOutput(dataTable, element);\n",
              "        const docLink = document.createElement('div');\n",
              "        docLink.innerHTML = docLinkHtml;\n",
              "        element.appendChild(docLink);\n",
              "      }\n",
              "    </script>\n",
              "  </div>\n",
              "\n",
              "\n",
              "<div id=\"df-53883d7d-c32a-4fc2-8655-facddad9fec2\">\n",
              "  <button class=\"colab-df-quickchart\" onclick=\"quickchart('df-53883d7d-c32a-4fc2-8655-facddad9fec2')\"\n",
              "            title=\"Suggest charts\"\n",
              "            style=\"display:none;\">\n",
              "\n",
              "<svg xmlns=\"http://www.w3.org/2000/svg\" height=\"24px\"viewBox=\"0 0 24 24\"\n",
              "     width=\"24px\">\n",
              "    <g>\n",
              "        <path d=\"M19 3H5c-1.1 0-2 .9-2 2v14c0 1.1.9 2 2 2h14c1.1 0 2-.9 2-2V5c0-1.1-.9-2-2-2zM9 17H7v-7h2v7zm4 0h-2V7h2v10zm4 0h-2v-4h2v4z\"/>\n",
              "    </g>\n",
              "</svg>\n",
              "  </button>\n",
              "\n",
              "<style>\n",
              "  .colab-df-quickchart {\n",
              "      --bg-color: #E8F0FE;\n",
              "      --fill-color: #1967D2;\n",
              "      --hover-bg-color: #E2EBFA;\n",
              "      --hover-fill-color: #174EA6;\n",
              "      --disabled-fill-color: #AAA;\n",
              "      --disabled-bg-color: #DDD;\n",
              "  }\n",
              "\n",
              "  [theme=dark] .colab-df-quickchart {\n",
              "      --bg-color: #3B4455;\n",
              "      --fill-color: #D2E3FC;\n",
              "      --hover-bg-color: #434B5C;\n",
              "      --hover-fill-color: #FFFFFF;\n",
              "      --disabled-bg-color: #3B4455;\n",
              "      --disabled-fill-color: #666;\n",
              "  }\n",
              "\n",
              "  .colab-df-quickchart {\n",
              "    background-color: var(--bg-color);\n",
              "    border: none;\n",
              "    border-radius: 50%;\n",
              "    cursor: pointer;\n",
              "    display: none;\n",
              "    fill: var(--fill-color);\n",
              "    height: 32px;\n",
              "    padding: 0;\n",
              "    width: 32px;\n",
              "  }\n",
              "\n",
              "  .colab-df-quickchart:hover {\n",
              "    background-color: var(--hover-bg-color);\n",
              "    box-shadow: 0 1px 2px rgba(60, 64, 67, 0.3), 0 1px 3px 1px rgba(60, 64, 67, 0.15);\n",
              "    fill: var(--button-hover-fill-color);\n",
              "  }\n",
              "\n",
              "  .colab-df-quickchart-complete:disabled,\n",
              "  .colab-df-quickchart-complete:disabled:hover {\n",
              "    background-color: var(--disabled-bg-color);\n",
              "    fill: var(--disabled-fill-color);\n",
              "    box-shadow: none;\n",
              "  }\n",
              "\n",
              "  .colab-df-spinner {\n",
              "    border: 2px solid var(--fill-color);\n",
              "    border-color: transparent;\n",
              "    border-bottom-color: var(--fill-color);\n",
              "    animation:\n",
              "      spin 1s steps(1) infinite;\n",
              "  }\n",
              "\n",
              "  @keyframes spin {\n",
              "    0% {\n",
              "      border-color: transparent;\n",
              "      border-bottom-color: var(--fill-color);\n",
              "      border-left-color: var(--fill-color);\n",
              "    }\n",
              "    20% {\n",
              "      border-color: transparent;\n",
              "      border-left-color: var(--fill-color);\n",
              "      border-top-color: var(--fill-color);\n",
              "    }\n",
              "    30% {\n",
              "      border-color: transparent;\n",
              "      border-left-color: var(--fill-color);\n",
              "      border-top-color: var(--fill-color);\n",
              "      border-right-color: var(--fill-color);\n",
              "    }\n",
              "    40% {\n",
              "      border-color: transparent;\n",
              "      border-right-color: var(--fill-color);\n",
              "      border-top-color: var(--fill-color);\n",
              "    }\n",
              "    60% {\n",
              "      border-color: transparent;\n",
              "      border-right-color: var(--fill-color);\n",
              "    }\n",
              "    80% {\n",
              "      border-color: transparent;\n",
              "      border-right-color: var(--fill-color);\n",
              "      border-bottom-color: var(--fill-color);\n",
              "    }\n",
              "    90% {\n",
              "      border-color: transparent;\n",
              "      border-bottom-color: var(--fill-color);\n",
              "    }\n",
              "  }\n",
              "</style>\n",
              "\n",
              "  <script>\n",
              "    async function quickchart(key) {\n",
              "      const quickchartButtonEl =\n",
              "        document.querySelector('#' + key + ' button');\n",
              "      quickchartButtonEl.disabled = true;  // To prevent multiple clicks.\n",
              "      quickchartButtonEl.classList.add('colab-df-spinner');\n",
              "      try {\n",
              "        const charts = await google.colab.kernel.invokeFunction(\n",
              "            'suggestCharts', [key], {});\n",
              "      } catch (error) {\n",
              "        console.error('Error during call to suggestCharts:', error);\n",
              "      }\n",
              "      quickchartButtonEl.classList.remove('colab-df-spinner');\n",
              "      quickchartButtonEl.classList.add('colab-df-quickchart-complete');\n",
              "    }\n",
              "    (() => {\n",
              "      let quickchartButtonEl =\n",
              "        document.querySelector('#df-53883d7d-c32a-4fc2-8655-facddad9fec2 button');\n",
              "      quickchartButtonEl.style.display =\n",
              "        google.colab.kernel.accessAllowed ? 'block' : 'none';\n",
              "    })();\n",
              "  </script>\n",
              "</div>\n",
              "\n",
              "    </div>\n",
              "  </div>\n"
            ],
            "application/vnd.google.colaboratory.intrinsic+json": {
              "type": "dataframe",
              "variable_name": "dataset_df_encoded"
            }
          },
          "metadata": {},
          "execution_count": 43
        }
      ],
      "source": [
        "# À FAIRE: Lire les données provenant du fichier CSV créé à la section précédente et conserver l'information dans une variable nommée dataset_df\n",
        "dataset_df_encoded = pd.read_csv('dataset_df_encoded.csv', delimiter=',')\n",
        "dataset_df_encoded.head(5)\n"
      ]
    },
    {
      "cell_type": "code",
      "source": [
        "################ Séparer le jeu de données pour obtenir les données d'entraînement\n",
        "X_train = (dataset_df_encoded.loc[dataset_df_encoded['dataset']==DATASET['train']]).drop(['dataset', 'target'], axis=1)\n",
        "y_train = (dataset_df_encoded.loc[dataset_df_encoded['dataset']==DATASET['train']])['target']"
      ],
      "metadata": {
        "id": "dnqN0ejfYokF"
      },
      "execution_count": null,
      "outputs": []
    },
    {
      "cell_type": "markdown",
      "metadata": {
        "id": "imwVvWWdVwS3"
      },
      "source": [
        "<div style=\"padding: 10px; margin:10px 0; color: #4AAD64; margin-bottom: 15px;\">\n",
        "<b>✅ Vous devez compléter la case suivante.</b>\n",
        "</div>"
      ]
    },
    {
      "cell_type": "code",
      "execution_count": null,
      "metadata": {
        "id": "2EbLWvVNVwS3"
      },
      "outputs": [],
      "source": [
        "# À FAIRE: Séparer le jeu de données pour obtenir les données de validation. N'oublier pas d'utiliser le dictionnaire nommé dataset_df. Conserver l'information dans des variables\n",
        "# nommées X_val et y_val.\n",
        "X_val = (dataset_df_encoded.loc[dataset_df_encoded['dataset']==DATASET['validation']]).drop(['dataset', 'target'], axis=1)\n",
        "y_val = (dataset_df_encoded.loc[dataset_df_encoded['dataset']==DATASET['validation']])['target']"
      ]
    },
    {
      "cell_type": "markdown",
      "metadata": {
        "id": "t-G1KfZdVwS3"
      },
      "source": [
        "<div style=\"padding: 10px; margin:10px 0; color: #4AAD64; margin-bottom: 15px;\">\n",
        "<b>✅ Vous devez compléter la case suivante.</b>\n",
        "</div>"
      ]
    },
    {
      "cell_type": "code",
      "execution_count": null,
      "metadata": {
        "id": "n8Eqlq4wVwS3"
      },
      "outputs": [],
      "source": [
        "# À FAIRE: Séparer le jeu de données pour obtenir les données de test. N'oublier pas d'utiliser le dictionnaire nommé dataset_df. Conserver l'information dans des varibles\n",
        "# nommées X_test et y_test.\n",
        "X_test = (dataset_df_encoded.loc[dataset_df_encoded['dataset']==DATASET['test']]).drop(['dataset', 'target'], axis=1)\n",
        "y_test = (dataset_df_encoded.loc[dataset_df_encoded['dataset']==DATASET['test']])['target']"
      ]
    },
    {
      "cell_type": "markdown",
      "metadata": {
        "id": "PFtRlQztVwS3"
      },
      "source": [
        "<p>Maintenant que vous avez terminé la préparation des données, il est désormais possible de passer à la phase d'apprentissage du modèle. Pour ce faire, vous allez utiliser le dataset \"train\" pour réaliser l'entraînement et le dataset \"test\" pour tester les performances. Il est important de ne pas utiliser les mêmes datasets afin d'évaluer les performances du modèle sur de nouvelles données.</p>\n",
        "<p>Comme nous utilisons la bibliothèque Scikit-Learn, il est possible de créer un modèle de Random Forest très rapidement. Il suffit alors d'appeler la classe du modèle (ici RandomForestClassifier) et d'utiliser la méthode \".fit(X_train, y_train)\" pour entraîner le modèle sur les données d'entraînement.</p>\n"
      ]
    },
    {
      "cell_type": "code",
      "execution_count": null,
      "metadata": {
        "id": "1swl5vbfVwS3",
        "colab": {
          "base_uri": "https://localhost:8080/",
          "height": 74
        },
        "outputId": "b788a559-1ec7-4ac5-aa00-ee38448802ce"
      },
      "outputs": [
        {
          "output_type": "execute_result",
          "data": {
            "text/plain": [
              "RandomForestClassifier()"
            ],
            "text/html": [
              "<style>#sk-container-id-1 {color: black;background-color: white;}#sk-container-id-1 pre{padding: 0;}#sk-container-id-1 div.sk-toggleable {background-color: white;}#sk-container-id-1 label.sk-toggleable__label {cursor: pointer;display: block;width: 100%;margin-bottom: 0;padding: 0.3em;box-sizing: border-box;text-align: center;}#sk-container-id-1 label.sk-toggleable__label-arrow:before {content: \"▸\";float: left;margin-right: 0.25em;color: #696969;}#sk-container-id-1 label.sk-toggleable__label-arrow:hover:before {color: black;}#sk-container-id-1 div.sk-estimator:hover label.sk-toggleable__label-arrow:before {color: black;}#sk-container-id-1 div.sk-toggleable__content {max-height: 0;max-width: 0;overflow: hidden;text-align: left;background-color: #f0f8ff;}#sk-container-id-1 div.sk-toggleable__content pre {margin: 0.2em;color: black;border-radius: 0.25em;background-color: #f0f8ff;}#sk-container-id-1 input.sk-toggleable__control:checked~div.sk-toggleable__content {max-height: 200px;max-width: 100%;overflow: auto;}#sk-container-id-1 input.sk-toggleable__control:checked~label.sk-toggleable__label-arrow:before {content: \"▾\";}#sk-container-id-1 div.sk-estimator input.sk-toggleable__control:checked~label.sk-toggleable__label {background-color: #d4ebff;}#sk-container-id-1 div.sk-label input.sk-toggleable__control:checked~label.sk-toggleable__label {background-color: #d4ebff;}#sk-container-id-1 input.sk-hidden--visually {border: 0;clip: rect(1px 1px 1px 1px);clip: rect(1px, 1px, 1px, 1px);height: 1px;margin: -1px;overflow: hidden;padding: 0;position: absolute;width: 1px;}#sk-container-id-1 div.sk-estimator {font-family: monospace;background-color: #f0f8ff;border: 1px dotted black;border-radius: 0.25em;box-sizing: border-box;margin-bottom: 0.5em;}#sk-container-id-1 div.sk-estimator:hover {background-color: #d4ebff;}#sk-container-id-1 div.sk-parallel-item::after {content: \"\";width: 100%;border-bottom: 1px solid gray;flex-grow: 1;}#sk-container-id-1 div.sk-label:hover label.sk-toggleable__label {background-color: #d4ebff;}#sk-container-id-1 div.sk-serial::before {content: \"\";position: absolute;border-left: 1px solid gray;box-sizing: border-box;top: 0;bottom: 0;left: 50%;z-index: 0;}#sk-container-id-1 div.sk-serial {display: flex;flex-direction: column;align-items: center;background-color: white;padding-right: 0.2em;padding-left: 0.2em;position: relative;}#sk-container-id-1 div.sk-item {position: relative;z-index: 1;}#sk-container-id-1 div.sk-parallel {display: flex;align-items: stretch;justify-content: center;background-color: white;position: relative;}#sk-container-id-1 div.sk-item::before, #sk-container-id-1 div.sk-parallel-item::before {content: \"\";position: absolute;border-left: 1px solid gray;box-sizing: border-box;top: 0;bottom: 0;left: 50%;z-index: -1;}#sk-container-id-1 div.sk-parallel-item {display: flex;flex-direction: column;z-index: 1;position: relative;background-color: white;}#sk-container-id-1 div.sk-parallel-item:first-child::after {align-self: flex-end;width: 50%;}#sk-container-id-1 div.sk-parallel-item:last-child::after {align-self: flex-start;width: 50%;}#sk-container-id-1 div.sk-parallel-item:only-child::after {width: 0;}#sk-container-id-1 div.sk-dashed-wrapped {border: 1px dashed gray;margin: 0 0.4em 0.5em 0.4em;box-sizing: border-box;padding-bottom: 0.4em;background-color: white;}#sk-container-id-1 div.sk-label label {font-family: monospace;font-weight: bold;display: inline-block;line-height: 1.2em;}#sk-container-id-1 div.sk-label-container {text-align: center;}#sk-container-id-1 div.sk-container {/* jupyter's `normalize.less` sets `[hidden] { display: none; }` but bootstrap.min.css set `[hidden] { display: none !important; }` so we also need the `!important` here to be able to override the default hidden behavior on the sphinx rendered scikit-learn.org. See: https://github.com/scikit-learn/scikit-learn/issues/21755 */display: inline-block !important;position: relative;}#sk-container-id-1 div.sk-text-repr-fallback {display: none;}</style><div id=\"sk-container-id-1\" class=\"sk-top-container\"><div class=\"sk-text-repr-fallback\"><pre>RandomForestClassifier()</pre><b>In a Jupyter environment, please rerun this cell to show the HTML representation or trust the notebook. <br />On GitHub, the HTML representation is unable to render, please try loading this page with nbviewer.org.</b></div><div class=\"sk-container\" hidden><div class=\"sk-item\"><div class=\"sk-estimator sk-toggleable\"><input class=\"sk-toggleable__control sk-hidden--visually\" id=\"sk-estimator-id-1\" type=\"checkbox\" checked><label for=\"sk-estimator-id-1\" class=\"sk-toggleable__label sk-toggleable__label-arrow\">RandomForestClassifier</label><div class=\"sk-toggleable__content\"><pre>RandomForestClassifier()</pre></div></div></div></div></div>"
            ]
          },
          "metadata": {},
          "execution_count": 47
        }
      ],
      "source": [
        "# Créer un modèle Random Forest\n",
        "rf_model = RandomForestClassifier()\n",
        "\n",
        "# Entrainer le modèle\n",
        "rf_model.fit(X_train, y_train)"
      ]
    },
    {
      "cell_type": "markdown",
      "metadata": {
        "id": "tmKT9JXcVwS3"
      },
      "source": [
        "Maintenant que le modèle est créé, nous voulons évaluer ses performances. Pour faire cela, nous allons lui fournir des données qu'il n'a jamais vu, provenant du jeu de de données test et vérifier, à l'aide de métriques d'évaluation, à quel point il est capable de faire de bonnes prédictions.\n",
        "\n",
        "La première métrique qui sera utilisé est le \"accuracy\".\n",
        "\n",
        "<div style=\"padding: 10px; margin:10px 0; background-color: rgba(31, 99, 180, 1); color: white; margin-bottom: 15px;\">\n",
        "💡 Question 4: En vos mots, que représente la métrique de accuracy, dans le context de notre jeu de données?\n",
        "</div>"
      ]
    },
    {
      "cell_type": "code",
      "execution_count": null,
      "metadata": {
        "id": "YgQmQYMfVwS3",
        "colab": {
          "base_uri": "https://localhost:8080/",
          "height": 35
        },
        "outputId": "ba63ce45-f703-4a87-ede7-465443618b1c"
      },
      "outputs": [
        {
          "output_type": "execute_result",
          "data": {
            "text/plain": [
              "\"\\nRéponse à la question 4:\\nAccuracy est a quel point la données résultante est proche de la données réel (L'Exactitude )\\n\""
            ],
            "application/vnd.google.colaboratory.intrinsic+json": {
              "type": "string"
            }
          },
          "metadata": {},
          "execution_count": 48
        }
      ],
      "source": [
        "\"\"\"\n",
        "Réponse à la question 4:\n",
        "Accuracy est a quel point la données résultante est proche de la données réel (L'Exactitude )\n",
        "\"\"\""
      ]
    },
    {
      "cell_type": "markdown",
      "metadata": {
        "id": "t4tMBoDDVwS3"
      },
      "source": [
        "<div style=\"padding: 10px; margin:10px 0; background-color: rgba(31, 99, 180, 1); color: white; margin-bottom: 15px;\">\n",
        "💡 Question 5: En vos mots, que représente la métrique de précision, dans le context de notre jeu de données?\n",
        "</div>"
      ]
    },
    {
      "cell_type": "code",
      "execution_count": null,
      "metadata": {
        "id": "jmScioscVwS3",
        "colab": {
          "base_uri": "https://localhost:8080/",
          "height": 52
        },
        "outputId": "8fe19035-dde4-47f5-aa89-3cd60d429903"
      },
      "outputs": [
        {
          "output_type": "execute_result",
          "data": {
            "text/plain": [
              "\"\\nRéponse à la question 5:\\nla précision est la constance ou la reproductibilité des mesures, (pas necessairement la cible)\\nLa precision n'implique pas forcement l'exactitude\\n\\n\""
            ],
            "application/vnd.google.colaboratory.intrinsic+json": {
              "type": "string"
            }
          },
          "metadata": {},
          "execution_count": 49
        }
      ],
      "source": [
        "\"\"\"\n",
        "Réponse à la question 5:\n",
        "la précision est la constance ou la reproductibilité des mesures, (pas necessairement la cible)\n",
        "La precision n'implique pas forcement l'exactitude\n",
        "\n",
        "\"\"\""
      ]
    },
    {
      "cell_type": "markdown",
      "metadata": {
        "id": "ufB-BkIwVwS3"
      },
      "source": [
        "<div style=\"padding: 10px; margin:10px 0; background-color: rgba(31, 99, 180, 1); color: white; margin-bottom: 15px;\">\n",
        "💡 Question 6: En vos mots, que représente la métrique de rappel, dans le context de notre jeu de données?\n",
        "</div>"
      ]
    },
    {
      "cell_type": "code",
      "execution_count": null,
      "metadata": {
        "id": "1g_EDBDrVwS3",
        "colab": {
          "base_uri": "https://localhost:8080/",
          "height": 52
        },
        "outputId": "644f3622-ff2f-4868-e51e-d5994b41fd20"
      },
      "outputs": [
        {
          "output_type": "execute_result",
          "data": {
            "text/plain": [
              "'\\nRéponse à la question 6:\\n\\nCalcule le pourcentage de prédictions correctes pour la classe positive parmi toutes les prédictions positives pouvant être faites\\n'"
            ],
            "application/vnd.google.colaboratory.intrinsic+json": {
              "type": "string"
            }
          },
          "metadata": {},
          "execution_count": 50
        }
      ],
      "source": [
        "\"\"\"\n",
        "Réponse à la question 6:\n",
        "\n",
        "Calcule le pourcentage de prédictions correctes pour la classe positive parmi toutes les prédictions positives pouvant être faites\n",
        "\"\"\""
      ]
    },
    {
      "cell_type": "markdown",
      "metadata": {
        "id": "05F9IcRkVwS4"
      },
      "source": [
        "<div style=\"padding: 10px; margin:10px 0; background-color: #FFEF4A; color: black; margin-bottom: 15px;\">\n",
        "<b>⚠️ Si vous éprouvez des difficultés à compléter les cases précédentes, veuillez vous référer au tutoriel sur les métriques communes qui est inscrit dans la section 0.1</b>\n",
        "</div>"
      ]
    },
    {
      "cell_type": "code",
      "execution_count": null,
      "metadata": {
        "id": "vWxejh3BVwS4"
      },
      "outputs": [],
      "source": [
        "# Effectuer des prédictions sur l'ensemble de test\n",
        "y_pred = rf_model.predict(X_test)"
      ]
    },
    {
      "cell_type": "code",
      "execution_count": null,
      "metadata": {
        "id": "nQm4VVRuVwS4"
      },
      "outputs": [],
      "source": [
        "# Calculer les métriques d'évaluation du modèle\n",
        "accuracy = accuracy_score(y_test, y_pred)\n",
        "precision = precision_score(y_test, y_pred)\n",
        "recall = recall_score(y_test, y_pred)"
      ]
    },
    {
      "cell_type": "code",
      "execution_count": null,
      "metadata": {
        "id": "VYNtEfXVVwS4",
        "colab": {
          "base_uri": "https://localhost:8080/"
        },
        "outputId": "77c149ee-fc4d-4fa1-aae2-64be0ed867f7"
      },
      "outputs": [
        {
          "output_type": "stream",
          "name": "stdout",
          "text": [
            "accuracy:  0.9134393589899236\n",
            "precision:  0.712784588441331\n",
            "recall:  0.42573221757322177\n"
          ]
        }
      ],
      "source": [
        "# Imprimer les résultats des métriques\n",
        "print(\"accuracy: \", accuracy)\n",
        "print(\"precision: \", precision)\n",
        "print(\"recall: \", recall)"
      ]
    },
    {
      "cell_type": "markdown",
      "metadata": {
        "id": "_b94AsVnVwS4"
      },
      "source": [
        "<div style=\"padding: 10px; margin:10px 0; background-color: rgba(31, 99, 180, 1); color: white; margin-bottom: 15px;\">\n",
        "💡 Question 7: Pouvez-vous décrire ce que ses résultats signifient et s'ils sont satisfaisants?\n",
        "</div>"
      ]
    },
    {
      "cell_type": "code",
      "execution_count": null,
      "metadata": {
        "id": "LlFizEd-VwS4",
        "colab": {
          "base_uri": "https://localhost:8080/",
          "height": 52
        },
        "outputId": "816b35e9-1c82-4d6d-f2cf-092776ebd51c"
      },
      "outputs": [
        {
          "output_type": "execute_result",
          "data": {
            "text/plain": [
              "'\\nRéponse à la question 7:\\n\\nAccuracy elvee ==>> le model fait des predictions de 9 Vs 10 correctement\\nprecision basse == >> trop de false positive sur ce model\\nlow recall ==>> seulement 45% des true positive sont collecter ou correctement predtite\\n\\n'"
            ],
            "application/vnd.google.colaboratory.intrinsic+json": {
              "type": "string"
            }
          },
          "metadata": {},
          "execution_count": 54
        }
      ],
      "source": [
        "\"\"\"\n",
        "Réponse à la question 7:\n",
        "\n",
        "Accuracy elvee ==>> le model fait des predictions de 9 Vs 10 correctement\n",
        "precision basse == >> trop de false positive sur ce model\n",
        "low recall ==>> seulement 42.5% des true positive sont collecter ou correctement predtite\n",
        "\n",
        "\"\"\""
      ]
    },
    {
      "cell_type": "markdown",
      "metadata": {
        "id": "tx0YZq8IVwS4"
      },
      "source": [
        "<div style=\"padding: 10px; margin:10px 0; color: #4AAD64; margin-bottom: 15px;\">\n",
        "<b>✅ Vous devez compléter les cases suivantes.</b>\n",
        "</div>"
      ]
    },
    {
      "cell_type": "code",
      "source": [
        "### Error lengths are not the same , error on the next cell\n",
        "\n",
        "print(len(y_pred))\n",
        "print(len(y_train))"
      ],
      "metadata": {
        "colab": {
          "base_uri": "https://localhost:8080/"
        },
        "id": "USwQaj-F6x-e",
        "outputId": "9b350c0e-919f-4d71-98e5-6da7c5568bdc"
      },
      "execution_count": null,
      "outputs": [
        {
          "output_type": "stream",
          "name": "stdout",
          "text": [
            "8237\n",
            "26772\n"
          ]
        }
      ]
    },
    {
      "cell_type": "code",
      "execution_count": null,
      "metadata": {
        "id": "G4EVEehTVwS4",
        "colab": {
          "base_uri": "https://localhost:8080/",
          "height": 339
        },
        "outputId": "de2f62da-6964-4b26-d484-bc9274570205"
      },
      "outputs": [
        {
          "output_type": "error",
          "ename": "ValueError",
          "evalue": "Found input variables with inconsistent numbers of samples: [26772, 8237]",
          "traceback": [
            "\u001b[0;31m---------------------------------------------------------------------------\u001b[0m",
            "\u001b[0;31mValueError\u001b[0m                                Traceback (most recent call last)",
            "\u001b[0;32m<ipython-input-56-b904aa96679a>\u001b[0m in \u001b[0;36m<cell line: 2>\u001b[0;34m()\u001b[0m\n\u001b[1;32m      1\u001b[0m \u001b[0;31m## À FAIRE: Imprimer les métriques d'évaluation du modèle (accuracy, précision, recall) sur le jeu d'entrainement\u001b[0m\u001b[0;34m\u001b[0m\u001b[0;34m\u001b[0m\u001b[0m\n\u001b[0;32m----> 2\u001b[0;31m \u001b[0maccuracy_Train\u001b[0m \u001b[0;34m=\u001b[0m \u001b[0maccuracy_score\u001b[0m\u001b[0;34m(\u001b[0m\u001b[0my_train\u001b[0m\u001b[0;34m,\u001b[0m \u001b[0my_pred\u001b[0m\u001b[0;34m)\u001b[0m\u001b[0;34m\u001b[0m\u001b[0;34m\u001b[0m\u001b[0m\n\u001b[0m\u001b[1;32m      3\u001b[0m \u001b[0mprecision_Train\u001b[0m \u001b[0;34m=\u001b[0m \u001b[0mprecision_score\u001b[0m\u001b[0;34m(\u001b[0m\u001b[0my_train\u001b[0m\u001b[0;34m,\u001b[0m \u001b[0my_pred\u001b[0m\u001b[0;34m)\u001b[0m\u001b[0;34m\u001b[0m\u001b[0;34m\u001b[0m\u001b[0m\n\u001b[1;32m      4\u001b[0m \u001b[0mrecall_Train\u001b[0m \u001b[0;34m=\u001b[0m \u001b[0mrecall_score\u001b[0m\u001b[0;34m(\u001b[0m\u001b[0my_train\u001b[0m\u001b[0;34m,\u001b[0m \u001b[0my_pred\u001b[0m\u001b[0;34m)\u001b[0m\u001b[0;34m\u001b[0m\u001b[0;34m\u001b[0m\u001b[0m\n",
            "\u001b[0;32m/usr/local/lib/python3.10/dist-packages/sklearn/utils/_param_validation.py\u001b[0m in \u001b[0;36mwrapper\u001b[0;34m(*args, **kwargs)\u001b[0m\n\u001b[1;32m    190\u001b[0m \u001b[0;34m\u001b[0m\u001b[0m\n\u001b[1;32m    191\u001b[0m             \u001b[0;32mtry\u001b[0m\u001b[0;34m:\u001b[0m\u001b[0;34m\u001b[0m\u001b[0;34m\u001b[0m\u001b[0m\n\u001b[0;32m--> 192\u001b[0;31m                 \u001b[0;32mreturn\u001b[0m \u001b[0mfunc\u001b[0m\u001b[0;34m(\u001b[0m\u001b[0;34m*\u001b[0m\u001b[0margs\u001b[0m\u001b[0;34m,\u001b[0m \u001b[0;34m**\u001b[0m\u001b[0mkwargs\u001b[0m\u001b[0;34m)\u001b[0m\u001b[0;34m\u001b[0m\u001b[0;34m\u001b[0m\u001b[0m\n\u001b[0m\u001b[1;32m    193\u001b[0m             \u001b[0;32mexcept\u001b[0m \u001b[0mInvalidParameterError\u001b[0m \u001b[0;32mas\u001b[0m \u001b[0me\u001b[0m\u001b[0;34m:\u001b[0m\u001b[0;34m\u001b[0m\u001b[0;34m\u001b[0m\u001b[0m\n\u001b[1;32m    194\u001b[0m                 \u001b[0;31m# When the function is just a wrapper around an estimator, we allow\u001b[0m\u001b[0;34m\u001b[0m\u001b[0;34m\u001b[0m\u001b[0m\n",
            "\u001b[0;32m/usr/local/lib/python3.10/dist-packages/sklearn/metrics/_classification.py\u001b[0m in \u001b[0;36maccuracy_score\u001b[0;34m(y_true, y_pred, normalize, sample_weight)\u001b[0m\n\u001b[1;32m    219\u001b[0m \u001b[0;34m\u001b[0m\u001b[0m\n\u001b[1;32m    220\u001b[0m     \u001b[0;31m# Compute accuracy for each possible representation\u001b[0m\u001b[0;34m\u001b[0m\u001b[0;34m\u001b[0m\u001b[0m\n\u001b[0;32m--> 221\u001b[0;31m     \u001b[0my_type\u001b[0m\u001b[0;34m,\u001b[0m \u001b[0my_true\u001b[0m\u001b[0;34m,\u001b[0m \u001b[0my_pred\u001b[0m \u001b[0;34m=\u001b[0m \u001b[0m_check_targets\u001b[0m\u001b[0;34m(\u001b[0m\u001b[0my_true\u001b[0m\u001b[0;34m,\u001b[0m \u001b[0my_pred\u001b[0m\u001b[0;34m)\u001b[0m\u001b[0;34m\u001b[0m\u001b[0;34m\u001b[0m\u001b[0m\n\u001b[0m\u001b[1;32m    222\u001b[0m     \u001b[0mcheck_consistent_length\u001b[0m\u001b[0;34m(\u001b[0m\u001b[0my_true\u001b[0m\u001b[0;34m,\u001b[0m \u001b[0my_pred\u001b[0m\u001b[0;34m,\u001b[0m \u001b[0msample_weight\u001b[0m\u001b[0;34m)\u001b[0m\u001b[0;34m\u001b[0m\u001b[0;34m\u001b[0m\u001b[0m\n\u001b[1;32m    223\u001b[0m     \u001b[0;32mif\u001b[0m \u001b[0my_type\u001b[0m\u001b[0;34m.\u001b[0m\u001b[0mstartswith\u001b[0m\u001b[0;34m(\u001b[0m\u001b[0;34m\"multilabel\"\u001b[0m\u001b[0;34m)\u001b[0m\u001b[0;34m:\u001b[0m\u001b[0;34m\u001b[0m\u001b[0;34m\u001b[0m\u001b[0m\n",
            "\u001b[0;32m/usr/local/lib/python3.10/dist-packages/sklearn/metrics/_classification.py\u001b[0m in \u001b[0;36m_check_targets\u001b[0;34m(y_true, y_pred)\u001b[0m\n\u001b[1;32m     84\u001b[0m     \u001b[0my_pred\u001b[0m \u001b[0;34m:\u001b[0m \u001b[0marray\u001b[0m \u001b[0;32mor\u001b[0m \u001b[0mindicator\u001b[0m \u001b[0mmatrix\u001b[0m\u001b[0;34m\u001b[0m\u001b[0;34m\u001b[0m\u001b[0m\n\u001b[1;32m     85\u001b[0m     \"\"\"\n\u001b[0;32m---> 86\u001b[0;31m     \u001b[0mcheck_consistent_length\u001b[0m\u001b[0;34m(\u001b[0m\u001b[0my_true\u001b[0m\u001b[0;34m,\u001b[0m \u001b[0my_pred\u001b[0m\u001b[0;34m)\u001b[0m\u001b[0;34m\u001b[0m\u001b[0;34m\u001b[0m\u001b[0m\n\u001b[0m\u001b[1;32m     87\u001b[0m     \u001b[0mtype_true\u001b[0m \u001b[0;34m=\u001b[0m \u001b[0mtype_of_target\u001b[0m\u001b[0;34m(\u001b[0m\u001b[0my_true\u001b[0m\u001b[0;34m,\u001b[0m \u001b[0minput_name\u001b[0m\u001b[0;34m=\u001b[0m\u001b[0;34m\"y_true\"\u001b[0m\u001b[0;34m)\u001b[0m\u001b[0;34m\u001b[0m\u001b[0;34m\u001b[0m\u001b[0m\n\u001b[1;32m     88\u001b[0m     \u001b[0mtype_pred\u001b[0m \u001b[0;34m=\u001b[0m \u001b[0mtype_of_target\u001b[0m\u001b[0;34m(\u001b[0m\u001b[0my_pred\u001b[0m\u001b[0;34m,\u001b[0m \u001b[0minput_name\u001b[0m\u001b[0;34m=\u001b[0m\u001b[0;34m\"y_pred\"\u001b[0m\u001b[0;34m)\u001b[0m\u001b[0;34m\u001b[0m\u001b[0;34m\u001b[0m\u001b[0m\n",
            "\u001b[0;32m/usr/local/lib/python3.10/dist-packages/sklearn/utils/validation.py\u001b[0m in \u001b[0;36mcheck_consistent_length\u001b[0;34m(*arrays)\u001b[0m\n\u001b[1;32m    395\u001b[0m     \u001b[0muniques\u001b[0m \u001b[0;34m=\u001b[0m \u001b[0mnp\u001b[0m\u001b[0;34m.\u001b[0m\u001b[0munique\u001b[0m\u001b[0;34m(\u001b[0m\u001b[0mlengths\u001b[0m\u001b[0;34m)\u001b[0m\u001b[0;34m\u001b[0m\u001b[0;34m\u001b[0m\u001b[0m\n\u001b[1;32m    396\u001b[0m     \u001b[0;32mif\u001b[0m \u001b[0mlen\u001b[0m\u001b[0;34m(\u001b[0m\u001b[0muniques\u001b[0m\u001b[0;34m)\u001b[0m \u001b[0;34m>\u001b[0m \u001b[0;36m1\u001b[0m\u001b[0;34m:\u001b[0m\u001b[0;34m\u001b[0m\u001b[0;34m\u001b[0m\u001b[0m\n\u001b[0;32m--> 397\u001b[0;31m         raise ValueError(\n\u001b[0m\u001b[1;32m    398\u001b[0m             \u001b[0;34m\"Found input variables with inconsistent numbers of samples: %r\"\u001b[0m\u001b[0;34m\u001b[0m\u001b[0;34m\u001b[0m\u001b[0m\n\u001b[1;32m    399\u001b[0m             \u001b[0;34m%\u001b[0m \u001b[0;34m[\u001b[0m\u001b[0mint\u001b[0m\u001b[0;34m(\u001b[0m\u001b[0ml\u001b[0m\u001b[0;34m)\u001b[0m \u001b[0;32mfor\u001b[0m \u001b[0ml\u001b[0m \u001b[0;32min\u001b[0m \u001b[0mlengths\u001b[0m\u001b[0;34m]\u001b[0m\u001b[0;34m\u001b[0m\u001b[0;34m\u001b[0m\u001b[0m\n",
            "\u001b[0;31mValueError\u001b[0m: Found input variables with inconsistent numbers of samples: [26772, 8237]"
          ]
        }
      ],
      "source": [
        "## À FAIRE: Imprimer les métriques d'évaluation du modèle (accuracy, précision, recall) sur le jeu d'entrainement\n",
        "accuracy_Train = accuracy_score(y_train, y_pred)\n",
        "precision_Train = precision_score(y_train, y_pred)\n",
        "recall_Train = recall_score(y_train, y_pred)"
      ]
    },
    {
      "cell_type": "code",
      "execution_count": null,
      "metadata": {
        "id": "TkMSlbKLVwS4"
      },
      "outputs": [],
      "source": [
        "# À FAIRE: Imprimer les métriques d'évaluation du modèle (accuracy, précision, recall) sur le jeu de validation\n"
      ]
    },
    {
      "cell_type": "markdown",
      "metadata": {
        "id": "WoE1VTCpVwS4"
      },
      "source": [
        "<div style=\"padding: 10px; margin:10px 0; background-color: rgba(31, 99, 180, 1); color: white; margin-bottom: 15px;\">\n",
        "💡 Question 8: Est-ce que ce modèle souffre de surapprentissage? Expliquer.\n",
        "</div>"
      ]
    },
    {
      "cell_type": "code",
      "execution_count": null,
      "metadata": {
        "id": "DtFU2k7wVwS4"
      },
      "outputs": [],
      "source": [
        "\"\"\"\n",
        "Réponse à la question 8:\n",
        "\n",
        "\"\"\""
      ]
    },
    {
      "cell_type": "markdown",
      "metadata": {
        "id": "nrcJZ7PlVwS4"
      },
      "source": [
        "<div style=\"padding: 10px; margin:10px 0; background-color: #FFEF4A; color: black; margin-bottom: 15px;\">\n",
        "<b>⚠️ Si vous éprouvez des difficultés à répondre à la question suivante, veuillez vous référer au tutoriel sur le surapprentissage qui est inscrit dans la section 0.1</b>\n",
        "</div>"
      ]
    },
    {
      "cell_type": "markdown",
      "metadata": {
        "id": "RMJhCXu7VwS4"
      },
      "source": [
        "<b>Prenez le temps de poser vos questions ci-dessous. Votre mentor y répondra.</b>"
      ]
    },
    {
      "cell_type": "code",
      "execution_count": null,
      "metadata": {
        "id": "3SzU3nr3VwS4"
      },
      "outputs": [],
      "source": [
        "\"\"\"\n",
        "Votre liste de questions:\n",
        "\n",
        "\n",
        "\"\"\""
      ]
    },
    {
      "cell_type": "markdown",
      "metadata": {
        "id": "o1rHroxNVwS4"
      },
      "source": [
        "<h3>Conclusion</h3>\n",
        "\n",
        "<p>Ses résultats ne sont pas très bons. Il ne serait pas recommandé d'utiliser le modèle qui a été créé dans ce notebook. Il y a plusieurs raisons qui peuvent expliquer son échec. Premièrement, les données que l'on fournit au modèle ont un grand effet sur les performances de celui-ci. Pensez-y bien. C'est effectivement de celles-ci dont il tire ses connaissances. Un pipeline robuste de création d'un modèle inclut habituellement une phase d'analyse des données qui nous permet de tirer des conclusions sur le jeu de données et d'y appliquer des transformations. Dans ce notebook, nous avons appliqué les transformations suivantes: données manquantes et encodage des données numériques, puisque celles-ci étaient obligatoires. Sans ces transformations, le modèle n'aurait pas accepté les données d'entraînement et une erreur se serait produite dans le code. Une multitude d'autres transformations existent. Afin d'améliorer les performances du modèle, ces phases devraient être réalisées.</p>\n",
        "\n",
        "<p>De plus, la fonction que nous avons utilisée pour créer ce modèle peut prendre des paramètres en entrée. Ses paramètres permettent de faire une optimisation du modèle et d'obtenir des résultats souvent largement supérieurs à ceux que vous apercevez plus haut ainsi que de contrer le surapprentissage. Une optimisation de celui-ci aurait donc été nécessaire.\n",
        "\n",
        "<div style=\"padding: 10px; margin:10px 0; background-color: #256561; color: white; margin-bottom: 15px;\">\n",
        "👍 Félicitation. Vous avez complété le notebook éducatif sur l'introduction à l'apprentissage automatique.\n",
        "</div></p>\n"
      ]
    }
  ],
  "metadata": {
    "kernelspec": {
      "display_name": "Python 3.6",
      "language": "python",
      "name": "python3"
    },
    "language_info": {
      "codemirror_mode": {
        "name": "ipython",
        "version": 3
      },
      "file_extension": ".py",
      "mimetype": "text/x-python",
      "name": "python",
      "nbconvert_exporter": "python",
      "pygments_lexer": "ipython3",
      "version": "3.6.8"
    },
    "colab": {
      "provenance": [],
      "include_colab_link": true
    }
  },
  "nbformat": 4,
  "nbformat_minor": 0
}